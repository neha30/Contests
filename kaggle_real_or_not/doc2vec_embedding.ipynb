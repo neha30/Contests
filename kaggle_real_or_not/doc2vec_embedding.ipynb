{
 "cells": [
  {
   "cell_type": "code",
   "execution_count": 2,
   "metadata": {},
   "outputs": [
    {
     "name": "stderr",
     "output_type": "stream",
     "text": [
      "/Users/nehapawar/Desktop/neha/venv3/lib/python3.7/site-packages/tqdm/std.py:658: FutureWarning: The Panel class is removed from pandas. Accessing it from the top-level namespace will also be removed in the next version\n",
      "  from pandas import Panel\n"
     ]
    }
   ],
   "source": [
    "import pandas as pd\n",
    "import numpy as np\n",
    "import matplotlib.pyplot as plt\n",
    "from tqdm import tqdm\n",
    "import seaborn as sns\n",
    "import re\n",
    "import string\n",
    "from nltk.corpus import stopwords\n",
    "from nltk.stem import SnowballStemmer\n",
    "from string import punctuation\n",
    "from nltk.stem.wordnet import WordNetLemmatizer\n",
    "from sklearn.feature_extraction.text import TfidfVectorizer, CountVectorizer\n",
    "from smart_open import open\n",
    "from sklearn import preprocessing\n",
    "from sklearn.model_selection import train_test_split\n",
    "from sklearn.preprocessing import MultiLabelBinarizer\n",
    "from sklearn.naive_bayes import MultinomialNB\n",
    "from sklearn.linear_model import SGDClassifier\n",
    "from sklearn.linear_model import LogisticRegression\n",
    "from sklearn import svm\n",
    "from sklearn.metrics import f1_score\n",
    "from sklearn import metrics\n",
    "from sklearn.metrics import confusion_matrix \n",
    "from sklearn.metrics import accuracy_score \n",
    "from sklearn.metrics import classification_report\n",
    "from sklearn.ensemble import RandomForestClassifier\n",
    "from sklearn.metrics import mean_squared_error,confusion_matrix, precision_score, recall_score, auc,roc_curve\n",
    "from sklearn.ensemble import GradientBoostingClassifier\n",
    "from sklearn.ensemble import AdaBoostClassifier\n",
    "from sklearn.pipeline import Pipeline\n",
    "from sklearn.multiclass import OneVsRestClassifier\n",
    "from sklearn.svm import LinearSVC\n",
    "from sklearn.base import BaseEstimator\n",
    "from sklearn.model_selection import GridSearchCV \n",
    "from sklearn.discriminant_analysis import LinearDiscriminantAnalysis\n",
    "\n",
    "\n",
    "import collections\n",
    "from gensim.models.doc2vec import Doc2Vec, TaggedDocument\n",
    "from nltk.tokenize import word_tokenize\n",
    "from sklearn.decomposition import PCA\n",
    "from sklearn.preprocessing import StandardScaler\n",
    "\n",
    "import joblib\n",
    "\n",
    "\n",
    "tqdm.pandas()\n",
    "%matplotlib inline"
   ]
  },
  {
   "cell_type": "code",
   "execution_count": 13,
   "metadata": {},
   "outputs": [
    {
     "data": {
      "text/html": [
       "<div>\n",
       "<style scoped>\n",
       "    .dataframe tbody tr th:only-of-type {\n",
       "        vertical-align: middle;\n",
       "    }\n",
       "\n",
       "    .dataframe tbody tr th {\n",
       "        vertical-align: top;\n",
       "    }\n",
       "\n",
       "    .dataframe thead th {\n",
       "        text-align: right;\n",
       "    }\n",
       "</style>\n",
       "<table border=\"1\" class=\"dataframe\">\n",
       "  <thead>\n",
       "    <tr style=\"text-align: right;\">\n",
       "      <th></th>\n",
       "      <th>id</th>\n",
       "      <th>keyword</th>\n",
       "      <th>location</th>\n",
       "      <th>text</th>\n",
       "      <th>target</th>\n",
       "    </tr>\n",
       "  </thead>\n",
       "  <tbody>\n",
       "    <tr>\n",
       "      <th>0</th>\n",
       "      <td>1</td>\n",
       "      <td>NaN</td>\n",
       "      <td>NaN</td>\n",
       "      <td>Our Deeds are the Reason of this #earthquake M...</td>\n",
       "      <td>1</td>\n",
       "    </tr>\n",
       "    <tr>\n",
       "      <th>1</th>\n",
       "      <td>4</td>\n",
       "      <td>NaN</td>\n",
       "      <td>NaN</td>\n",
       "      <td>Forest fire near La Ronge Sask. Canada</td>\n",
       "      <td>1</td>\n",
       "    </tr>\n",
       "    <tr>\n",
       "      <th>2</th>\n",
       "      <td>5</td>\n",
       "      <td>NaN</td>\n",
       "      <td>NaN</td>\n",
       "      <td>All residents asked to 'shelter in place' are ...</td>\n",
       "      <td>1</td>\n",
       "    </tr>\n",
       "    <tr>\n",
       "      <th>3</th>\n",
       "      <td>6</td>\n",
       "      <td>NaN</td>\n",
       "      <td>NaN</td>\n",
       "      <td>13,000 people receive #wildfires evacuation or...</td>\n",
       "      <td>1</td>\n",
       "    </tr>\n",
       "    <tr>\n",
       "      <th>4</th>\n",
       "      <td>7</td>\n",
       "      <td>NaN</td>\n",
       "      <td>NaN</td>\n",
       "      <td>Just got sent this photo from Ruby #Alaska as ...</td>\n",
       "      <td>1</td>\n",
       "    </tr>\n",
       "  </tbody>\n",
       "</table>\n",
       "</div>"
      ],
      "text/plain": [
       "   id keyword location                                               text  \\\n",
       "0   1     NaN      NaN  Our Deeds are the Reason of this #earthquake M...   \n",
       "1   4     NaN      NaN             Forest fire near La Ronge Sask. Canada   \n",
       "2   5     NaN      NaN  All residents asked to 'shelter in place' are ...   \n",
       "3   6     NaN      NaN  13,000 people receive #wildfires evacuation or...   \n",
       "4   7     NaN      NaN  Just got sent this photo from Ruby #Alaska as ...   \n",
       "\n",
       "   target  \n",
       "0       1  \n",
       "1       1  \n",
       "2       1  \n",
       "3       1  \n",
       "4       1  "
      ]
     },
     "execution_count": 13,
     "metadata": {},
     "output_type": "execute_result"
    }
   ],
   "source": [
    "train = pd.read_csv('../data/nlp_tweet_data/train.csv')\n",
    "train.head()"
   ]
  },
  {
   "cell_type": "code",
   "execution_count": 14,
   "metadata": {},
   "outputs": [
    {
     "data": {
      "text/plain": [
       "(7613, 5)"
      ]
     },
     "execution_count": 14,
     "metadata": {},
     "output_type": "execute_result"
    }
   ],
   "source": [
    "train.shape"
   ]
  },
  {
   "cell_type": "code",
   "execution_count": 15,
   "metadata": {},
   "outputs": [
    {
     "data": {
      "text/html": [
       "<div>\n",
       "<style scoped>\n",
       "    .dataframe tbody tr th:only-of-type {\n",
       "        vertical-align: middle;\n",
       "    }\n",
       "\n",
       "    .dataframe tbody tr th {\n",
       "        vertical-align: top;\n",
       "    }\n",
       "\n",
       "    .dataframe thead th {\n",
       "        text-align: right;\n",
       "    }\n",
       "</style>\n",
       "<table border=\"1\" class=\"dataframe\">\n",
       "  <thead>\n",
       "    <tr style=\"text-align: right;\">\n",
       "      <th></th>\n",
       "      <th>id</th>\n",
       "      <th>keyword</th>\n",
       "      <th>location</th>\n",
       "      <th>text</th>\n",
       "      <th>target</th>\n",
       "    </tr>\n",
       "  </thead>\n",
       "  <tbody>\n",
       "    <tr>\n",
       "      <th>0</th>\n",
       "      <td>1</td>\n",
       "      <td>NaN</td>\n",
       "      <td>NaN</td>\n",
       "      <td>Our Deeds are the Reason of this #earthquake M...</td>\n",
       "      <td>1</td>\n",
       "    </tr>\n",
       "    <tr>\n",
       "      <th>1</th>\n",
       "      <td>4</td>\n",
       "      <td>NaN</td>\n",
       "      <td>NaN</td>\n",
       "      <td>Forest fire near La Ronge Sask. Canada</td>\n",
       "      <td>1</td>\n",
       "    </tr>\n",
       "    <tr>\n",
       "      <th>2</th>\n",
       "      <td>5</td>\n",
       "      <td>NaN</td>\n",
       "      <td>NaN</td>\n",
       "      <td>All residents asked to 'shelter in place' are ...</td>\n",
       "      <td>1</td>\n",
       "    </tr>\n",
       "    <tr>\n",
       "      <th>3</th>\n",
       "      <td>6</td>\n",
       "      <td>NaN</td>\n",
       "      <td>NaN</td>\n",
       "      <td>13,000 people receive #wildfires evacuation or...</td>\n",
       "      <td>1</td>\n",
       "    </tr>\n",
       "    <tr>\n",
       "      <th>4</th>\n",
       "      <td>7</td>\n",
       "      <td>NaN</td>\n",
       "      <td>NaN</td>\n",
       "      <td>Just got sent this photo from Ruby #Alaska as ...</td>\n",
       "      <td>1</td>\n",
       "    </tr>\n",
       "  </tbody>\n",
       "</table>\n",
       "</div>"
      ],
      "text/plain": [
       "   id keyword location                                               text  \\\n",
       "0   1     NaN      NaN  Our Deeds are the Reason of this #earthquake M...   \n",
       "1   4     NaN      NaN             Forest fire near La Ronge Sask. Canada   \n",
       "2   5     NaN      NaN  All residents asked to 'shelter in place' are ...   \n",
       "3   6     NaN      NaN  13,000 people receive #wildfires evacuation or...   \n",
       "4   7     NaN      NaN  Just got sent this photo from Ruby #Alaska as ...   \n",
       "\n",
       "   target  \n",
       "0       1  \n",
       "1       1  \n",
       "2       1  \n",
       "3       1  \n",
       "4       1  "
      ]
     },
     "execution_count": 15,
     "metadata": {},
     "output_type": "execute_result"
    }
   ],
   "source": [
    "train.head()"
   ]
  },
  {
   "cell_type": "code",
   "execution_count": 16,
   "metadata": {},
   "outputs": [
    {
     "data": {
      "text/html": [
       "<div>\n",
       "<style scoped>\n",
       "    .dataframe tbody tr th:only-of-type {\n",
       "        vertical-align: middle;\n",
       "    }\n",
       "\n",
       "    .dataframe tbody tr th {\n",
       "        vertical-align: top;\n",
       "    }\n",
       "\n",
       "    .dataframe thead th {\n",
       "        text-align: right;\n",
       "    }\n",
       "</style>\n",
       "<table border=\"1\" class=\"dataframe\">\n",
       "  <thead>\n",
       "    <tr style=\"text-align: right;\">\n",
       "      <th></th>\n",
       "      <th>id</th>\n",
       "      <th>keyword</th>\n",
       "      <th>location</th>\n",
       "      <th>text</th>\n",
       "    </tr>\n",
       "  </thead>\n",
       "  <tbody>\n",
       "    <tr>\n",
       "      <th>0</th>\n",
       "      <td>0</td>\n",
       "      <td>NaN</td>\n",
       "      <td>NaN</td>\n",
       "      <td>Just happened a terrible car crash</td>\n",
       "    </tr>\n",
       "    <tr>\n",
       "      <th>1</th>\n",
       "      <td>2</td>\n",
       "      <td>NaN</td>\n",
       "      <td>NaN</td>\n",
       "      <td>Heard about #earthquake is different cities, s...</td>\n",
       "    </tr>\n",
       "    <tr>\n",
       "      <th>2</th>\n",
       "      <td>3</td>\n",
       "      <td>NaN</td>\n",
       "      <td>NaN</td>\n",
       "      <td>there is a forest fire at spot pond, geese are...</td>\n",
       "    </tr>\n",
       "    <tr>\n",
       "      <th>3</th>\n",
       "      <td>9</td>\n",
       "      <td>NaN</td>\n",
       "      <td>NaN</td>\n",
       "      <td>Apocalypse lighting. #Spokane #wildfires</td>\n",
       "    </tr>\n",
       "    <tr>\n",
       "      <th>4</th>\n",
       "      <td>11</td>\n",
       "      <td>NaN</td>\n",
       "      <td>NaN</td>\n",
       "      <td>Typhoon Soudelor kills 28 in China and Taiwan</td>\n",
       "    </tr>\n",
       "  </tbody>\n",
       "</table>\n",
       "</div>"
      ],
      "text/plain": [
       "   id keyword location                                               text\n",
       "0   0     NaN      NaN                 Just happened a terrible car crash\n",
       "1   2     NaN      NaN  Heard about #earthquake is different cities, s...\n",
       "2   3     NaN      NaN  there is a forest fire at spot pond, geese are...\n",
       "3   9     NaN      NaN           Apocalypse lighting. #Spokane #wildfires\n",
       "4  11     NaN      NaN      Typhoon Soudelor kills 28 in China and Taiwan"
      ]
     },
     "execution_count": 16,
     "metadata": {},
     "output_type": "execute_result"
    }
   ],
   "source": [
    "test = pd.read_csv('../data/nlp_tweet_data/test.csv')\n",
    "test.head()"
   ]
  },
  {
   "cell_type": "code",
   "execution_count": 17,
   "metadata": {},
   "outputs": [
    {
     "data": {
      "text/plain": [
       "(3263, 4)"
      ]
     },
     "execution_count": 17,
     "metadata": {},
     "output_type": "execute_result"
    }
   ],
   "source": [
    "test.shape"
   ]
  },
  {
   "cell_type": "code",
   "execution_count": 18,
   "metadata": {},
   "outputs": [],
   "source": [
    "class_indexes = list(train['target'].value_counts().index)"
   ]
  },
  {
   "cell_type": "code",
   "execution_count": 19,
   "metadata": {},
   "outputs": [],
   "source": [
    "all_data = train.append(test)"
   ]
  },
  {
   "cell_type": "markdown",
   "metadata": {},
   "source": [
    "## Preprocessing"
   ]
  },
  {
   "cell_type": "code",
   "execution_count": 23,
   "metadata": {},
   "outputs": [],
   "source": [
    " def clean_text(text, remove_stopwords=True, stem_words=False, lemma=True):\n",
    "    # Clean the text, with the option to remove stopwords and to stem words.\n",
    "\n",
    "        text = str(text).lower().split()\n",
    "\n",
    "        # Optionally, remove stop words\n",
    "#         if remove_stopwords:\n",
    "#             stops = set(stopwords.words(\"english\"))\n",
    "#             text = [w for w in text if not w in stops]\n",
    "\n",
    "        text = \" \".join(text)\n",
    "        \n",
    "        # remove URLs\n",
    "        url = re.compile(r'https?://\\S+|www\\.\\S+')\n",
    "        text = url.sub(r'',text)\n",
    "        \n",
    "        # remove html tags\n",
    "        text = re.sub(r'<.*?>', \"\", text)\n",
    "        \n",
    "        # remove emoji\n",
    "        emoji_pattern = re.compile(\"[\"\n",
    "                           u\"\\U0001F600-\\U0001F64F\"  # emoticons\n",
    "                           u\"\\U0001F300-\\U0001F5FF\"  # symbols & pictographs\n",
    "                           u\"\\U0001F680-\\U0001F6FF\"  # transport & map symbols\n",
    "                           u\"\\U0001F1E0-\\U0001F1FF\"  # flags (iOS)\n",
    "                           u\"\\U00002702-\\U000027B0\"\n",
    "                           u\"\\U000024C2-\\U0001F251\"\n",
    "                           \"]+\", flags=re.UNICODE)\n",
    "        \n",
    "        \n",
    "        text = emoji_pattern.sub(r'', text)\n",
    "        \n",
    "        # remove punctuation from text\n",
    "        text  = \"\".join([char for char in text if char not in string.punctuation])\n",
    "\n",
    "        # Clean the text\n",
    "        text = re.sub(r\"[-()\\\"#/<>!@&;*:<>{}`'+=~%|.!?,_]\", \" \", text)\n",
    "        text = re.sub(r\"\\]\", \" \", text)\n",
    "        text = re.sub(r\"\\[\", \" \", text)\n",
    "        text = re.sub(r\"\\/\", \" \", text)\n",
    "        text = re.sub(r\"\\\\\", \" \", text)\n",
    "        text = re.sub(r\"\\'ve\", \" have \", text)\n",
    "        text = re.sub(r\"can't\", \"cannot \", text)\n",
    "        text = re.sub(r\"n't\", \" not \", text)\n",
    "        text = re.sub(r\"\\'re\", \" are \", text)\n",
    "        text = re.sub(r\"\\'d\", \" would \", text)\n",
    "        text = re.sub(r\"\\'ll\", \" will \", text)\n",
    "        text = re.sub(r\"  \", \" \", text)\n",
    "        text = re.sub(r\"   \", \" \", text)\n",
    "        text = re.sub(r\"   \", \" \", text)\n",
    "        text = re.sub(r\"0x00\", \"\", text)\n",
    "        \n",
    "        \n",
    "\n",
    "        # Optionally, shorten words to their stems\n",
    "        if stem_words:\n",
    "            text = text.split()\n",
    "            stemmer = SnowballStemmer('english')\n",
    "            stemmed_words = [stemmer.stem(word) for word in text]\n",
    "            text = \" \".join(stemmed_words)\n",
    "\n",
    "        if lemma:\n",
    "            text = text.split()\n",
    "            lem = WordNetLemmatizer()\n",
    "            lemmatized = [lem.lemmatize(word,\"v\") for word in text]\n",
    "            text = \" \".join(lemmatized)\n",
    "\n",
    "        # Return a list of words\n",
    "        return(text)"
   ]
  },
  {
   "cell_type": "code",
   "execution_count": 24,
   "metadata": {
    "scrolled": false
   },
   "outputs": [
    {
     "name": "stderr",
     "output_type": "stream",
     "text": [
      "\n",
      "  0%|          | 0/10876 [00:00<?, ?it/s]\u001b[A\n",
      "  9%|▊         | 943/10876 [00:00<00:01, 9425.11it/s]\u001b[A\n",
      " 18%|█▊        | 1947/10876 [00:00<00:00, 9601.49it/s]\u001b[A\n",
      " 28%|██▊       | 3087/10876 [00:00<00:00, 10077.84it/s]\u001b[A\n",
      " 39%|███▊      | 4202/10876 [00:00<00:00, 10376.21it/s]\u001b[A\n",
      " 47%|████▋     | 5149/10876 [00:00<00:00, 10083.67it/s]\u001b[A\n",
      " 57%|█████▋    | 6216/10876 [00:00<00:00, 10252.67it/s]\u001b[A\n",
      " 66%|██████▌   | 7202/10876 [00:00<00:00, 10131.50it/s]\u001b[A\n",
      " 75%|███████▌  | 8184/10876 [00:00<00:00, 10035.44it/s]\u001b[A\n",
      " 84%|████████▍ | 9146/10876 [00:00<00:00, 9905.27it/s] \u001b[A\n",
      "100%|██████████| 10876/10876 [00:01<00:00, 9893.26it/s]\u001b[A\n"
     ]
    }
   ],
   "source": [
    "all_data['text'] = all_data['text'].progress_apply(lambda x:clean_text(x))"
   ]
  },
  {
   "cell_type": "code",
   "execution_count": 25,
   "metadata": {
    "scrolled": true
   },
   "outputs": [
    {
     "name": "stderr",
     "output_type": "stream",
     "text": [
      "\n",
      "  0%|          | 0/7613 [00:00<?, ?it/s]\u001b[A\n",
      " 12%|█▏        | 916/7613 [00:00<00:00, 9150.58it/s]\u001b[A\n",
      " 25%|██▌       | 1939/7613 [00:00<00:00, 9449.52it/s]\u001b[A\n",
      " 38%|███▊      | 2918/7613 [00:00<00:00, 9547.53it/s]\u001b[A\n",
      " 53%|█████▎    | 4044/7613 [00:00<00:00, 10002.77it/s]\u001b[A\n",
      " 68%|██████▊   | 5191/7613 [00:00<00:00, 10399.92it/s]\u001b[A\n",
      " 84%|████████▎ | 6367/7613 [00:00<00:00, 10773.30it/s]\u001b[A\n",
      "100%|██████████| 7613/7613 [00:00<00:00, 10651.57it/s]\u001b[A\n"
     ]
    }
   ],
   "source": [
    "train['text'] = train['text'].progress_apply(lambda x:clean_text(x))"
   ]
  },
  {
   "cell_type": "code",
   "execution_count": 26,
   "metadata": {},
   "outputs": [
    {
     "name": "stderr",
     "output_type": "stream",
     "text": [
      "\n",
      "  0%|          | 0/3263 [00:00<?, ?it/s]\u001b[A\n",
      " 27%|██▋       | 881/3263 [00:00<00:00, 8804.99it/s]\u001b[A\n",
      " 59%|█████▉    | 1933/3263 [00:00<00:00, 9255.81it/s]\u001b[A\n",
      "100%|██████████| 3263/3263 [00:00<00:00, 10281.28it/s][A\n"
     ]
    }
   ],
   "source": [
    "test['text'] = test['text'].progress_apply(lambda x:clean_text(x))"
   ]
  },
  {
   "cell_type": "markdown",
   "metadata": {},
   "source": [
    "## DOc2vec embedding"
   ]
  },
  {
   "cell_type": "code",
   "execution_count": 27,
   "metadata": {},
   "outputs": [],
   "source": [
    "tagged_data = [TaggedDocument(words=word_tokenize(_d.lower()), tags=[str(i)]) for i, _d in enumerate(all_data['text'])]"
   ]
  },
  {
   "cell_type": "code",
   "execution_count": 28,
   "metadata": {},
   "outputs": [
    {
     "data": {
      "text/plain": [
       "TaggedDocument(words=['forest', 'fire', 'near', 'la', 'ronge', 'sask', 'canada'], tags=['1'])"
      ]
     },
     "execution_count": 28,
     "metadata": {},
     "output_type": "execute_result"
    }
   ],
   "source": [
    "tagged_data[1]"
   ]
  },
  {
   "cell_type": "markdown",
   "metadata": {},
   "source": [
    "### Vocab building"
   ]
  },
  {
   "cell_type": "code",
   "execution_count": 29,
   "metadata": {},
   "outputs": [
    {
     "name": "stderr",
     "output_type": "stream",
     "text": [
      "/Users/nehapawar/Desktop/neha/venv3/lib/python3.7/site-packages/gensim/models/doc2vec.py:574: UserWarning: The parameter `size` is deprecated, will be removed in 4.0.0, use `vector_size` instead.\n",
      "  warnings.warn(\"The parameter `size` is deprecated, will be removed in 4.0.0, use `vector_size` instead.\")\n"
     ]
    }
   ],
   "source": [
    "max_epochs = 100\n",
    "vec_size = 100\n",
    "alpha = 0.025\n",
    "\n",
    "model = Doc2Vec(size=vec_size,\n",
    "                alpha=alpha, \n",
    "                min_alpha=0.00025,\n",
    "                min_count=1,\n",
    "                dm =1,\n",
    "                workers=12)\n",
    "  \n",
    "model.build_vocab(tagged_data)"
   ]
  },
  {
   "cell_type": "markdown",
   "metadata": {},
   "source": [
    "### Build Doc2vec model"
   ]
  },
  {
   "cell_type": "code",
   "execution_count": 30,
   "metadata": {
    "scrolled": true
   },
   "outputs": [
    {
     "name": "stdout",
     "output_type": "stream",
     "text": [
      "iteration 0\n"
     ]
    },
    {
     "name": "stderr",
     "output_type": "stream",
     "text": [
      "/Users/nehapawar/Desktop/neha/venv3/lib/python3.7/site-packages/ipykernel_launcher.py:5: DeprecationWarning: Call to deprecated `iter` (Attribute will be removed in 4.0.0, use self.epochs instead).\n",
      "  \"\"\"\n"
     ]
    },
    {
     "name": "stdout",
     "output_type": "stream",
     "text": [
      "iteration 1\n",
      "iteration 2\n",
      "iteration 3\n",
      "iteration 4\n",
      "iteration 5\n",
      "iteration 6\n",
      "iteration 7\n",
      "iteration 8\n",
      "iteration 9\n",
      "iteration 10\n",
      "iteration 11\n",
      "iteration 12\n",
      "iteration 13\n",
      "iteration 14\n",
      "iteration 15\n",
      "iteration 16\n",
      "iteration 17\n",
      "iteration 18\n",
      "iteration 19\n",
      "iteration 20\n",
      "iteration 21\n",
      "iteration 22\n",
      "iteration 23\n",
      "iteration 24\n",
      "iteration 25\n",
      "iteration 26\n",
      "iteration 27\n",
      "iteration 28\n",
      "iteration 29\n",
      "iteration 30\n",
      "iteration 31\n",
      "iteration 32\n",
      "iteration 33\n",
      "iteration 34\n",
      "iteration 35\n",
      "iteration 36\n",
      "iteration 37\n",
      "iteration 38\n",
      "iteration 39\n",
      "iteration 40\n",
      "iteration 41\n",
      "iteration 42\n",
      "iteration 43\n",
      "iteration 44\n",
      "iteration 45\n",
      "iteration 46\n",
      "iteration 47\n",
      "iteration 48\n",
      "iteration 49\n",
      "iteration 50\n",
      "iteration 51\n",
      "iteration 52\n",
      "iteration 53\n",
      "iteration 54\n",
      "iteration 55\n",
      "iteration 56\n",
      "iteration 57\n",
      "iteration 58\n",
      "iteration 59\n",
      "iteration 60\n",
      "iteration 61\n",
      "iteration 62\n",
      "iteration 63\n",
      "iteration 64\n",
      "iteration 65\n",
      "iteration 66\n",
      "iteration 67\n",
      "iteration 68\n",
      "iteration 69\n",
      "iteration 70\n",
      "iteration 71\n",
      "iteration 72\n",
      "iteration 73\n",
      "iteration 74\n",
      "iteration 75\n",
      "iteration 76\n",
      "iteration 77\n",
      "iteration 78\n",
      "iteration 79\n",
      "iteration 80\n",
      "iteration 81\n",
      "iteration 82\n",
      "iteration 83\n",
      "iteration 84\n",
      "iteration 85\n",
      "iteration 86\n",
      "iteration 87\n",
      "iteration 88\n",
      "iteration 89\n",
      "iteration 90\n",
      "iteration 91\n",
      "iteration 92\n",
      "iteration 93\n",
      "iteration 94\n",
      "iteration 95\n",
      "iteration 96\n",
      "iteration 97\n",
      "iteration 98\n",
      "iteration 99\n",
      "Model Saved\n"
     ]
    }
   ],
   "source": [
    "for epoch in range(max_epochs):\n",
    "    print('iteration {0}'.format(epoch))\n",
    "    model.train(tagged_data,\n",
    "                total_examples=model.corpus_count,\n",
    "                epochs=model.iter)\n",
    "    # decrease the learning rate\n",
    "    model.alpha -= 0.0002\n",
    "    # fix the learning rate, no decay\n",
    "    model.min_alpha = model.alpha\n",
    "\n",
    "model.save(\"tweet_doc2vec100.model\")\n",
    "print(\"Model Saved\")"
   ]
  },
  {
   "cell_type": "code",
   "execution_count": 3,
   "metadata": {},
   "outputs": [
    {
     "name": "stdout",
     "output_type": "stream",
     "text": [
      "[('9591', 0.6279910802841187), ('9868', 0.6237337589263916), ('3559', 0.6229166984558105), ('7601', 0.6228505373001099), ('9869', 0.613094687461853), ('6404', 0.6118631958961487), ('4024', 0.6118152737617493), ('4374', 0.6099222898483276), ('8964', 0.6078821420669556), ('5287', 0.6076231002807617)]\n"
     ]
    }
   ],
   "source": [
    "model= Doc2Vec.load(\"tweet_doc2vec100.model\")\n",
    "similar_doc = model.docvecs.most_similar('1')\n",
    "print(similar_doc)"
   ]
  },
  {
   "cell_type": "markdown",
   "metadata": {},
   "source": [
    "## convert doc2vec vectors to dataframe"
   ]
  },
  {
   "cell_type": "code",
   "execution_count": 4,
   "metadata": {},
   "outputs": [],
   "source": [
    "data_list =[]\n",
    "for i in range(len(model.docvecs)):\n",
    "    data_list.append(model.docvecs[i])"
   ]
  },
  {
   "cell_type": "code",
   "execution_count": 5,
   "metadata": {},
   "outputs": [],
   "source": [
    "columns_name = [str(i) for i in range(len(model.docvecs[0]))]"
   ]
  },
  {
   "cell_type": "code",
   "execution_count": 6,
   "metadata": {},
   "outputs": [
    {
     "data": {
      "text/html": [
       "<div>\n",
       "<style scoped>\n",
       "    .dataframe tbody tr th:only-of-type {\n",
       "        vertical-align: middle;\n",
       "    }\n",
       "\n",
       "    .dataframe tbody tr th {\n",
       "        vertical-align: top;\n",
       "    }\n",
       "\n",
       "    .dataframe thead th {\n",
       "        text-align: right;\n",
       "    }\n",
       "</style>\n",
       "<table border=\"1\" class=\"dataframe\">\n",
       "  <thead>\n",
       "    <tr style=\"text-align: right;\">\n",
       "      <th></th>\n",
       "      <th>0</th>\n",
       "      <th>1</th>\n",
       "      <th>2</th>\n",
       "      <th>3</th>\n",
       "      <th>4</th>\n",
       "      <th>5</th>\n",
       "      <th>6</th>\n",
       "      <th>7</th>\n",
       "      <th>8</th>\n",
       "      <th>9</th>\n",
       "      <th>...</th>\n",
       "      <th>90</th>\n",
       "      <th>91</th>\n",
       "      <th>92</th>\n",
       "      <th>93</th>\n",
       "      <th>94</th>\n",
       "      <th>95</th>\n",
       "      <th>96</th>\n",
       "      <th>97</th>\n",
       "      <th>98</th>\n",
       "      <th>99</th>\n",
       "    </tr>\n",
       "  </thead>\n",
       "  <tbody>\n",
       "    <tr>\n",
       "      <th>0</th>\n",
       "      <td>-1.061418</td>\n",
       "      <td>-0.658497</td>\n",
       "      <td>1.141718</td>\n",
       "      <td>0.362860</td>\n",
       "      <td>-0.301296</td>\n",
       "      <td>0.689475</td>\n",
       "      <td>-0.309432</td>\n",
       "      <td>-0.662339</td>\n",
       "      <td>-0.946257</td>\n",
       "      <td>-0.994770</td>\n",
       "      <td>...</td>\n",
       "      <td>-0.544082</td>\n",
       "      <td>0.882815</td>\n",
       "      <td>0.196985</td>\n",
       "      <td>0.963130</td>\n",
       "      <td>1.541587</td>\n",
       "      <td>-2.296058</td>\n",
       "      <td>-1.490150</td>\n",
       "      <td>0.050199</td>\n",
       "      <td>0.733693</td>\n",
       "      <td>-0.091885</td>\n",
       "    </tr>\n",
       "    <tr>\n",
       "      <th>1</th>\n",
       "      <td>-1.464768</td>\n",
       "      <td>-0.177376</td>\n",
       "      <td>0.287824</td>\n",
       "      <td>0.697856</td>\n",
       "      <td>-0.568696</td>\n",
       "      <td>-1.255014</td>\n",
       "      <td>1.256701</td>\n",
       "      <td>0.918978</td>\n",
       "      <td>0.004081</td>\n",
       "      <td>-1.072622</td>\n",
       "      <td>...</td>\n",
       "      <td>0.327433</td>\n",
       "      <td>-0.791861</td>\n",
       "      <td>-0.970982</td>\n",
       "      <td>0.281654</td>\n",
       "      <td>-0.614386</td>\n",
       "      <td>-1.861613</td>\n",
       "      <td>0.025999</td>\n",
       "      <td>-1.042492</td>\n",
       "      <td>1.319019</td>\n",
       "      <td>-0.986730</td>\n",
       "    </tr>\n",
       "    <tr>\n",
       "      <th>2</th>\n",
       "      <td>-1.929028</td>\n",
       "      <td>-1.917409</td>\n",
       "      <td>-0.757777</td>\n",
       "      <td>-0.104110</td>\n",
       "      <td>-0.966330</td>\n",
       "      <td>-0.910487</td>\n",
       "      <td>-3.479542</td>\n",
       "      <td>0.110322</td>\n",
       "      <td>1.149374</td>\n",
       "      <td>0.402792</td>\n",
       "      <td>...</td>\n",
       "      <td>-2.469684</td>\n",
       "      <td>-0.357296</td>\n",
       "      <td>-0.843963</td>\n",
       "      <td>2.351099</td>\n",
       "      <td>1.811956</td>\n",
       "      <td>-1.120807</td>\n",
       "      <td>-0.209483</td>\n",
       "      <td>0.300716</td>\n",
       "      <td>-2.371535</td>\n",
       "      <td>-1.376580</td>\n",
       "    </tr>\n",
       "    <tr>\n",
       "      <th>3</th>\n",
       "      <td>0.315675</td>\n",
       "      <td>-0.693003</td>\n",
       "      <td>-0.073327</td>\n",
       "      <td>0.324613</td>\n",
       "      <td>-0.344630</td>\n",
       "      <td>-1.148678</td>\n",
       "      <td>0.985929</td>\n",
       "      <td>0.707743</td>\n",
       "      <td>0.643048</td>\n",
       "      <td>-1.623439</td>\n",
       "      <td>...</td>\n",
       "      <td>-0.110355</td>\n",
       "      <td>0.389682</td>\n",
       "      <td>-0.887516</td>\n",
       "      <td>1.045496</td>\n",
       "      <td>1.369216</td>\n",
       "      <td>-1.408472</td>\n",
       "      <td>1.348342</td>\n",
       "      <td>-1.010036</td>\n",
       "      <td>-0.205508</td>\n",
       "      <td>0.039418</td>\n",
       "    </tr>\n",
       "    <tr>\n",
       "      <th>4</th>\n",
       "      <td>-1.415022</td>\n",
       "      <td>1.635497</td>\n",
       "      <td>2.423945</td>\n",
       "      <td>-1.695841</td>\n",
       "      <td>-1.611031</td>\n",
       "      <td>-1.438862</td>\n",
       "      <td>-0.911103</td>\n",
       "      <td>1.775517</td>\n",
       "      <td>0.194402</td>\n",
       "      <td>-0.935757</td>\n",
       "      <td>...</td>\n",
       "      <td>1.183218</td>\n",
       "      <td>0.792407</td>\n",
       "      <td>-0.939738</td>\n",
       "      <td>0.004032</td>\n",
       "      <td>-1.177880</td>\n",
       "      <td>2.408663</td>\n",
       "      <td>-0.145930</td>\n",
       "      <td>-1.377579</td>\n",
       "      <td>0.458585</td>\n",
       "      <td>-0.670303</td>\n",
       "    </tr>\n",
       "  </tbody>\n",
       "</table>\n",
       "<p>5 rows × 100 columns</p>\n",
       "</div>"
      ],
      "text/plain": [
       "          0         1         2         3         4         5         6  \\\n",
       "0 -1.061418 -0.658497  1.141718  0.362860 -0.301296  0.689475 -0.309432   \n",
       "1 -1.464768 -0.177376  0.287824  0.697856 -0.568696 -1.255014  1.256701   \n",
       "2 -1.929028 -1.917409 -0.757777 -0.104110 -0.966330 -0.910487 -3.479542   \n",
       "3  0.315675 -0.693003 -0.073327  0.324613 -0.344630 -1.148678  0.985929   \n",
       "4 -1.415022  1.635497  2.423945 -1.695841 -1.611031 -1.438862 -0.911103   \n",
       "\n",
       "          7         8         9  ...        90        91        92        93  \\\n",
       "0 -0.662339 -0.946257 -0.994770  ... -0.544082  0.882815  0.196985  0.963130   \n",
       "1  0.918978  0.004081 -1.072622  ...  0.327433 -0.791861 -0.970982  0.281654   \n",
       "2  0.110322  1.149374  0.402792  ... -2.469684 -0.357296 -0.843963  2.351099   \n",
       "3  0.707743  0.643048 -1.623439  ... -0.110355  0.389682 -0.887516  1.045496   \n",
       "4  1.775517  0.194402 -0.935757  ...  1.183218  0.792407 -0.939738  0.004032   \n",
       "\n",
       "         94        95        96        97        98        99  \n",
       "0  1.541587 -2.296058 -1.490150  0.050199  0.733693 -0.091885  \n",
       "1 -0.614386 -1.861613  0.025999 -1.042492  1.319019 -0.986730  \n",
       "2  1.811956 -1.120807 -0.209483  0.300716 -2.371535 -1.376580  \n",
       "3  1.369216 -1.408472  1.348342 -1.010036 -0.205508  0.039418  \n",
       "4 -1.177880  2.408663 -0.145930 -1.377579  0.458585 -0.670303  \n",
       "\n",
       "[5 rows x 100 columns]"
      ]
     },
     "execution_count": 6,
     "metadata": {},
     "output_type": "execute_result"
    }
   ],
   "source": [
    "d2v_df = pd.DataFrame.from_records(data_list,columns = columns_name)\n",
    "d2v_df.head()"
   ]
  },
  {
   "cell_type": "code",
   "execution_count": 7,
   "metadata": {},
   "outputs": [
    {
     "data": {
      "text/plain": [
       "(10876, 100)"
      ]
     },
     "execution_count": 7,
     "metadata": {},
     "output_type": "execute_result"
    }
   ],
   "source": [
    "d2v_df.shape"
   ]
  },
  {
   "cell_type": "markdown",
   "metadata": {},
   "source": [
    "## train test split"
   ]
  },
  {
   "cell_type": "code",
   "execution_count": 36,
   "metadata": {},
   "outputs": [],
   "source": [
    "train_new=d2v_df[:train.shape[0]]\n",
    "test_new=d2v_df[train.shape[0]:]"
   ]
  },
  {
   "cell_type": "code",
   "execution_count": 37,
   "metadata": {},
   "outputs": [
    {
     "name": "stdout",
     "output_type": "stream",
     "text": [
      "train shape:  (5709, 100)\n",
      "test shape:  (1904, 100)\n"
     ]
    }
   ],
   "source": [
    "x_train, x_test, y_train, y_test = train_test_split(train_new, train['target'])\n",
    "print('train shape: ',x_train.shape)\n",
    "print('test shape: ',x_test.shape)"
   ]
  },
  {
   "cell_type": "code",
   "execution_count": 38,
   "metadata": {},
   "outputs": [
    {
     "name": "stdout",
     "output_type": "stream",
     "text": [
      "train_y label count:  Counter({0: 3283, 1: 2426})\n",
      "valid_y label count:  Counter({0: 1059, 1: 845})\n"
     ]
    }
   ],
   "source": [
    "print(\"train_y label count: \",collections.Counter(y_train))\n",
    "print(\"valid_y label count: \",collections.Counter(y_test))"
   ]
  },
  {
   "cell_type": "markdown",
   "metadata": {},
   "source": [
    "## ML models"
   ]
  },
  {
   "cell_type": "code",
   "execution_count": 39,
   "metadata": {},
   "outputs": [],
   "source": [
    "class MyClassifier(BaseEstimator):\n",
    "\n",
    "    def __init__(self, classifier_type):\n",
    "        \"\"\"\n",
    "        A Custome BaseEstimator that can switch between classifiers.\n",
    "        :param classifier_type: string - The switch for different classifiers\n",
    "        \"\"\"\n",
    "        self.classifier_type = classifier_type\n",
    "\n",
    "\n",
    "    def fit(self, X, y=None):\n",
    "        if self.classifier_type == 'LDA':\n",
    "            self.classifier_ = LinearDiscriminantAnalysis(solver='svd')\n",
    "        elif self.classifier_type == 'Logistic Regression':\n",
    "            self.classifier_ = LogisticRegression(C=1.0, dual= False, max_iter=500,penalty = 'l2' , \n",
    "                                                  solver = 'liblinear', class_weight='balanced', \n",
    "                                                  multi_class='ovr', random_state=42, tol=1e-05)\n",
    "        elif self.classifier_type == 'LinSVC':\n",
    "            self.classifier_ = svm.LinearSVC(C=1.0, dual= False, fit_intercept=True,\n",
    "     intercept_scaling =0.1, max_iter=1000,penalty = 'l2' , loss = 'squared_hinge', class_weight='balanced',\n",
    "     multi_class='ovr', random_state=42, tol=1e-05, verbose=0)\n",
    "        elif self.classifier_type == 'Random Forest':\n",
    "            self.classifier_ = RandomForestClassifier(n_estimators = 10, criterion = 'entropy', random_state = 42)\n",
    "        elif self.classifier_type == 'Decision Tree':\n",
    "            self.classifier_ = DecisionTreeClassifier()\n",
    "        elif self.classifier_type == 'Gradient boost':\n",
    "            self.classifier_ = GradientBoostingClassifier(n_estimators=50)\n",
    "        else:\n",
    "            raise ValueError('Unkown classifier type.')\n",
    "        self.classifier_.fit(X, y)\n",
    "        return self\n",
    "\n",
    "    def predict(self, X, y=None):\n",
    "        return self.classifier_.predict(X)\n",
    "    "
   ]
  },
  {
   "cell_type": "code",
   "execution_count": 41,
   "metadata": {},
   "outputs": [],
   "source": [
    "def performance_plots(y_test_sample, y_pred, ml_algo):\n",
    "    print(\"---------\"+ml_algo+\"-----------\")\n",
    "    acc = metrics.accuracy_score(y_pred, y_test_sample)\n",
    "    print(\"Accuracy: \",acc)\n",
    "    f1_val = f1_score(y_test_sample, y_pred)\n",
    "    print('f1 score:',f1_val)\n",
    "    print(\"NORMALISED CM  for Tag6\")\n",
    "    cm = confusion_matrix(y_test_sample,y_pred)\n",
    "    norm_cm = cm.astype('float') / cm.sum(axis=1)[:, np.newaxis]*100\n",
    "    ind = class_indexes\n",
    "    cols = class_indexes\n",
    "    cm_df = pd.DataFrame(norm_cm,cols,ind)\n",
    "    plt.figure(figsize=(22,10)) \n",
    "    sns.heatmap(cm_df, annot=True,cmap = \"Greens\",fmt='g')\n",
    "    print(classification_report(y_test_sample,y_pred))\n",
    "    print(accuracy_score(y_test_sample, y_pred))\n",
    "    return"
   ]
  },
  {
   "cell_type": "markdown",
   "metadata": {},
   "source": [
    "## LDA model"
   ]
  },
  {
   "cell_type": "code",
   "execution_count": 42,
   "metadata": {},
   "outputs": [],
   "source": [
    "lda_model = MyClassifier('LDA')\n",
    "lda_model.fit(x_train, y_train)\n",
    "lda_pred = lda_model.predict(x_test)"
   ]
  },
  {
   "cell_type": "code",
   "execution_count": 43,
   "metadata": {},
   "outputs": [
    {
     "name": "stdout",
     "output_type": "stream",
     "text": [
      "---------LDA-----------\n",
      "Accuracy:  0.6848739495798319\n",
      "f1 score: 0.6021220159151193\n",
      "NORMALISED CM  for Tag6\n",
      "              precision    recall  f1-score   support\n",
      "\n",
      "           0       0.68      0.80      0.74      1059\n",
      "           1       0.68      0.54      0.60       845\n",
      "\n",
      "    accuracy                           0.68      1904\n",
      "   macro avg       0.68      0.67      0.67      1904\n",
      "weighted avg       0.68      0.68      0.68      1904\n",
      "\n",
      "0.6848739495798319\n"
     ]
    },
    {
     "data": {
      "image/png": "[encoded data removed]",
      "text/plain": [
       "<Figure size 1584x720 with 2 Axes>"
      ]
     },
     "metadata": {
      "needs_background": "light"
     },
     "output_type": "display_data"
    }
   ],
   "source": [
    "performance_plots(y_test, lda_pred, 'LDA')"
   ]
  },
  {
   "cell_type": "markdown",
   "metadata": {},
   "source": [
    "## SVM"
   ]
  },
  {
   "cell_type": "code",
   "execution_count": 44,
   "metadata": {},
   "outputs": [],
   "source": [
    "svm_model = MyClassifier('LinSVC')\n",
    "svm_model.fit(x_train, y_train)\n",
    "svm_pred = svm_model.predict(x_test)"
   ]
  },
  {
   "cell_type": "code",
   "execution_count": 45,
   "metadata": {},
   "outputs": [
    {
     "name": "stdout",
     "output_type": "stream",
     "text": [
      "---------LinSVC-----------\n",
      "Accuracy:  0.6832983193277311\n",
      "f1 score: 0.6595143986448335\n",
      "NORMALISED CM  for Tag6\n",
      "              precision    recall  f1-score   support\n",
      "\n",
      "           0       0.73      0.68      0.70      1059\n",
      "           1       0.63      0.69      0.66       845\n",
      "\n",
      "    accuracy                           0.68      1904\n",
      "   macro avg       0.68      0.68      0.68      1904\n",
      "weighted avg       0.69      0.68      0.68      1904\n",
      "\n",
      "0.6832983193277311\n"
     ]
    },
    {
     "data": {
      "image/png": "[encoded data removed]",
      "text/plain": [
       "<Figure size 1584x720 with 2 Axes>"
      ]
     },
     "metadata": {
      "needs_background": "light"
     },
     "output_type": "display_data"
    }
   ],
   "source": [
    "performance_plots(y_test, svm_pred, 'LinSVC')"
   ]
  },
  {
   "cell_type": "code",
   "execution_count": null,
   "metadata": {},
   "outputs": [],
   "source": []
  }
 ],
 "metadata": {
  "kernelspec": {
   "display_name": "Python 3",
   "language": "python",
   "name": "python3"
  },
  "language_info": {
   "codemirror_mode": {
    "name": "ipython",
    "version": 3
   },
   "file_extension": ".py",
   "mimetype": "text/x-python",
   "name": "python",
   "nbconvert_exporter": "python",
   "pygments_lexer": "ipython3",
   "version": "3.7.4"
  }
 },
 "nbformat": 4,
 "nbformat_minor": 4
}
