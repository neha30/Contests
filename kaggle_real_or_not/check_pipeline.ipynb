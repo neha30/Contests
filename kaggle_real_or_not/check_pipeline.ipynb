{
 "cells": [
  {
   "cell_type": "code",
   "execution_count": 109,
   "metadata": {},
   "outputs": [],
   "source": [
    "import os\n",
    "import re\n",
    "import csv\n",
    "import numpy as np\n",
    "import pandas as pd\n",
    "import nltk\n",
    "from tqdm import tqdm\n",
    "import operator\n",
    "import math\n",
    "import matplotlib.pylab as plt\n",
    "import gensim.corpora as corpora\n",
    "import gensim\n",
    "import pickle \n",
    "from gensim.utils import simple_preprocess\n",
    "from gensim.models import CoherenceModel\n",
    "from gensim.models import Word2Vec, KeyedVectors  \n",
    "import random\n",
    "from collections import Counter\n",
    "from gensim.models.doc2vec import Doc2Vec, TaggedDocument\n",
    "import seaborn as sns\n",
    "from sklearn.ensemble import VotingClassifier\n",
    "import joblib\n",
    "from sklearn.discriminant_analysis import LinearDiscriminantAnalysis\n",
    "from sklearn.metrics.pairwise import cosine_similarity\n",
    "import joblib\n",
    "# Plotting tools\n",
    "#import pyLDAvis.gensim  # don't skip this\n",
    "import matplotlib.pyplot as plt\n",
    "%matplotlib inline\n",
    "import requests\n",
    "# Enable logging for gensim - optional\n",
    "import logging\n",
    "logging.basicConfig(format='%(asctime)s : %(levelname)s : %(message)s', level=logging.ERROR)\n",
    "\n",
    "from nltk.corpus import stopwords\n",
    "from nltk.stem import SnowballStemmer\n",
    "from string import punctuation\n",
    "from nltk.stem.wordnet import WordNetLemmatizer\n",
    "from sklearn.feature_extraction.text import TfidfVectorizer, CountVectorizer\n",
    "from smart_open import open\n",
    "from sklearn.model_selection import train_test_split\n",
    "from sklearn.preprocessing import MultiLabelBinarizer\n",
    "from sklearn.naive_bayes import MultinomialNB\n",
    "from sklearn.linear_model import SGDClassifier\n",
    "from sklearn.linear_model import LogisticRegression\n",
    "from sklearn import svm\n",
    "from sklearn.metrics import confusion_matrix \n",
    "from sklearn.metrics import accuracy_score \n",
    "from sklearn.metrics import classification_report\n",
    "from sklearn.ensemble import RandomForestClassifier\n",
    "from heapq import nsmallest\n",
    "from statistics import mode\n",
    "\n",
    "import time\n",
    "import string\n",
    "\n",
    "import torch\n",
    "import torch.utils.data as data_utils\n",
    "import torch.nn.functional as F\n",
    "\n",
    "import warnings\n",
    "warnings.filterwarnings('ignore')\n",
    "\n",
    "tqdm.pandas()\n",
    "%matplotlib inline"
   ]
  },
  {
   "cell_type": "code",
   "execution_count": 110,
   "metadata": {},
   "outputs": [
    {
     "data": {
      "text/html": [
       "<div>\n",
       "<style scoped>\n",
       "    .dataframe tbody tr th:only-of-type {\n",
       "        vertical-align: middle;\n",
       "    }\n",
       "\n",
       "    .dataframe tbody tr th {\n",
       "        vertical-align: top;\n",
       "    }\n",
       "\n",
       "    .dataframe thead th {\n",
       "        text-align: right;\n",
       "    }\n",
       "</style>\n",
       "<table border=\"1\" class=\"dataframe\">\n",
       "  <thead>\n",
       "    <tr style=\"text-align: right;\">\n",
       "      <th></th>\n",
       "      <th>id</th>\n",
       "      <th>keyword</th>\n",
       "      <th>location</th>\n",
       "      <th>text</th>\n",
       "      <th>target</th>\n",
       "    </tr>\n",
       "  </thead>\n",
       "  <tbody>\n",
       "    <tr>\n",
       "      <th>0</th>\n",
       "      <td>1</td>\n",
       "      <td>NaN</td>\n",
       "      <td>NaN</td>\n",
       "      <td>Our Deeds are the Reason of this #earthquake M...</td>\n",
       "      <td>1</td>\n",
       "    </tr>\n",
       "    <tr>\n",
       "      <th>1</th>\n",
       "      <td>4</td>\n",
       "      <td>NaN</td>\n",
       "      <td>NaN</td>\n",
       "      <td>Forest fire near La Ronge Sask. Canada</td>\n",
       "      <td>1</td>\n",
       "    </tr>\n",
       "    <tr>\n",
       "      <th>2</th>\n",
       "      <td>5</td>\n",
       "      <td>NaN</td>\n",
       "      <td>NaN</td>\n",
       "      <td>All residents asked to 'shelter in place' are ...</td>\n",
       "      <td>1</td>\n",
       "    </tr>\n",
       "    <tr>\n",
       "      <th>3</th>\n",
       "      <td>6</td>\n",
       "      <td>NaN</td>\n",
       "      <td>NaN</td>\n",
       "      <td>13,000 people receive #wildfires evacuation or...</td>\n",
       "      <td>1</td>\n",
       "    </tr>\n",
       "    <tr>\n",
       "      <th>4</th>\n",
       "      <td>7</td>\n",
       "      <td>NaN</td>\n",
       "      <td>NaN</td>\n",
       "      <td>Just got sent this photo from Ruby #Alaska as ...</td>\n",
       "      <td>1</td>\n",
       "    </tr>\n",
       "  </tbody>\n",
       "</table>\n",
       "</div>"
      ],
      "text/plain": [
       "   id keyword location                                               text  \\\n",
       "0   1     NaN      NaN  Our Deeds are the Reason of this #earthquake M...   \n",
       "1   4     NaN      NaN             Forest fire near La Ronge Sask. Canada   \n",
       "2   5     NaN      NaN  All residents asked to 'shelter in place' are ...   \n",
       "3   6     NaN      NaN  13,000 people receive #wildfires evacuation or...   \n",
       "4   7     NaN      NaN  Just got sent this photo from Ruby #Alaska as ...   \n",
       "\n",
       "   target  \n",
       "0       1  \n",
       "1       1  \n",
       "2       1  \n",
       "3       1  \n",
       "4       1  "
      ]
     },
     "execution_count": 110,
     "metadata": {},
     "output_type": "execute_result"
    }
   ],
   "source": [
    "train = pd.read_csv('../data/nlp_tweet_data/train.csv')\n",
    "train.head()"
   ]
  },
  {
   "cell_type": "code",
   "execution_count": 111,
   "metadata": {},
   "outputs": [
    {
     "data": {
      "text/html": [
       "<div>\n",
       "<style scoped>\n",
       "    .dataframe tbody tr th:only-of-type {\n",
       "        vertical-align: middle;\n",
       "    }\n",
       "\n",
       "    .dataframe tbody tr th {\n",
       "        vertical-align: top;\n",
       "    }\n",
       "\n",
       "    .dataframe thead th {\n",
       "        text-align: right;\n",
       "    }\n",
       "</style>\n",
       "<table border=\"1\" class=\"dataframe\">\n",
       "  <thead>\n",
       "    <tr style=\"text-align: right;\">\n",
       "      <th></th>\n",
       "      <th>id</th>\n",
       "      <th>keyword</th>\n",
       "      <th>location</th>\n",
       "      <th>text</th>\n",
       "    </tr>\n",
       "  </thead>\n",
       "  <tbody>\n",
       "    <tr>\n",
       "      <th>0</th>\n",
       "      <td>0</td>\n",
       "      <td>NaN</td>\n",
       "      <td>NaN</td>\n",
       "      <td>Just happened a terrible car crash</td>\n",
       "    </tr>\n",
       "    <tr>\n",
       "      <th>1</th>\n",
       "      <td>2</td>\n",
       "      <td>NaN</td>\n",
       "      <td>NaN</td>\n",
       "      <td>Heard about #earthquake is different cities, s...</td>\n",
       "    </tr>\n",
       "    <tr>\n",
       "      <th>2</th>\n",
       "      <td>3</td>\n",
       "      <td>NaN</td>\n",
       "      <td>NaN</td>\n",
       "      <td>there is a forest fire at spot pond, geese are...</td>\n",
       "    </tr>\n",
       "    <tr>\n",
       "      <th>3</th>\n",
       "      <td>9</td>\n",
       "      <td>NaN</td>\n",
       "      <td>NaN</td>\n",
       "      <td>Apocalypse lighting. #Spokane #wildfires</td>\n",
       "    </tr>\n",
       "    <tr>\n",
       "      <th>4</th>\n",
       "      <td>11</td>\n",
       "      <td>NaN</td>\n",
       "      <td>NaN</td>\n",
       "      <td>Typhoon Soudelor kills 28 in China and Taiwan</td>\n",
       "    </tr>\n",
       "  </tbody>\n",
       "</table>\n",
       "</div>"
      ],
      "text/plain": [
       "   id keyword location                                               text\n",
       "0   0     NaN      NaN                 Just happened a terrible car crash\n",
       "1   2     NaN      NaN  Heard about #earthquake is different cities, s...\n",
       "2   3     NaN      NaN  there is a forest fire at spot pond, geese are...\n",
       "3   9     NaN      NaN           Apocalypse lighting. #Spokane #wildfires\n",
       "4  11     NaN      NaN      Typhoon Soudelor kills 28 in China and Taiwan"
      ]
     },
     "execution_count": 111,
     "metadata": {},
     "output_type": "execute_result"
    }
   ],
   "source": [
    "test = pd.read_csv('../data/nlp_tweet_data/test.csv')\n",
    "test.head()"
   ]
  },
  {
   "cell_type": "code",
   "execution_count": 112,
   "metadata": {},
   "outputs": [],
   "source": [
    "class_indexes = list(train['target'].value_counts().index)"
   ]
  },
  {
   "cell_type": "code",
   "execution_count": 113,
   "metadata": {},
   "outputs": [
    {
     "data": {
      "text/plain": [
       "[0, 1]"
      ]
     },
     "execution_count": 113,
     "metadata": {},
     "output_type": "execute_result"
    }
   ],
   "source": [
    "class_indexes"
   ]
  },
  {
   "cell_type": "markdown",
   "metadata": {},
   "source": [
    "## Preprocess"
   ]
  },
  {
   "cell_type": "code",
   "execution_count": 114,
   "metadata": {},
   "outputs": [],
   "source": [
    "def clean_text(text, remove_stopwords=True, stem_words=False, lemma=True):\n",
    "    # Clean the text, with the option to remove stopwords and to stem words.\n",
    "\n",
    "        text = str(text).lower().split()\n",
    "\n",
    "        # Optionally, remove stop words\n",
    "        if remove_stopwords:\n",
    "            stops = set(stopwords.words(\"english\"))\n",
    "            text = [w for w in text if not w in stops]\n",
    "\n",
    "        text = \" \".join(text)\n",
    "\n",
    "        # Clean the text\n",
    "        text = re.sub(r\"[-()\\\"#/<>!@&;*:<>{}`'+=~%|.!?,_]\", \" \", text)\n",
    "        text = re.sub(r\"\\]\", \" \", text)\n",
    "        text = re.sub(r\"\\[\", \" \", text)\n",
    "        text = re.sub(r\"\\/\", \" \", text)\n",
    "        text = re.sub(r\"\\\\\", \" \", text)\n",
    "        text = re.sub(r\"\\'ve\", \" have \", text)\n",
    "        text = re.sub(r\"can't\", \"cannot \", text)\n",
    "        text = re.sub(r\"n't\", \" not \", text)\n",
    "        text = re.sub(r\"\\'re\", \" are \", text)\n",
    "        text = re.sub(r\"\\'d\", \" would \", text)\n",
    "        text = re.sub(r\"\\'ll\", \" will \", text)\n",
    "        text = re.sub(r\"  \", \" \", text)\n",
    "        text = re.sub(r\"   \", \" \", text)\n",
    "        text = re.sub(r\"   \", \" \", text)\n",
    "        text = re.sub(r\"0x00\", \"\", text)\n",
    "        \n",
    "        text2 = text.split()\n",
    "        text = []\n",
    "        for words in text2:\n",
    "            if len(words)<2:\n",
    "                continue\n",
    "            elif '0x'in words:\n",
    "                continue\n",
    "            elif words.isdigit():\n",
    "                continue\n",
    "            else:\n",
    "                text.append(words)\n",
    "        text = \" \".join(text)\n",
    "\n",
    "        # Optionally, shorten words to their stems\n",
    "        if stem_words:\n",
    "            text = text.split()\n",
    "            stemmer = SnowballStemmer('english')\n",
    "            stemmed_words = [stemmer.stem(word) for word in text]\n",
    "            text = \" \".join(stemmed_words)\n",
    "\n",
    "        if lemma:\n",
    "            text = text.split()\n",
    "            lem = WordNetLemmatizer()\n",
    "            lemmatized = [lem.lemmatize(word,\"v\") for word in text]\n",
    "            text = \" \".join(lemmatized)\n",
    "\n",
    "        # Return a list of words\n",
    "        return(text)"
   ]
  },
  {
   "cell_type": "code",
   "execution_count": 115,
   "metadata": {},
   "outputs": [
    {
     "name": "stderr",
     "output_type": "stream",
     "text": [
      "100%|██████████| 7613/7613 [00:01<00:00, 4241.81it/s]\n"
     ]
    }
   ],
   "source": [
    "train['text'] = train['text'].progress_apply(lambda x:clean_text(x))"
   ]
  },
  {
   "cell_type": "code",
   "execution_count": 116,
   "metadata": {},
   "outputs": [
    {
     "name": "stderr",
     "output_type": "stream",
     "text": [
      "100%|██████████| 3263/3263 [00:00<00:00, 4278.12it/s]\n"
     ]
    }
   ],
   "source": [
    "test['text'] = test['text'].progress_apply(lambda x:clean_text(x))"
   ]
  },
  {
   "cell_type": "code",
   "execution_count": 117,
   "metadata": {},
   "outputs": [],
   "source": [
    "def get_class(x,class_list):\n",
    "    if x in class_list:\n",
    "        return class_list.index(x)\n",
    "    else:\n",
    "        return -1"
   ]
  },
  {
   "cell_type": "code",
   "execution_count": 118,
   "metadata": {},
   "outputs": [
    {
     "name": "stderr",
     "output_type": "stream",
     "text": [
      "100%|██████████| 7613/7613 [00:00<00:00, 538523.90it/s]\n"
     ]
    }
   ],
   "source": [
    "train['class_id'] = train['target'].progress_apply(lambda x: get_class(x,class_indexes))"
   ]
  },
  {
   "cell_type": "code",
   "execution_count": 119,
   "metadata": {},
   "outputs": [
    {
     "data": {
      "text/html": [
       "<div>\n",
       "<style scoped>\n",
       "    .dataframe tbody tr th:only-of-type {\n",
       "        vertical-align: middle;\n",
       "    }\n",
       "\n",
       "    .dataframe tbody tr th {\n",
       "        vertical-align: top;\n",
       "    }\n",
       "\n",
       "    .dataframe thead th {\n",
       "        text-align: right;\n",
       "    }\n",
       "</style>\n",
       "<table border=\"1\" class=\"dataframe\">\n",
       "  <thead>\n",
       "    <tr style=\"text-align: right;\">\n",
       "      <th></th>\n",
       "      <th>id</th>\n",
       "      <th>keyword</th>\n",
       "      <th>location</th>\n",
       "      <th>text</th>\n",
       "      <th>target</th>\n",
       "      <th>class_id</th>\n",
       "    </tr>\n",
       "  </thead>\n",
       "  <tbody>\n",
       "    <tr>\n",
       "      <th>0</th>\n",
       "      <td>1</td>\n",
       "      <td>NaN</td>\n",
       "      <td>NaN</td>\n",
       "      <td>deeds reason earthquake may allah forgive us</td>\n",
       "      <td>1</td>\n",
       "      <td>1</td>\n",
       "    </tr>\n",
       "    <tr>\n",
       "      <th>1</th>\n",
       "      <td>4</td>\n",
       "      <td>NaN</td>\n",
       "      <td>NaN</td>\n",
       "      <td>forest fire near la ronge sask canada</td>\n",
       "      <td>1</td>\n",
       "      <td>1</td>\n",
       "    </tr>\n",
       "    <tr>\n",
       "      <th>2</th>\n",
       "      <td>5</td>\n",
       "      <td>NaN</td>\n",
       "      <td>NaN</td>\n",
       "      <td>residents ask shelter place notify officer eva...</td>\n",
       "      <td>1</td>\n",
       "      <td>1</td>\n",
       "    </tr>\n",
       "    <tr>\n",
       "      <th>3</th>\n",
       "      <td>6</td>\n",
       "      <td>NaN</td>\n",
       "      <td>NaN</td>\n",
       "      <td>people receive wildfires evacuation order cali...</td>\n",
       "      <td>1</td>\n",
       "      <td>1</td>\n",
       "    </tr>\n",
       "    <tr>\n",
       "      <th>4</th>\n",
       "      <td>7</td>\n",
       "      <td>NaN</td>\n",
       "      <td>NaN</td>\n",
       "      <td>get send photo ruby alaska smoke wildfires pou...</td>\n",
       "      <td>1</td>\n",
       "      <td>1</td>\n",
       "    </tr>\n",
       "  </tbody>\n",
       "</table>\n",
       "</div>"
      ],
      "text/plain": [
       "   id keyword location                                               text  \\\n",
       "0   1     NaN      NaN       deeds reason earthquake may allah forgive us   \n",
       "1   4     NaN      NaN              forest fire near la ronge sask canada   \n",
       "2   5     NaN      NaN  residents ask shelter place notify officer eva...   \n",
       "3   6     NaN      NaN  people receive wildfires evacuation order cali...   \n",
       "4   7     NaN      NaN  get send photo ruby alaska smoke wildfires pou...   \n",
       "\n",
       "   target  class_id  \n",
       "0       1         1  \n",
       "1       1         1  \n",
       "2       1         1  \n",
       "3       1         1  \n",
       "4       1         1  "
      ]
     },
     "execution_count": 119,
     "metadata": {},
     "output_type": "execute_result"
    }
   ],
   "source": [
    "train.head()"
   ]
  },
  {
   "cell_type": "markdown",
   "metadata": {},
   "source": [
    "## Train Test Split"
   ]
  },
  {
   "cell_type": "code",
   "execution_count": 120,
   "metadata": {},
   "outputs": [],
   "source": [
    "df_train, df_test = train_test_split(train)"
   ]
  },
  {
   "cell_type": "code",
   "execution_count": 150,
   "metadata": {},
   "outputs": [
    {
     "data": {
      "text/plain": [
       "(5709, 8)"
      ]
     },
     "execution_count": 150,
     "metadata": {},
     "output_type": "execute_result"
    }
   ],
   "source": [
    "df_train.shape"
   ]
  },
  {
   "cell_type": "code",
   "execution_count": 151,
   "metadata": {},
   "outputs": [
    {
     "data": {
      "text/plain": [
       "(1904, 8)"
      ]
     },
     "execution_count": 151,
     "metadata": {},
     "output_type": "execute_result"
    }
   ],
   "source": [
    "df_test.shape"
   ]
  },
  {
   "cell_type": "code",
   "execution_count": 121,
   "metadata": {},
   "outputs": [
    {
     "data": {
      "text/html": [
       "<div>\n",
       "<style scoped>\n",
       "    .dataframe tbody tr th:only-of-type {\n",
       "        vertical-align: middle;\n",
       "    }\n",
       "\n",
       "    .dataframe tbody tr th {\n",
       "        vertical-align: top;\n",
       "    }\n",
       "\n",
       "    .dataframe thead th {\n",
       "        text-align: right;\n",
       "    }\n",
       "</style>\n",
       "<table border=\"1\" class=\"dataframe\">\n",
       "  <thead>\n",
       "    <tr style=\"text-align: right;\">\n",
       "      <th></th>\n",
       "      <th>id</th>\n",
       "      <th>keyword</th>\n",
       "      <th>location</th>\n",
       "      <th>text</th>\n",
       "      <th>target</th>\n",
       "      <th>class_id</th>\n",
       "    </tr>\n",
       "  </thead>\n",
       "  <tbody>\n",
       "    <tr>\n",
       "      <th>1796</th>\n",
       "      <td>2576</td>\n",
       "      <td>crash</td>\n",
       "      <td>NaN</td>\n",
       "      <td>cpanel crash course http co birkbje23e course ...</td>\n",
       "      <td>0</td>\n",
       "      <td>0</td>\n",
       "    </tr>\n",
       "    <tr>\n",
       "      <th>7232</th>\n",
       "      <td>10358</td>\n",
       "      <td>weapons</td>\n",
       "      <td>NaN</td>\n",
       "      <td>ukraine argue us weapons pelosi visit kiev htt...</td>\n",
       "      <td>1</td>\n",
       "      <td>1</td>\n",
       "    </tr>\n",
       "    <tr>\n",
       "      <th>297</th>\n",
       "      <td>437</td>\n",
       "      <td>apocalypse</td>\n",
       "      <td>NaN</td>\n",
       "      <td>rt geek apocalypse 4pm gmt hesse play dark sou...</td>\n",
       "      <td>0</td>\n",
       "      <td>0</td>\n",
       "    </tr>\n",
       "    <tr>\n",
       "      <th>2270</th>\n",
       "      <td>3255</td>\n",
       "      <td>demolish</td>\n",
       "      <td>Nigeria, WORLDWIDE</td>\n",
       "      <td>enugu government demolish illegal structure in...</td>\n",
       "      <td>0</td>\n",
       "      <td>0</td>\n",
       "    </tr>\n",
       "    <tr>\n",
       "      <th>6631</th>\n",
       "      <td>9496</td>\n",
       "      <td>terrorist</td>\n",
       "      <td>NaN</td>\n",
       "      <td>sign petition seek mercy death punishment conv...</td>\n",
       "      <td>1</td>\n",
       "      <td>1</td>\n",
       "    </tr>\n",
       "  </tbody>\n",
       "</table>\n",
       "</div>"
      ],
      "text/plain": [
       "         id     keyword            location  \\\n",
       "1796   2576       crash                 NaN   \n",
       "7232  10358     weapons                 NaN   \n",
       "297     437  apocalypse                 NaN   \n",
       "2270   3255    demolish  Nigeria, WORLDWIDE   \n",
       "6631   9496   terrorist                 NaN   \n",
       "\n",
       "                                                   text  target  class_id  \n",
       "1796  cpanel crash course http co birkbje23e course ...       0         0  \n",
       "7232  ukraine argue us weapons pelosi visit kiev htt...       1         1  \n",
       "297   rt geek apocalypse 4pm gmt hesse play dark sou...       0         0  \n",
       "2270  enugu government demolish illegal structure in...       0         0  \n",
       "6631  sign petition seek mercy death punishment conv...       1         1  "
      ]
     },
     "execution_count": 121,
     "metadata": {},
     "output_type": "execute_result"
    }
   ],
   "source": [
    "df_train.head()"
   ]
  },
  {
   "cell_type": "code",
   "execution_count": 122,
   "metadata": {},
   "outputs": [],
   "source": [
    "tfidf = TfidfVectorizer(analyzer='word', stop_words='english', min_df=2, max_features = 1000)\n",
    "tfidf.fit_transform(train['text'].tolist())\n",
    "with open(\"tweet_tfidf.pkl\", 'wb') as handle:\n",
    "    pickle.dump(tfidf, handle)"
   ]
  },
  {
   "cell_type": "code",
   "execution_count": 123,
   "metadata": {},
   "outputs": [],
   "source": [
    "train_transforms = tfidf.transform(df_train['text'].tolist()).toarray()\n",
    "test_transforms = tfidf.transform(df_test['text'].tolist()).toarray()\n",
    "\n",
    "train_samples = [x for x in train_transforms]\n",
    "test_samples = [x for x in test_transforms]\n",
    "\n",
    "df_train['tfidf_vecs_1000'] = train_samples\n",
    "df_test['tfidf_vecs_1000'] = test_samples"
   ]
  },
  {
   "cell_type": "code",
   "execution_count": 124,
   "metadata": {},
   "outputs": [
    {
     "data": {
      "text/html": [
       "<div>\n",
       "<style scoped>\n",
       "    .dataframe tbody tr th:only-of-type {\n",
       "        vertical-align: middle;\n",
       "    }\n",
       "\n",
       "    .dataframe tbody tr th {\n",
       "        vertical-align: top;\n",
       "    }\n",
       "\n",
       "    .dataframe thead th {\n",
       "        text-align: right;\n",
       "    }\n",
       "</style>\n",
       "<table border=\"1\" class=\"dataframe\">\n",
       "  <thead>\n",
       "    <tr style=\"text-align: right;\">\n",
       "      <th></th>\n",
       "      <th>id</th>\n",
       "      <th>keyword</th>\n",
       "      <th>location</th>\n",
       "      <th>text</th>\n",
       "      <th>target</th>\n",
       "      <th>class_id</th>\n",
       "      <th>tfidf_vecs_1000</th>\n",
       "    </tr>\n",
       "  </thead>\n",
       "  <tbody>\n",
       "    <tr>\n",
       "      <th>1796</th>\n",
       "      <td>2576</td>\n",
       "      <td>crash</td>\n",
       "      <td>NaN</td>\n",
       "      <td>cpanel crash course http co birkbje23e course ...</td>\n",
       "      <td>0</td>\n",
       "      <td>0</td>\n",
       "      <td>[0.0, 0.0, 0.0, 0.0, 0.0, 0.0, 0.0, 0.0, 0.0, ...</td>\n",
       "    </tr>\n",
       "    <tr>\n",
       "      <th>7232</th>\n",
       "      <td>10358</td>\n",
       "      <td>weapons</td>\n",
       "      <td>NaN</td>\n",
       "      <td>ukraine argue us weapons pelosi visit kiev htt...</td>\n",
       "      <td>1</td>\n",
       "      <td>1</td>\n",
       "      <td>[0.0, 0.0, 0.0, 0.0, 0.0, 0.0, 0.0, 0.0, 0.0, ...</td>\n",
       "    </tr>\n",
       "    <tr>\n",
       "      <th>297</th>\n",
       "      <td>437</td>\n",
       "      <td>apocalypse</td>\n",
       "      <td>NaN</td>\n",
       "      <td>rt geek apocalypse 4pm gmt hesse play dark sou...</td>\n",
       "      <td>0</td>\n",
       "      <td>0</td>\n",
       "      <td>[0.0, 0.0, 0.0, 0.0, 0.0, 0.0, 0.0, 0.0, 0.0, ...</td>\n",
       "    </tr>\n",
       "    <tr>\n",
       "      <th>2270</th>\n",
       "      <td>3255</td>\n",
       "      <td>demolish</td>\n",
       "      <td>Nigeria, WORLDWIDE</td>\n",
       "      <td>enugu government demolish illegal structure in...</td>\n",
       "      <td>0</td>\n",
       "      <td>0</td>\n",
       "      <td>[0.0, 0.0, 0.0, 0.0, 0.0, 0.0, 0.0, 0.0, 0.0, ...</td>\n",
       "    </tr>\n",
       "    <tr>\n",
       "      <th>6631</th>\n",
       "      <td>9496</td>\n",
       "      <td>terrorist</td>\n",
       "      <td>NaN</td>\n",
       "      <td>sign petition seek mercy death punishment conv...</td>\n",
       "      <td>1</td>\n",
       "      <td>1</td>\n",
       "      <td>[0.0, 0.0, 0.0, 0.0, 0.0, 0.0, 0.0, 0.0, 0.0, ...</td>\n",
       "    </tr>\n",
       "  </tbody>\n",
       "</table>\n",
       "</div>"
      ],
      "text/plain": [
       "         id     keyword            location  \\\n",
       "1796   2576       crash                 NaN   \n",
       "7232  10358     weapons                 NaN   \n",
       "297     437  apocalypse                 NaN   \n",
       "2270   3255    demolish  Nigeria, WORLDWIDE   \n",
       "6631   9496   terrorist                 NaN   \n",
       "\n",
       "                                                   text  target  class_id  \\\n",
       "1796  cpanel crash course http co birkbje23e course ...       0         0   \n",
       "7232  ukraine argue us weapons pelosi visit kiev htt...       1         1   \n",
       "297   rt geek apocalypse 4pm gmt hesse play dark sou...       0         0   \n",
       "2270  enugu government demolish illegal structure in...       0         0   \n",
       "6631  sign petition seek mercy death punishment conv...       1         1   \n",
       "\n",
       "                                        tfidf_vecs_1000  \n",
       "1796  [0.0, 0.0, 0.0, 0.0, 0.0, 0.0, 0.0, 0.0, 0.0, ...  \n",
       "7232  [0.0, 0.0, 0.0, 0.0, 0.0, 0.0, 0.0, 0.0, 0.0, ...  \n",
       "297   [0.0, 0.0, 0.0, 0.0, 0.0, 0.0, 0.0, 0.0, 0.0, ...  \n",
       "2270  [0.0, 0.0, 0.0, 0.0, 0.0, 0.0, 0.0, 0.0, 0.0, ...  \n",
       "6631  [0.0, 0.0, 0.0, 0.0, 0.0, 0.0, 0.0, 0.0, 0.0, ...  "
      ]
     },
     "execution_count": 124,
     "metadata": {},
     "output_type": "execute_result"
    }
   ],
   "source": [
    "df_train.head()"
   ]
  },
  {
   "cell_type": "code",
   "execution_count": 125,
   "metadata": {},
   "outputs": [
    {
     "data": {
      "text/plain": [
       "0    3267\n",
       "1    2442\n",
       "Name: target, dtype: int64"
      ]
     },
     "execution_count": 125,
     "metadata": {},
     "output_type": "execute_result"
    }
   ],
   "source": [
    "df_train['target'].value_counts()"
   ]
  },
  {
   "cell_type": "code",
   "execution_count": 137,
   "metadata": {},
   "outputs": [],
   "source": [
    "classwise_mean_vec = {}\n",
    "classwise_std_vec = {}\n",
    "for cl in class_indexes:\n",
    "    t = df_train['tfidf_vecs_1000'][df_train.target==cl].tolist()\n",
    "    classwise_mean_vec[cl] = np.mean(t,axis=0)\n",
    "    classwise_std_vec[cl] = np.std(t,axis=0)\n",
    "\n",
    "classwise_mean = {}\n",
    "classwise_std = {}\n",
    "for cl in class_indexes:\n",
    "    t = df_train['tfidf_vecs_1000'][df_train.target==cl].tolist()\n",
    "    classwise_mean[cl] = np.linalg.norm(np.mean(t,axis=0))\n",
    "    classwise_std[cl] = np.linalg.norm(np.std(t,axis=0))"
   ]
  },
  {
   "cell_type": "code",
   "execution_count": 140,
   "metadata": {},
   "outputs": [],
   "source": [
    "df_train['mean_final_vecs'] = [classwise_mean_vec[x] for x in df_train['target'].tolist()]\n",
    "df_test['mean_final_vecs'] = [classwise_mean_vec[x] for x in df_test['target'].tolist()]"
   ]
  },
  {
   "cell_type": "code",
   "execution_count": 141,
   "metadata": {},
   "outputs": [
    {
     "data": {
      "text/html": [
       "<div>\n",
       "<style scoped>\n",
       "    .dataframe tbody tr th:only-of-type {\n",
       "        vertical-align: middle;\n",
       "    }\n",
       "\n",
       "    .dataframe tbody tr th {\n",
       "        vertical-align: top;\n",
       "    }\n",
       "\n",
       "    .dataframe thead th {\n",
       "        text-align: right;\n",
       "    }\n",
       "</style>\n",
       "<table border=\"1\" class=\"dataframe\">\n",
       "  <thead>\n",
       "    <tr style=\"text-align: right;\">\n",
       "      <th></th>\n",
       "      <th>id</th>\n",
       "      <th>keyword</th>\n",
       "      <th>location</th>\n",
       "      <th>text</th>\n",
       "      <th>target</th>\n",
       "      <th>class_id</th>\n",
       "      <th>tfidf_vecs_1000</th>\n",
       "      <th>mean_final_vecs</th>\n",
       "    </tr>\n",
       "  </thead>\n",
       "  <tbody>\n",
       "    <tr>\n",
       "      <th>1796</th>\n",
       "      <td>2576</td>\n",
       "      <td>crash</td>\n",
       "      <td>NaN</td>\n",
       "      <td>cpanel crash course http co birkbje23e course ...</td>\n",
       "      <td>0</td>\n",
       "      <td>0</td>\n",
       "      <td>[0.0, 0.0, 0.0, 0.0, 0.0, 0.0, 0.0, 0.0, 0.0, ...</td>\n",
       "      <td>[0.0, 0.0, 0.0008656724381242678, 0.0004371616...</td>\n",
       "    </tr>\n",
       "    <tr>\n",
       "      <th>7232</th>\n",
       "      <td>10358</td>\n",
       "      <td>weapons</td>\n",
       "      <td>NaN</td>\n",
       "      <td>ukraine argue us weapons pelosi visit kiev htt...</td>\n",
       "      <td>1</td>\n",
       "      <td>1</td>\n",
       "      <td>[0.0, 0.0, 0.0, 0.0, 0.0, 0.0, 0.0, 0.0, 0.0, ...</td>\n",
       "      <td>[0.0022457409635622655, 0.002024498848114017, ...</td>\n",
       "    </tr>\n",
       "    <tr>\n",
       "      <th>297</th>\n",
       "      <td>437</td>\n",
       "      <td>apocalypse</td>\n",
       "      <td>NaN</td>\n",
       "      <td>rt geek apocalypse 4pm gmt hesse play dark sou...</td>\n",
       "      <td>0</td>\n",
       "      <td>0</td>\n",
       "      <td>[0.0, 0.0, 0.0, 0.0, 0.0, 0.0, 0.0, 0.0, 0.0, ...</td>\n",
       "      <td>[0.0, 0.0, 0.0008656724381242678, 0.0004371616...</td>\n",
       "    </tr>\n",
       "    <tr>\n",
       "      <th>2270</th>\n",
       "      <td>3255</td>\n",
       "      <td>demolish</td>\n",
       "      <td>Nigeria, WORLDWIDE</td>\n",
       "      <td>enugu government demolish illegal structure in...</td>\n",
       "      <td>0</td>\n",
       "      <td>0</td>\n",
       "      <td>[0.0, 0.0, 0.0, 0.0, 0.0, 0.0, 0.0, 0.0, 0.0, ...</td>\n",
       "      <td>[0.0, 0.0, 0.0008656724381242678, 0.0004371616...</td>\n",
       "    </tr>\n",
       "    <tr>\n",
       "      <th>6631</th>\n",
       "      <td>9496</td>\n",
       "      <td>terrorist</td>\n",
       "      <td>NaN</td>\n",
       "      <td>sign petition seek mercy death punishment conv...</td>\n",
       "      <td>1</td>\n",
       "      <td>1</td>\n",
       "      <td>[0.0, 0.0, 0.0, 0.0, 0.0, 0.0, 0.0, 0.0, 0.0, ...</td>\n",
       "      <td>[0.0022457409635622655, 0.002024498848114017, ...</td>\n",
       "    </tr>\n",
       "  </tbody>\n",
       "</table>\n",
       "</div>"
      ],
      "text/plain": [
       "         id     keyword            location  \\\n",
       "1796   2576       crash                 NaN   \n",
       "7232  10358     weapons                 NaN   \n",
       "297     437  apocalypse                 NaN   \n",
       "2270   3255    demolish  Nigeria, WORLDWIDE   \n",
       "6631   9496   terrorist                 NaN   \n",
       "\n",
       "                                                   text  target  class_id  \\\n",
       "1796  cpanel crash course http co birkbje23e course ...       0         0   \n",
       "7232  ukraine argue us weapons pelosi visit kiev htt...       1         1   \n",
       "297   rt geek apocalypse 4pm gmt hesse play dark sou...       0         0   \n",
       "2270  enugu government demolish illegal structure in...       0         0   \n",
       "6631  sign petition seek mercy death punishment conv...       1         1   \n",
       "\n",
       "                                        tfidf_vecs_1000  \\\n",
       "1796  [0.0, 0.0, 0.0, 0.0, 0.0, 0.0, 0.0, 0.0, 0.0, ...   \n",
       "7232  [0.0, 0.0, 0.0, 0.0, 0.0, 0.0, 0.0, 0.0, 0.0, ...   \n",
       "297   [0.0, 0.0, 0.0, 0.0, 0.0, 0.0, 0.0, 0.0, 0.0, ...   \n",
       "2270  [0.0, 0.0, 0.0, 0.0, 0.0, 0.0, 0.0, 0.0, 0.0, ...   \n",
       "6631  [0.0, 0.0, 0.0, 0.0, 0.0, 0.0, 0.0, 0.0, 0.0, ...   \n",
       "\n",
       "                                        mean_final_vecs  \n",
       "1796  [0.0, 0.0, 0.0008656724381242678, 0.0004371616...  \n",
       "7232  [0.0022457409635622655, 0.002024498848114017, ...  \n",
       "297   [0.0, 0.0, 0.0008656724381242678, 0.0004371616...  \n",
       "2270  [0.0, 0.0, 0.0008656724381242678, 0.0004371616...  \n",
       "6631  [0.0022457409635622655, 0.002024498848114017, ...  "
      ]
     },
     "execution_count": 141,
     "metadata": {},
     "output_type": "execute_result"
    }
   ],
   "source": [
    "df_train.head()"
   ]
  },
  {
   "cell_type": "code",
   "execution_count": 51,
   "metadata": {},
   "outputs": [],
   "source": [
    "class LinearRegression_2layers(torch.nn.Module):\n",
    "    def __init__(self, input_size, hidden_size):\n",
    "        super(LinearRegression_2layers, self).__init__()\n",
    "        self.layer_1 = torch.nn.Linear(input_size,hidden_size, bias=True)\n",
    "        self.relu = torch.nn.ReLU()\n",
    "        self.output_layer = torch.nn.Linear(hidden_size, input_size, bias=True)\n",
    "\n",
    "\n",
    "    def forward(self, x):\n",
    "        out = self.layer_1(x)\n",
    "        out = self.relu(out)\n",
    "        out = self.output_layer(out)\n",
    "        return out"
   ]
  },
  {
   "cell_type": "code",
   "execution_count": 142,
   "metadata": {},
   "outputs": [],
   "source": [
    "train = data_utils.TensorDataset(torch.Tensor(np.array(df_train['tfidf_vecs_1000'].tolist())), \n",
    "                                 torch.Tensor(np.array(df_train['mean_final_vecs'].tolist())))\n",
    "\n",
    "#PYTORCH PARAMS\n",
    "\n",
    "device = torch.device(\"cuda:0\" if torch.cuda.is_available() else \"cpu\")\n",
    "\n",
    "# Hyperparameters\n",
    "random_seed = 123\n",
    "learning_rate = 0.001\n",
    "batch_size = 1\n",
    "num_epochs = 5\n",
    "# Architecture\n",
    "num_features = 1000\n",
    "hidden_layer = 800\n",
    "\n",
    "train_loader = data_utils.DataLoader(train, batch_size, shuffle=False)\n",
    "\n",
    "\n",
    "\n",
    "model = LinearRegression_2layers(input_size=num_features,hidden_size=hidden_layer)\n",
    "\n",
    "optimizer = torch.optim.SGD(model.parameters(), lr=learning_rate)"
   ]
  },
  {
   "cell_type": "code",
   "execution_count": 143,
   "metadata": {},
   "outputs": [
    {
     "data": {
      "text/html": [
       "<div>\n",
       "<style scoped>\n",
       "    .dataframe tbody tr th:only-of-type {\n",
       "        vertical-align: middle;\n",
       "    }\n",
       "\n",
       "    .dataframe tbody tr th {\n",
       "        vertical-align: top;\n",
       "    }\n",
       "\n",
       "    .dataframe thead th {\n",
       "        text-align: right;\n",
       "    }\n",
       "</style>\n",
       "<table border=\"1\" class=\"dataframe\">\n",
       "  <thead>\n",
       "    <tr style=\"text-align: right;\">\n",
       "      <th></th>\n",
       "      <th>id</th>\n",
       "      <th>keyword</th>\n",
       "      <th>location</th>\n",
       "      <th>text</th>\n",
       "      <th>target</th>\n",
       "      <th>class_id</th>\n",
       "      <th>tfidf_vecs_1000</th>\n",
       "      <th>mean_final_vecs</th>\n",
       "    </tr>\n",
       "  </thead>\n",
       "  <tbody>\n",
       "    <tr>\n",
       "      <th>1796</th>\n",
       "      <td>2576</td>\n",
       "      <td>crash</td>\n",
       "      <td>NaN</td>\n",
       "      <td>cpanel crash course http co birkbje23e course ...</td>\n",
       "      <td>0</td>\n",
       "      <td>0</td>\n",
       "      <td>[0.0, 0.0, 0.0, 0.0, 0.0, 0.0, 0.0, 0.0, 0.0, ...</td>\n",
       "      <td>[0.0, 0.0, 0.0008656724381242678, 0.0004371616...</td>\n",
       "    </tr>\n",
       "    <tr>\n",
       "      <th>7232</th>\n",
       "      <td>10358</td>\n",
       "      <td>weapons</td>\n",
       "      <td>NaN</td>\n",
       "      <td>ukraine argue us weapons pelosi visit kiev htt...</td>\n",
       "      <td>1</td>\n",
       "      <td>1</td>\n",
       "      <td>[0.0, 0.0, 0.0, 0.0, 0.0, 0.0, 0.0, 0.0, 0.0, ...</td>\n",
       "      <td>[0.0022457409635622655, 0.002024498848114017, ...</td>\n",
       "    </tr>\n",
       "    <tr>\n",
       "      <th>297</th>\n",
       "      <td>437</td>\n",
       "      <td>apocalypse</td>\n",
       "      <td>NaN</td>\n",
       "      <td>rt geek apocalypse 4pm gmt hesse play dark sou...</td>\n",
       "      <td>0</td>\n",
       "      <td>0</td>\n",
       "      <td>[0.0, 0.0, 0.0, 0.0, 0.0, 0.0, 0.0, 0.0, 0.0, ...</td>\n",
       "      <td>[0.0, 0.0, 0.0008656724381242678, 0.0004371616...</td>\n",
       "    </tr>\n",
       "    <tr>\n",
       "      <th>2270</th>\n",
       "      <td>3255</td>\n",
       "      <td>demolish</td>\n",
       "      <td>Nigeria, WORLDWIDE</td>\n",
       "      <td>enugu government demolish illegal structure in...</td>\n",
       "      <td>0</td>\n",
       "      <td>0</td>\n",
       "      <td>[0.0, 0.0, 0.0, 0.0, 0.0, 0.0, 0.0, 0.0, 0.0, ...</td>\n",
       "      <td>[0.0, 0.0, 0.0008656724381242678, 0.0004371616...</td>\n",
       "    </tr>\n",
       "    <tr>\n",
       "      <th>6631</th>\n",
       "      <td>9496</td>\n",
       "      <td>terrorist</td>\n",
       "      <td>NaN</td>\n",
       "      <td>sign petition seek mercy death punishment conv...</td>\n",
       "      <td>1</td>\n",
       "      <td>1</td>\n",
       "      <td>[0.0, 0.0, 0.0, 0.0, 0.0, 0.0, 0.0, 0.0, 0.0, ...</td>\n",
       "      <td>[0.0022457409635622655, 0.002024498848114017, ...</td>\n",
       "    </tr>\n",
       "  </tbody>\n",
       "</table>\n",
       "</div>"
      ],
      "text/plain": [
       "         id     keyword            location  \\\n",
       "1796   2576       crash                 NaN   \n",
       "7232  10358     weapons                 NaN   \n",
       "297     437  apocalypse                 NaN   \n",
       "2270   3255    demolish  Nigeria, WORLDWIDE   \n",
       "6631   9496   terrorist                 NaN   \n",
       "\n",
       "                                                   text  target  class_id  \\\n",
       "1796  cpanel crash course http co birkbje23e course ...       0         0   \n",
       "7232  ukraine argue us weapons pelosi visit kiev htt...       1         1   \n",
       "297   rt geek apocalypse 4pm gmt hesse play dark sou...       0         0   \n",
       "2270  enugu government demolish illegal structure in...       0         0   \n",
       "6631  sign petition seek mercy death punishment conv...       1         1   \n",
       "\n",
       "                                        tfidf_vecs_1000  \\\n",
       "1796  [0.0, 0.0, 0.0, 0.0, 0.0, 0.0, 0.0, 0.0, 0.0, ...   \n",
       "7232  [0.0, 0.0, 0.0, 0.0, 0.0, 0.0, 0.0, 0.0, 0.0, ...   \n",
       "297   [0.0, 0.0, 0.0, 0.0, 0.0, 0.0, 0.0, 0.0, 0.0, ...   \n",
       "2270  [0.0, 0.0, 0.0, 0.0, 0.0, 0.0, 0.0, 0.0, 0.0, ...   \n",
       "6631  [0.0, 0.0, 0.0, 0.0, 0.0, 0.0, 0.0, 0.0, 0.0, ...   \n",
       "\n",
       "                                        mean_final_vecs  \n",
       "1796  [0.0, 0.0, 0.0008656724381242678, 0.0004371616...  \n",
       "7232  [0.0022457409635622655, 0.002024498848114017, ...  \n",
       "297   [0.0, 0.0, 0.0008656724381242678, 0.0004371616...  \n",
       "2270  [0.0, 0.0, 0.0008656724381242678, 0.0004371616...  \n",
       "6631  [0.0022457409635622655, 0.002024498848114017, ...  "
      ]
     },
     "execution_count": 143,
     "metadata": {},
     "output_type": "execute_result"
    }
   ],
   "source": [
    "df_train.head()"
   ]
  },
  {
   "cell_type": "code",
   "execution_count": 144,
   "metadata": {},
   "outputs": [],
   "source": [
    "def convert_time(c):\n",
    "    days = c // 86400\n",
    "    hours = c // 3600 % 24\n",
    "    minutes = c // 60 % 60\n",
    "    seconds = c % 60\n",
    "    return minutes,seconds"
   ]
  },
  {
   "cell_type": "code",
   "execution_count": 145,
   "metadata": {},
   "outputs": [
    {
     "name": "stdout",
     "output_type": "stream",
     "text": [
      "Loss = 0.0004961849772371352 Epoch: 1/5 time = 0.0 minutes 12.750951766967773 secs\n",
      "Loss = 0.00048286805395036936 Epoch: 2/5 time = 0.0 minutes 12.642146825790405 secs\n",
      "Loss = 0.0004699802666436881 Epoch: 3/5 time = 0.0 minutes 13.572773218154907 secs\n",
      "Loss = 0.0004575055791065097 Epoch: 4/5 time = 0.0 minutes 18.166313886642456 secs\n",
      "Loss = 0.00044543115654960275 Epoch: 5/5 time = 0.0 minutes 16.781554222106934 secs\n"
     ]
    }
   ],
   "source": [
    "for epoch in range(num_epochs):\n",
    "    epoch_start = time.time()\n",
    "    for batch_idx, (features, y_true) in enumerate(train_loader):\n",
    "        features = features.to(device)\n",
    "        targets = y_true.to(device)\n",
    "        y_pred = model(features)\n",
    "        loss = F.mse_loss(y_pred, y_true)\n",
    "        optimizer.zero_grad()\n",
    "        loss.backward(retain_graph=True)\n",
    "        optimizer.step()\n",
    "    \n",
    "    epoch_end = time.time()\n",
    "    m,s = convert_time(epoch_end-epoch_start)\n",
    "    print(\"Loss = {0} Epoch: {1}/{2} time = {3} minutes {4} secs\".format(\n",
    "              loss, epoch+1, num_epochs, m, s))"
   ]
  },
  {
   "cell_type": "code",
   "execution_count": 146,
   "metadata": {},
   "outputs": [],
   "source": [
    "torch.save(model.state_dict(),'tweet_regressor_model_TFIDFfets-1000-800-1000.pt')"
   ]
  },
  {
   "cell_type": "code",
   "execution_count": 147,
   "metadata": {},
   "outputs": [
    {
     "data": {
      "text/plain": [
       "(1000, 800)"
      ]
     },
     "execution_count": 147,
     "metadata": {},
     "output_type": "execute_result"
    }
   ],
   "source": [
    "hidden_weights = model.output_layer.weight.detach().numpy()\n",
    "hidden_weights.shape"
   ]
  },
  {
   "cell_type": "code",
   "execution_count": 148,
   "metadata": {},
   "outputs": [],
   "source": [
    "with open('Tweet-Regressor-TFIDFfets-{1000-800-1000}-weights.pickle','wb') as fh:\n",
    "    pickle.dump(hidden_weights,fh)"
   ]
  },
  {
   "cell_type": "code",
   "execution_count": 149,
   "metadata": {},
   "outputs": [
    {
     "data": {
      "text/plain": [
       "(5709, 1000)"
      ]
     },
     "execution_count": 149,
     "metadata": {},
     "output_type": "execute_result"
    }
   ],
   "source": [
    "train_matr = np.array(df_train['tfidf_vecs_1000'].tolist())\n",
    "train_matr.shape"
   ]
  },
  {
   "cell_type": "code",
   "execution_count": 152,
   "metadata": {},
   "outputs": [
    {
     "data": {
      "text/plain": [
       "(1904, 1000)"
      ]
     },
     "execution_count": 152,
     "metadata": {},
     "output_type": "execute_result"
    }
   ],
   "source": [
    "test_matr = np.array(df_test['tfidf_vecs_1000'].tolist())\n",
    "test_matr.shape"
   ]
  },
  {
   "cell_type": "code",
   "execution_count": 153,
   "metadata": {},
   "outputs": [],
   "source": [
    "train_transform = np.matmul(train_matr,hidden_weights)\n",
    "test_transform = np.matmul(test_matr,hidden_weights)\n",
    "\n",
    "df_train['weighted_vecs_800'] = [x for x in train_transform]\n",
    "df_test['weighted_vecs_800'] = [x for x in test_transform]"
   ]
  },
  {
   "cell_type": "code",
   "execution_count": 156,
   "metadata": {},
   "outputs": [
    {
     "data": {
      "text/html": [
       "<div>\n",
       "<style scoped>\n",
       "    .dataframe tbody tr th:only-of-type {\n",
       "        vertical-align: middle;\n",
       "    }\n",
       "\n",
       "    .dataframe tbody tr th {\n",
       "        vertical-align: top;\n",
       "    }\n",
       "\n",
       "    .dataframe thead th {\n",
       "        text-align: right;\n",
       "    }\n",
       "</style>\n",
       "<table border=\"1\" class=\"dataframe\">\n",
       "  <thead>\n",
       "    <tr style=\"text-align: right;\">\n",
       "      <th></th>\n",
       "      <th>id</th>\n",
       "      <th>keyword</th>\n",
       "      <th>location</th>\n",
       "      <th>text</th>\n",
       "      <th>target</th>\n",
       "      <th>class_id</th>\n",
       "      <th>tfidf_vecs_1000</th>\n",
       "      <th>mean_final_vecs</th>\n",
       "      <th>weighted_vecs_800</th>\n",
       "    </tr>\n",
       "  </thead>\n",
       "  <tbody>\n",
       "    <tr>\n",
       "      <th>1796</th>\n",
       "      <td>2576</td>\n",
       "      <td>crash</td>\n",
       "      <td>NaN</td>\n",
       "      <td>cpanel crash course http co birkbje23e course ...</td>\n",
       "      <td>0</td>\n",
       "      <td>0</td>\n",
       "      <td>[0.0, 0.0, 0.0, 0.0, 0.0, 0.0, 0.0, 0.0, 0.0, ...</td>\n",
       "      <td>[0.0, 0.0, 0.0008656724381242678, 0.0004371616...</td>\n",
       "      <td>[0.02288813848981992, 0.02664444267839114, 0.0...</td>\n",
       "    </tr>\n",
       "    <tr>\n",
       "      <th>7232</th>\n",
       "      <td>10358</td>\n",
       "      <td>weapons</td>\n",
       "      <td>NaN</td>\n",
       "      <td>ukraine argue us weapons pelosi visit kiev htt...</td>\n",
       "      <td>1</td>\n",
       "      <td>1</td>\n",
       "      <td>[0.0, 0.0, 0.0, 0.0, 0.0, 0.0, 0.0, 0.0, 0.0, ...</td>\n",
       "      <td>[0.0022457409635622655, 0.002024498848114017, ...</td>\n",
       "      <td>[-0.02785478387405819, -0.020140335350357166, ...</td>\n",
       "    </tr>\n",
       "    <tr>\n",
       "      <th>297</th>\n",
       "      <td>437</td>\n",
       "      <td>apocalypse</td>\n",
       "      <td>NaN</td>\n",
       "      <td>rt geek apocalypse 4pm gmt hesse play dark sou...</td>\n",
       "      <td>0</td>\n",
       "      <td>0</td>\n",
       "      <td>[0.0, 0.0, 0.0, 0.0, 0.0, 0.0, 0.0, 0.0, 0.0, ...</td>\n",
       "      <td>[0.0, 0.0, 0.0008656724381242678, 0.0004371616...</td>\n",
       "      <td>[-0.027003617687290957, 0.040668032351492966, ...</td>\n",
       "    </tr>\n",
       "    <tr>\n",
       "      <th>2270</th>\n",
       "      <td>3255</td>\n",
       "      <td>demolish</td>\n",
       "      <td>Nigeria, WORLDWIDE</td>\n",
       "      <td>enugu government demolish illegal structure in...</td>\n",
       "      <td>0</td>\n",
       "      <td>0</td>\n",
       "      <td>[0.0, 0.0, 0.0, 0.0, 0.0, 0.0, 0.0, 0.0, 0.0, ...</td>\n",
       "      <td>[0.0, 0.0, 0.0008656724381242678, 0.0004371616...</td>\n",
       "      <td>[0.008217254408147015, -0.011305540641336247, ...</td>\n",
       "    </tr>\n",
       "    <tr>\n",
       "      <th>6631</th>\n",
       "      <td>9496</td>\n",
       "      <td>terrorist</td>\n",
       "      <td>NaN</td>\n",
       "      <td>sign petition seek mercy death punishment conv...</td>\n",
       "      <td>1</td>\n",
       "      <td>1</td>\n",
       "      <td>[0.0, 0.0, 0.0, 0.0, 0.0, 0.0, 0.0, 0.0, 0.0, ...</td>\n",
       "      <td>[0.0022457409635622655, 0.002024498848114017, ...</td>\n",
       "      <td>[-0.05244305750283623, 0.014407083122435379, 0...</td>\n",
       "    </tr>\n",
       "    <tr>\n",
       "      <th>...</th>\n",
       "      <td>...</td>\n",
       "      <td>...</td>\n",
       "      <td>...</td>\n",
       "      <td>...</td>\n",
       "      <td>...</td>\n",
       "      <td>...</td>\n",
       "      <td>...</td>\n",
       "      <td>...</td>\n",
       "      <td>...</td>\n",
       "    </tr>\n",
       "    <tr>\n",
       "      <th>4893</th>\n",
       "      <td>6966</td>\n",
       "      <td>massacre</td>\n",
       "      <td>The World</td>\n",
       "      <td>petition no medals massacre justice wound knee...</td>\n",
       "      <td>1</td>\n",
       "      <td>1</td>\n",
       "      <td>[0.0, 0.0, 0.0, 0.0, 0.0, 0.0, 0.0, 0.0, 0.0, ...</td>\n",
       "      <td>[0.0022457409635622655, 0.002024498848114017, ...</td>\n",
       "      <td>[-0.02929562368979372, 0.027814545116716285, 0...</td>\n",
       "    </tr>\n",
       "    <tr>\n",
       "      <th>5680</th>\n",
       "      <td>8105</td>\n",
       "      <td>rescued</td>\n",
       "      <td>The Multiverse</td>\n",
       "      <td>skyrim await rescue again</td>\n",
       "      <td>0</td>\n",
       "      <td>0</td>\n",
       "      <td>[0.0, 0.0, 0.0, 0.0, 0.0, 0.0, 0.0, 0.0, 0.0, ...</td>\n",
       "      <td>[0.0, 0.0, 0.0008656724381242678, 0.0004371616...</td>\n",
       "      <td>[-0.009319563396275043, 0.019848067313432693, ...</td>\n",
       "    </tr>\n",
       "    <tr>\n",
       "      <th>3443</th>\n",
       "      <td>4920</td>\n",
       "      <td>exploded</td>\n",
       "      <td>Elmwood Park, NJ</td>\n",
       "      <td>well chaning ipad screen fuck explode glass go...</td>\n",
       "      <td>0</td>\n",
       "      <td>0</td>\n",
       "      <td>[0.0, 0.0, 0.0, 0.0, 0.0, 0.0, 0.0, 0.0, 0.0, ...</td>\n",
       "      <td>[0.0, 0.0, 0.0008656724381242678, 0.0004371616...</td>\n",
       "      <td>[0.007949448190592583, 0.019522133472768002, -...</td>\n",
       "    </tr>\n",
       "    <tr>\n",
       "      <th>156</th>\n",
       "      <td>222</td>\n",
       "      <td>airplane%20accident</td>\n",
       "      <td>NaN</td>\n",
       "      <td>pilot die plane crash car festival https co kq...</td>\n",
       "      <td>1</td>\n",
       "      <td>1</td>\n",
       "      <td>[0.0, 0.0, 0.0, 0.0, 0.0, 0.0, 0.2258266324500...</td>\n",
       "      <td>[0.0022457409635622655, 0.002024498848114017, ...</td>\n",
       "      <td>[-0.0018011900168243599, 0.04485178823256118, ...</td>\n",
       "    </tr>\n",
       "    <tr>\n",
       "      <th>2318</th>\n",
       "      <td>3334</td>\n",
       "      <td>demolished</td>\n",
       "      <td>Chicago</td>\n",
       "      <td>ûï splottdave teampalestina that palestinian ...</td>\n",
       "      <td>1</td>\n",
       "      <td>1</td>\n",
       "      <td>[0.0, 0.0, 0.0, 0.0, 0.0, 0.0, 0.0, 0.0, 0.0, ...</td>\n",
       "      <td>[0.0022457409635622655, 0.002024498848114017, ...</td>\n",
       "      <td>[-0.03271590108747038, -0.012604689800630403, ...</td>\n",
       "    </tr>\n",
       "  </tbody>\n",
       "</table>\n",
       "<p>5709 rows × 9 columns</p>\n",
       "</div>"
      ],
      "text/plain": [
       "         id              keyword            location  \\\n",
       "1796   2576                crash                 NaN   \n",
       "7232  10358              weapons                 NaN   \n",
       "297     437           apocalypse                 NaN   \n",
       "2270   3255             demolish  Nigeria, WORLDWIDE   \n",
       "6631   9496            terrorist                 NaN   \n",
       "...     ...                  ...                 ...   \n",
       "4893   6966             massacre           The World   \n",
       "5680   8105              rescued      The Multiverse   \n",
       "3443   4920             exploded    Elmwood Park, NJ   \n",
       "156     222  airplane%20accident                 NaN   \n",
       "2318   3334           demolished             Chicago   \n",
       "\n",
       "                                                   text  target  class_id  \\\n",
       "1796  cpanel crash course http co birkbje23e course ...       0         0   \n",
       "7232  ukraine argue us weapons pelosi visit kiev htt...       1         1   \n",
       "297   rt geek apocalypse 4pm gmt hesse play dark sou...       0         0   \n",
       "2270  enugu government demolish illegal structure in...       0         0   \n",
       "6631  sign petition seek mercy death punishment conv...       1         1   \n",
       "...                                                 ...     ...       ...   \n",
       "4893  petition no medals massacre justice wound knee...       1         1   \n",
       "5680                          skyrim await rescue again       0         0   \n",
       "3443  well chaning ipad screen fuck explode glass go...       0         0   \n",
       "156   pilot die plane crash car festival https co kq...       1         1   \n",
       "2318  ûï splottdave teampalestina that palestinian ...       1         1   \n",
       "\n",
       "                                        tfidf_vecs_1000  \\\n",
       "1796  [0.0, 0.0, 0.0, 0.0, 0.0, 0.0, 0.0, 0.0, 0.0, ...   \n",
       "7232  [0.0, 0.0, 0.0, 0.0, 0.0, 0.0, 0.0, 0.0, 0.0, ...   \n",
       "297   [0.0, 0.0, 0.0, 0.0, 0.0, 0.0, 0.0, 0.0, 0.0, ...   \n",
       "2270  [0.0, 0.0, 0.0, 0.0, 0.0, 0.0, 0.0, 0.0, 0.0, ...   \n",
       "6631  [0.0, 0.0, 0.0, 0.0, 0.0, 0.0, 0.0, 0.0, 0.0, ...   \n",
       "...                                                 ...   \n",
       "4893  [0.0, 0.0, 0.0, 0.0, 0.0, 0.0, 0.0, 0.0, 0.0, ...   \n",
       "5680  [0.0, 0.0, 0.0, 0.0, 0.0, 0.0, 0.0, 0.0, 0.0, ...   \n",
       "3443  [0.0, 0.0, 0.0, 0.0, 0.0, 0.0, 0.0, 0.0, 0.0, ...   \n",
       "156   [0.0, 0.0, 0.0, 0.0, 0.0, 0.0, 0.2258266324500...   \n",
       "2318  [0.0, 0.0, 0.0, 0.0, 0.0, 0.0, 0.0, 0.0, 0.0, ...   \n",
       "\n",
       "                                        mean_final_vecs  \\\n",
       "1796  [0.0, 0.0, 0.0008656724381242678, 0.0004371616...   \n",
       "7232  [0.0022457409635622655, 0.002024498848114017, ...   \n",
       "297   [0.0, 0.0, 0.0008656724381242678, 0.0004371616...   \n",
       "2270  [0.0, 0.0, 0.0008656724381242678, 0.0004371616...   \n",
       "6631  [0.0022457409635622655, 0.002024498848114017, ...   \n",
       "...                                                 ...   \n",
       "4893  [0.0022457409635622655, 0.002024498848114017, ...   \n",
       "5680  [0.0, 0.0, 0.0008656724381242678, 0.0004371616...   \n",
       "3443  [0.0, 0.0, 0.0008656724381242678, 0.0004371616...   \n",
       "156   [0.0022457409635622655, 0.002024498848114017, ...   \n",
       "2318  [0.0022457409635622655, 0.002024498848114017, ...   \n",
       "\n",
       "                                      weighted_vecs_800  \n",
       "1796  [0.02288813848981992, 0.02664444267839114, 0.0...  \n",
       "7232  [-0.02785478387405819, -0.020140335350357166, ...  \n",
       "297   [-0.027003617687290957, 0.040668032351492966, ...  \n",
       "2270  [0.008217254408147015, -0.011305540641336247, ...  \n",
       "6631  [-0.05244305750283623, 0.014407083122435379, 0...  \n",
       "...                                                 ...  \n",
       "4893  [-0.02929562368979372, 0.027814545116716285, 0...  \n",
       "5680  [-0.009319563396275043, 0.019848067313432693, ...  \n",
       "3443  [0.007949448190592583, 0.019522133472768002, -...  \n",
       "156   [-0.0018011900168243599, 0.04485178823256118, ...  \n",
       "2318  [-0.03271590108747038, -0.012604689800630403, ...  \n",
       "\n",
       "[5709 rows x 9 columns]"
      ]
     },
     "execution_count": 156,
     "metadata": {},
     "output_type": "execute_result"
    }
   ],
   "source": [
    "df_train"
   ]
  },
  {
   "cell_type": "code",
   "execution_count": 167,
   "metadata": {},
   "outputs": [],
   "source": [
    "class_samples = {}\n",
    "for cl in range(len(class_indexes)):\n",
    "    class_samples[cl] = len(df_train['class_id'][df_train['class_id']==cl])"
   ]
  },
  {
   "cell_type": "code",
   "execution_count": 168,
   "metadata": {
    "scrolled": true
   },
   "outputs": [
    {
     "data": {
      "text/plain": [
       "{0: 3267, 1: 2442}"
      ]
     },
     "execution_count": 168,
     "metadata": {},
     "output_type": "execute_result"
    }
   ],
   "source": [
    "class_samples"
   ]
  },
  {
   "cell_type": "code",
   "execution_count": 169,
   "metadata": {},
   "outputs": [
    {
     "data": {
      "text/plain": [
       "5709"
      ]
     },
     "execution_count": 169,
     "metadata": {},
     "output_type": "execute_result"
    }
   ],
   "source": [
    "tot = sum(list(class_samples.values()))\n",
    "tot"
   ]
  },
  {
   "cell_type": "code",
   "execution_count": 170,
   "metadata": {},
   "outputs": [],
   "source": [
    "class_weights = {}\n",
    "for k,v in class_samples.items():\n",
    "    class_weights[k]= 1/(v/tot)"
   ]
  },
  {
   "cell_type": "code",
   "execution_count": 171,
   "metadata": {},
   "outputs": [
    {
     "data": {
      "text/plain": [
       "{0: 1.7474747474747474, 1: 2.3378378378378377}"
      ]
     },
     "execution_count": 171,
     "metadata": {},
     "output_type": "execute_result"
    }
   ],
   "source": [
    "class_weights"
   ]
  },
  {
   "cell_type": "code",
   "execution_count": 172,
   "metadata": {},
   "outputs": [
    {
     "data": {
      "text/plain": [
       "2.3378378378378377"
      ]
     },
     "execution_count": 172,
     "metadata": {},
     "output_type": "execute_result"
    }
   ],
   "source": [
    "max_weight = max(list(class_weights.values()))\n",
    "max_weight"
   ]
  },
  {
   "cell_type": "code",
   "execution_count": 173,
   "metadata": {},
   "outputs": [],
   "source": [
    "for k,v in class_weights.items():\n",
    "    class_weights[k] = v/max_weight"
   ]
  },
  {
   "cell_type": "code",
   "execution_count": 174,
   "metadata": {},
   "outputs": [
    {
     "data": {
      "text/plain": [
       "{0: 0.7474747474747475, 1: 1.0}"
      ]
     },
     "execution_count": 174,
     "metadata": {},
     "output_type": "execute_result"
    }
   ],
   "source": [
    "class_weights"
   ]
  },
  {
   "cell_type": "code",
   "execution_count": 175,
   "metadata": {},
   "outputs": [
    {
     "data": {
      "text/plain": [
       "{0: 0.7474747474747475, 1: 1.0}"
      ]
     },
     "execution_count": 175,
     "metadata": {},
     "output_type": "execute_result"
    }
   ],
   "source": [
    "class_weights"
   ]
  },
  {
   "cell_type": "code",
   "execution_count": 176,
   "metadata": {},
   "outputs": [
    {
     "name": "stdout",
     "output_type": "stream",
     "text": [
      "tensor([0.7475, 1.0000])\n"
     ]
    }
   ],
   "source": [
    "weights = list(class_weights.values())\n",
    "cl_weights=torch.FloatTensor(weights).to(device)\n",
    "print(cl_weights)"
   ]
  },
  {
   "cell_type": "code",
   "execution_count": 177,
   "metadata": {},
   "outputs": [],
   "source": [
    "def compute_accuracy(model, data_loader):\n",
    "    correct_pred, num_examples = 0, 0\n",
    "    \n",
    "    for features, targets in data_loader:\n",
    "        features = features.to(device)\n",
    "        targets = targets.long().to(device)\n",
    "        logits = model(features)\n",
    "        _, predicted_labels = torch.max(logits, 1)\n",
    "        num_examples += targets.size(0)\n",
    "        correct_pred += (predicted_labels == targets).sum()\n",
    "        \n",
    "    return correct_pred.float() / num_examples * 100\n",
    "\n",
    "\n",
    "def find_pred_acc(train,test,feat_size,model):\n",
    "\n",
    "    test_preds = []\n",
    "    test_orig = []\n",
    "    for i in test:\n",
    "        feat = i[0].view(-1,feat_size)\n",
    "        l = model(feat)\n",
    "        o = i[1].tolist()\n",
    "        test_preds.append(np.argmax(l.tolist()[0]))\n",
    "        test_orig.append(o)\n",
    "\n",
    "\n",
    "    Y_test = [int(x) for x in test_orig]\n",
    "\n",
    "\n",
    "    preds = []\n",
    "    orig = []\n",
    "    for i in train:\n",
    "        feat = i[0].view(-1,feat_size)\n",
    "        l = model(feat)\n",
    "        o = i[1].tolist()\n",
    "        preds.append(np.argmax(l.tolist()[0]))\n",
    "        orig.append(o)\n",
    "\n",
    "\n",
    "    Y_train = [int(x) for x in orig]\n",
    "    \n",
    "    return test_preds,Y_test,preds,Y_train"
   ]
  },
  {
   "cell_type": "code",
   "execution_count": 180,
   "metadata": {},
   "outputs": [],
   "source": [
    "class DNN_dropout(torch.nn.Module):\n",
    "\n",
    "    \"\"\"\n",
    "        A MLP with 2 hidden layer and dropout\n",
    "\n",
    "        observation_dim (int): number of observation features\n",
    "        action_dim (int): Dimension of each action\n",
    "        seed (int): Random seed\n",
    "    \"\"\"\n",
    "\n",
    "    def __init__(self, input_size, hidden_size, hidden_size2, output_size):\n",
    "        super(DNN_dropout, self).__init__()\n",
    "        self.fc1 = torch.nn.Linear(input_size, hidden_size)\n",
    "        self.fc2 = torch.nn.Linear(hidden_size, hidden_size2)\n",
    "        self.fc3 = torch.nn.Linear(hidden_size2, output_size)\n",
    "\n",
    "    def forward(self, xi):\n",
    "        \"\"\"\n",
    "           Forward propagation of neural network\n",
    "\n",
    "        \"\"\"\n",
    "        x = F.relu(self.fc1(xi))\n",
    "        x = F.tanh(self.fc2(x))\n",
    "        x = self.fc3(x)\n",
    "        return x\n",
    "\n",
    "\n",
    "train = data_utils.TensorDataset(torch.Tensor(np.array(df_train['weighted_vecs_800'].tolist())), torch.Tensor(np.array(df_train['class_id'].tolist())))\n",
    "test = data_utils.TensorDataset(torch.Tensor(np.array(df_test['weighted_vecs_800'].tolist())), torch.Tensor(np.array(df_test['class_id'].tolist())))\n",
    "\n",
    "#PYTORCH PARAMS\n",
    "\n",
    "device = torch.device(\"cuda:0\" if torch.cuda.is_available() else \"cpu\")\n",
    "\n",
    "# Hyperparameters\n",
    "random_seed = 123\n",
    "learning_rate = 0.0001\n",
    "batch_size = 256\n",
    "num_epochs = 25\n",
    "# Architecture\n",
    "num_features = 800\n",
    "num_classes = 2\n",
    "hidden_size = 300\n",
    "hidden_size2 = 600\n",
    "\n",
    "train_loader = data_utils.DataLoader(train, batch_size, shuffle=True)\n",
    "test_loader = data_utils.DataLoader(test, batch_size, shuffle=True)\n",
    "\n",
    "\n",
    "del model,optimizer\n",
    "\n",
    "model = DNN_dropout(input_size=num_features,hidden_size=hidden_size,hidden_size2 = hidden_size2,\n",
    "                          output_size=num_classes)\n",
    "\n",
    "optimizer = torch.optim.Adam(model.parameters(), lr=learning_rate)"
   ]
  },
  {
   "cell_type": "code",
   "execution_count": 181,
   "metadata": {},
   "outputs": [
    {
     "name": "stdout",
     "output_type": "stream",
     "text": [
      "Epoch: 001/025 test accuracy: 67.86%\n",
      "Epoch: 002/025 test accuracy: 71.53%\n",
      "Epoch: 003/025 test accuracy: 72.95%\n",
      "Epoch: 004/025 test accuracy: 73.63%\n",
      "Epoch: 005/025 test accuracy: 74.00%\n",
      "Epoch: 006/025 test accuracy: 74.00%\n",
      "Epoch: 007/025 test accuracy: 74.63%\n",
      "Epoch: 008/025 test accuracy: 75.42%\n",
      "Epoch: 009/025 test accuracy: 75.26%\n",
      "Epoch: 010/025 test accuracy: 75.47%\n",
      "Epoch: 011/025 test accuracy: 76.05%\n",
      "Epoch: 012/025 test accuracy: 75.79%\n",
      "Epoch: 013/025 test accuracy: 76.16%\n",
      "Epoch: 014/025 test accuracy: 75.84%\n",
      "Epoch: 015/025 test accuracy: 75.74%\n",
      "Epoch: 016/025 test accuracy: 76.16%\n",
      "Epoch: 017/025 test accuracy: 76.05%\n",
      "Epoch: 018/025 test accuracy: 76.05%\n",
      "Epoch: 019/025 test accuracy: 76.00%\n",
      "Epoch: 020/025 test accuracy: 75.89%\n",
      "Epoch: 021/025 test accuracy: 76.21%\n",
      "Epoch: 022/025 test accuracy: 76.31%\n",
      "Epoch: 023/025 test accuracy: 76.21%\n",
      "Epoch: 024/025 test accuracy: 76.16%\n",
      "Epoch: 025/025 test accuracy: 76.00%\n"
     ]
    }
   ],
   "source": [
    "for epoch in range(num_epochs):\n",
    "    for batch_idx, (features, targets) in enumerate(train_loader):\n",
    "        \n",
    "        features = features.to(device)\n",
    "        targets = targets.long().to(device)\n",
    "        logits = model(features)\n",
    "        loss = F.cross_entropy(logits, targets.long(),weight=cl_weights)\n",
    "        optimizer.zero_grad()\n",
    "        loss.backward()\n",
    "        ### UPDATE MODEL PARAMETERS\n",
    "        optimizer.step()\n",
    "\n",
    "    with torch.set_grad_enabled(False):\n",
    "        print('Epoch: %03d/%03d test accuracy: %.2f%%' % (\n",
    "              epoch+1, num_epochs, \n",
    "              compute_accuracy(model, test_loader)))"
   ]
  },
  {
   "cell_type": "code",
   "execution_count": 182,
   "metadata": {},
   "outputs": [],
   "source": [
    "with torch.set_grad_enabled(False):\n",
    "    test_preds,Y_test,preds,Y_train = find_pred_acc(train,test,800,model)"
   ]
  },
  {
   "cell_type": "code",
   "execution_count": 183,
   "metadata": {},
   "outputs": [
    {
     "name": "stdout",
     "output_type": "stream",
     "text": [
      "              precision    recall  f1-score   support\n",
      "\n",
      "           0       0.79      0.79      0.79      1075\n",
      "           1       0.73      0.72      0.72       829\n",
      "\n",
      "    accuracy                           0.76      1904\n",
      "   macro avg       0.76      0.76      0.76      1904\n",
      "weighted avg       0.76      0.76      0.76      1904\n",
      "\n",
      "0.7599789915966386\n"
     ]
    },
    {
     "data": {
      "image/png": "[encoded data removed]",
      "text/plain": [
       "<Figure size 1800x1008 with 2 Axes>"
      ]
     },
     "metadata": {
      "needs_background": "light"
     },
     "output_type": "display_data"
    }
   ],
   "source": [
    "y_svc = test_preds\n",
    "cm = confusion_matrix(Y_test,y_svc)\n",
    "norm_cm = cm.astype('float') / cm.sum(axis=1)[:, np.newaxis]*100\n",
    "ind = class_indexes\n",
    "cols = class_indexes\n",
    "cm_df = pd.DataFrame(norm_cm,cols,ind)                      \n",
    "plt.figure(figsize=(25,14))  \n",
    "sns.heatmap(cm_df, annot=True,cmap = \"Greens\",fmt='g')\n",
    "\n",
    "print(classification_report(Y_test,y_svc))\n",
    "print(accuracy_score(Y_test, y_svc))"
   ]
  },
  {
   "cell_type": "code",
   "execution_count": null,
   "metadata": {},
   "outputs": [],
   "source": []
  }
 ],
 "metadata": {
  "kernelspec": {
   "display_name": "Python 3",
   "language": "python",
   "name": "python3"
  },
  "language_info": {
   "codemirror_mode": {
    "name": "ipython",
    "version": 3
   },
   "file_extension": ".py",
   "mimetype": "text/x-python",
   "name": "python",
   "nbconvert_exporter": "python",
   "pygments_lexer": "ipython3",
   "version": "3.7.4"
  }
 },
 "nbformat": 4,
 "nbformat_minor": 4
}
