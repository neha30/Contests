{
 "cells": [
  {
   "cell_type": "code",
   "execution_count": 2,
   "metadata": {},
   "outputs": [],
   "source": [
    "import pandas as pd\n",
    "import numpy as np\n",
    "import matplotlib.pyplot as plt\n",
    "\n",
    "%matplotlib inline"
   ]
  },
  {
   "cell_type": "code",
   "execution_count": 3,
   "metadata": {},
   "outputs": [],
   "source": [
    "train = pd.read_csv('../data/chaii-hindi-and-tamil-question-answering/train.csv')\n",
    "test = pd.read_csv('../data/chaii-hindi-and-tamil-question-answering/test.csv')\n",
    "sample = pd.read_csv('../data/chaii-hindi-and-tamil-question-answering/sample_submission.csv')"
   ]
  },
  {
   "cell_type": "code",
   "execution_count": 4,
   "metadata": {},
   "outputs": [
    {
     "name": "stdout",
     "output_type": "stream",
     "text": [
      "Train shape: (1114, 6)\n",
      "Test shape: (5, 4)\n"
     ]
    }
   ],
   "source": [
    "print(\"Train shape:\", train.shape)\n",
    "print(\"Test shape:\", test.shape)"
   ]
  },
  {
   "cell_type": "code",
   "execution_count": 5,
   "metadata": {},
   "outputs": [
    {
     "data": {
      "text/html": [
       "<div>\n",
       "<style scoped>\n",
       "    .dataframe tbody tr th:only-of-type {\n",
       "        vertical-align: middle;\n",
       "    }\n",
       "\n",
       "    .dataframe tbody tr th {\n",
       "        vertical-align: top;\n",
       "    }\n",
       "\n",
       "    .dataframe thead th {\n",
       "        text-align: right;\n",
       "    }\n",
       "</style>\n",
       "<table border=\"1\" class=\"dataframe\">\n",
       "  <thead>\n",
       "    <tr style=\"text-align: right;\">\n",
       "      <th></th>\n",
       "      <th>id</th>\n",
       "      <th>context</th>\n",
       "      <th>question</th>\n",
       "      <th>answer_text</th>\n",
       "      <th>answer_start</th>\n",
       "      <th>language</th>\n",
       "    </tr>\n",
       "  </thead>\n",
       "  <tbody>\n",
       "    <tr>\n",
       "      <th>0</th>\n",
       "      <td>903deec17</td>\n",
       "      <td>ஒரு சாதாரண வளர்ந்த மனிதனுடைய எலும்புக்கூடு பின...</td>\n",
       "      <td>மனித உடலில் எத்தனை எலும்புகள் உள்ளன?</td>\n",
       "      <td>206</td>\n",
       "      <td>53</td>\n",
       "      <td>tamil</td>\n",
       "    </tr>\n",
       "    <tr>\n",
       "      <th>1</th>\n",
       "      <td>d9841668c</td>\n",
       "      <td>காளிதாசன் (தேவநாகரி: कालिदास) சமஸ்கிருத இலக்கி...</td>\n",
       "      <td>காளிதாசன் எங்கு பிறந்தார்?</td>\n",
       "      <td>காசுமீரில்</td>\n",
       "      <td>2358</td>\n",
       "      <td>tamil</td>\n",
       "    </tr>\n",
       "    <tr>\n",
       "      <th>2</th>\n",
       "      <td>29d154b56</td>\n",
       "      <td>சர் அலெக்ஸாண்டர் ஃபிளெமிங் (Sir Alexander Flem...</td>\n",
       "      <td>பென்சிலின் கண்டுபிடித்தவர் யார்?</td>\n",
       "      <td>சர் அலெக்ஸாண்டர் ஃபிளெமிங்</td>\n",
       "      <td>0</td>\n",
       "      <td>tamil</td>\n",
       "    </tr>\n",
       "    <tr>\n",
       "      <th>3</th>\n",
       "      <td>41660850a</td>\n",
       "      <td>குழந்தையின் அழுகையை  நிறுத்தவும், தூங்க வைக்கவ...</td>\n",
       "      <td>தமிழ்நாட்டில் குழந்தைகளை தூங்க வைக்க பாடும் பா...</td>\n",
       "      <td>தாலாட்டு</td>\n",
       "      <td>68</td>\n",
       "      <td>tamil</td>\n",
       "    </tr>\n",
       "    <tr>\n",
       "      <th>4</th>\n",
       "      <td>b29c82c22</td>\n",
       "      <td>சூரியக் குடும்பம் \\nசூரியக் குடும்பம் (Solar S...</td>\n",
       "      <td>பூமியின் அருகில் உள்ள விண்மீன் எது?</td>\n",
       "      <td>சூரியனும்</td>\n",
       "      <td>585</td>\n",
       "      <td>tamil</td>\n",
       "    </tr>\n",
       "  </tbody>\n",
       "</table>\n",
       "</div>"
      ],
      "text/plain": [
       "          id                                            context  \\\n",
       "0  903deec17  ஒரு சாதாரண வளர்ந்த மனிதனுடைய எலும்புக்கூடு பின...   \n",
       "1  d9841668c  காளிதாசன் (தேவநாகரி: कालिदास) சமஸ்கிருத இலக்கி...   \n",
       "2  29d154b56  சர் அலெக்ஸாண்டர் ஃபிளெமிங் (Sir Alexander Flem...   \n",
       "3  41660850a  குழந்தையின் அழுகையை  நிறுத்தவும், தூங்க வைக்கவ...   \n",
       "4  b29c82c22  சூரியக் குடும்பம் \\nசூரியக் குடும்பம் (Solar S...   \n",
       "\n",
       "                                            question  \\\n",
       "0               மனித உடலில் எத்தனை எலும்புகள் உள்ளன?   \n",
       "1                         காளிதாசன் எங்கு பிறந்தார்?   \n",
       "2                   பென்சிலின் கண்டுபிடித்தவர் யார்?   \n",
       "3  தமிழ்நாட்டில் குழந்தைகளை தூங்க வைக்க பாடும் பா...   \n",
       "4                பூமியின் அருகில் உள்ள விண்மீன் எது?   \n",
       "\n",
       "                  answer_text  answer_start language  \n",
       "0                         206            53    tamil  \n",
       "1                  காசுமீரில்          2358    tamil  \n",
       "2  சர் அலெக்ஸாண்டர் ஃபிளெமிங்             0    tamil  \n",
       "3                    தாலாட்டு            68    tamil  \n",
       "4                   சூரியனும்           585    tamil  "
      ]
     },
     "execution_count": 5,
     "metadata": {},
     "output_type": "execute_result"
    }
   ],
   "source": [
    "train.head()"
   ]
  },
  {
   "cell_type": "code",
   "execution_count": 6,
   "metadata": {},
   "outputs": [
    {
     "data": {
      "text/html": [
       "<div>\n",
       "<style scoped>\n",
       "    .dataframe tbody tr th:only-of-type {\n",
       "        vertical-align: middle;\n",
       "    }\n",
       "\n",
       "    .dataframe tbody tr th {\n",
       "        vertical-align: top;\n",
       "    }\n",
       "\n",
       "    .dataframe thead th {\n",
       "        text-align: right;\n",
       "    }\n",
       "</style>\n",
       "<table border=\"1\" class=\"dataframe\">\n",
       "  <thead>\n",
       "    <tr style=\"text-align: right;\">\n",
       "      <th></th>\n",
       "      <th>id</th>\n",
       "      <th>context</th>\n",
       "      <th>question</th>\n",
       "      <th>language</th>\n",
       "    </tr>\n",
       "  </thead>\n",
       "  <tbody>\n",
       "    <tr>\n",
       "      <th>0</th>\n",
       "      <td>22bff3dec</td>\n",
       "      <td>ज्वाला गुट्टा (जन्म: 7 सितंबर 1983; वर्धा, महा...</td>\n",
       "      <td>ज्वाला गुट्टा की माँ का नाम क्या है</td>\n",
       "      <td>hindi</td>\n",
       "    </tr>\n",
       "    <tr>\n",
       "      <th>1</th>\n",
       "      <td>282758170</td>\n",
       "      <td>गूगल मानचित्र (Google Maps) (पूर्व में गूगल लो...</td>\n",
       "      <td>गूगल मैप्स कब लॉन्च किया गया था?</td>\n",
       "      <td>hindi</td>\n",
       "    </tr>\n",
       "    <tr>\n",
       "      <th>2</th>\n",
       "      <td>d60987e0e</td>\n",
       "      <td>गुस्ताव रॉबर्ट किरचॉफ़ (१२ मार्च १८२४ - १७ अक्...</td>\n",
       "      <td>गुस्ताव किरचॉफ का जन्म कब हुआ था?</td>\n",
       "      <td>hindi</td>\n",
       "    </tr>\n",
       "    <tr>\n",
       "      <th>3</th>\n",
       "      <td>f99c770dc</td>\n",
       "      <td>அலுமினியம் (ஆங்கிலம்: அலுமினியம்; வட அமெரிக்க ...</td>\n",
       "      <td>அலுமினியத்தின் அணு எண் என்ன?</td>\n",
       "      <td>tamil</td>\n",
       "    </tr>\n",
       "    <tr>\n",
       "      <th>4</th>\n",
       "      <td>40dec1964</td>\n",
       "      <td>கூட்டுறவு இயக்க வரலாறு, இங்கிலாந்து  நாட்டில் ...</td>\n",
       "      <td>இந்தியாவில் பசுமை புரட்சியின் தந்தை என்று கருத...</td>\n",
       "      <td>tamil</td>\n",
       "    </tr>\n",
       "  </tbody>\n",
       "</table>\n",
       "</div>"
      ],
      "text/plain": [
       "          id                                            context  \\\n",
       "0  22bff3dec  ज्वाला गुट्टा (जन्म: 7 सितंबर 1983; वर्धा, महा...   \n",
       "1  282758170  गूगल मानचित्र (Google Maps) (पूर्व में गूगल लो...   \n",
       "2  d60987e0e  गुस्ताव रॉबर्ट किरचॉफ़ (१२ मार्च १८२४ - १७ अक्...   \n",
       "3  f99c770dc  அலுமினியம் (ஆங்கிலம்: அலுமினியம்; வட அமெரிக்க ...   \n",
       "4  40dec1964  கூட்டுறவு இயக்க வரலாறு, இங்கிலாந்து  நாட்டில் ...   \n",
       "\n",
       "                                            question language  \n",
       "0                ज्वाला गुट्टा की माँ का नाम क्या है    hindi  \n",
       "1                   गूगल मैप्स कब लॉन्च किया गया था?    hindi  \n",
       "2                  गुस्ताव किरचॉफ का जन्म कब हुआ था?    hindi  \n",
       "3                       அலுமினியத்தின் அணு எண் என்ன?    tamil  \n",
       "4  இந்தியாவில் பசுமை புரட்சியின் தந்தை என்று கருத...    tamil  "
      ]
     },
     "execution_count": 6,
     "metadata": {},
     "output_type": "execute_result"
    }
   ],
   "source": [
    "test.head()"
   ]
  },
  {
   "cell_type": "code",
   "execution_count": 7,
   "metadata": {},
   "outputs": [
    {
     "data": {
      "text/html": [
       "<div>\n",
       "<style scoped>\n",
       "    .dataframe tbody tr th:only-of-type {\n",
       "        vertical-align: middle;\n",
       "    }\n",
       "\n",
       "    .dataframe tbody tr th {\n",
       "        vertical-align: top;\n",
       "    }\n",
       "\n",
       "    .dataframe thead th {\n",
       "        text-align: right;\n",
       "    }\n",
       "</style>\n",
       "<table border=\"1\" class=\"dataframe\">\n",
       "  <thead>\n",
       "    <tr style=\"text-align: right;\">\n",
       "      <th></th>\n",
       "      <th>id</th>\n",
       "      <th>PredictionString</th>\n",
       "    </tr>\n",
       "  </thead>\n",
       "  <tbody>\n",
       "    <tr>\n",
       "      <th>0</th>\n",
       "      <td>22bff3dec</td>\n",
       "      <td>NaN</td>\n",
       "    </tr>\n",
       "    <tr>\n",
       "      <th>1</th>\n",
       "      <td>282758170</td>\n",
       "      <td>NaN</td>\n",
       "    </tr>\n",
       "    <tr>\n",
       "      <th>2</th>\n",
       "      <td>d60987e0e</td>\n",
       "      <td>NaN</td>\n",
       "    </tr>\n",
       "    <tr>\n",
       "      <th>3</th>\n",
       "      <td>f99c770dc</td>\n",
       "      <td>NaN</td>\n",
       "    </tr>\n",
       "    <tr>\n",
       "      <th>4</th>\n",
       "      <td>40dec1964</td>\n",
       "      <td>NaN</td>\n",
       "    </tr>\n",
       "  </tbody>\n",
       "</table>\n",
       "</div>"
      ],
      "text/plain": [
       "          id  PredictionString\n",
       "0  22bff3dec               NaN\n",
       "1  282758170               NaN\n",
       "2  d60987e0e               NaN\n",
       "3  f99c770dc               NaN\n",
       "4  40dec1964               NaN"
      ]
     },
     "execution_count": 7,
     "metadata": {},
     "output_type": "execute_result"
    }
   ],
   "source": [
    "sample.head()"
   ]
  },
  {
   "cell_type": "code",
   "execution_count": 8,
   "metadata": {},
   "outputs": [
    {
     "data": {
      "text/plain": [
       "id              0\n",
       "context         0\n",
       "question        0\n",
       "answer_text     0\n",
       "answer_start    0\n",
       "language        0\n",
       "dtype: int64"
      ]
     },
     "execution_count": 8,
     "metadata": {},
     "output_type": "execute_result"
    }
   ],
   "source": [
    "train.isnull().sum()"
   ]
  },
  {
   "cell_type": "code",
   "execution_count": 9,
   "metadata": {},
   "outputs": [
    {
     "data": {
      "text/plain": [
       "hindi    746\n",
       "tamil    368\n",
       "Name: language, dtype: int64"
      ]
     },
     "execution_count": 9,
     "metadata": {},
     "output_type": "execute_result"
    }
   ],
   "source": [
    "train['language'].value_counts()"
   ]
  },
  {
   "cell_type": "code",
   "execution_count": 10,
   "metadata": {},
   "outputs": [
    {
     "data": {
      "text/plain": [
       "hindi    3\n",
       "tamil    2\n",
       "Name: language, dtype: int64"
      ]
     },
     "execution_count": 10,
     "metadata": {},
     "output_type": "execute_result"
    }
   ],
   "source": [
    "test['language'].value_counts()"
   ]
  },
  {
   "cell_type": "code",
   "execution_count": 11,
   "metadata": {},
   "outputs": [
    {
     "data": {
      "text/html": [
       "<div>\n",
       "<style scoped>\n",
       "    .dataframe tbody tr th:only-of-type {\n",
       "        vertical-align: middle;\n",
       "    }\n",
       "\n",
       "    .dataframe tbody tr th {\n",
       "        vertical-align: top;\n",
       "    }\n",
       "\n",
       "    .dataframe thead th {\n",
       "        text-align: right;\n",
       "    }\n",
       "</style>\n",
       "<table border=\"1\" class=\"dataframe\">\n",
       "  <thead>\n",
       "    <tr style=\"text-align: right;\">\n",
       "      <th></th>\n",
       "      <th>id</th>\n",
       "      <th>context</th>\n",
       "      <th>question</th>\n",
       "      <th>answer_text</th>\n",
       "      <th>answer_start</th>\n",
       "      <th>language</th>\n",
       "    </tr>\n",
       "  </thead>\n",
       "  <tbody>\n",
       "    <tr>\n",
       "      <th>368</th>\n",
       "      <td>416091aeb</td>\n",
       "      <td>विषाणु अकोशिकीय अतिसूक्ष्म जीव हैं जो केवल जीव...</td>\n",
       "      <td>सन १८८६ में किसने बताया कि तम्बाकू में मोजेक र...</td>\n",
       "      <td>एडोल्फ मेयर</td>\n",
       "      <td>935</td>\n",
       "      <td>hindi</td>\n",
       "    </tr>\n",
       "    <tr>\n",
       "      <th>369</th>\n",
       "      <td>9d274ae3c</td>\n",
       "      <td>फ्लोरीन एक रासायनिक तत्व है। यह आवर्त सारणी (p...</td>\n",
       "      <td>फ्लोरीन की परमाणु संख्या क्या है?</td>\n",
       "      <td>9</td>\n",
       "      <td>166</td>\n",
       "      <td>hindi</td>\n",
       "    </tr>\n",
       "    <tr>\n",
       "      <th>370</th>\n",
       "      <td>da7397c5e</td>\n",
       "      <td>सीऐटल (अंग्रेजी: Seattle) अमेरिका के वाशिंगटन ...</td>\n",
       "      <td>सीटल शहर कहाँ स्थित है?</td>\n",
       "      <td>अमेरिका के वाशिंगटन राज्य</td>\n",
       "      <td>26</td>\n",
       "      <td>hindi</td>\n",
       "    </tr>\n",
       "    <tr>\n",
       "      <th>371</th>\n",
       "      <td>661880e43</td>\n",
       "      <td>सूर्य अथवा सूरज सौरमंडल के केन्द्र में स्थित ए...</td>\n",
       "      <td>पृथ्वी को सूर्य की परिक्रमा करने में कितने दिन...</td>\n",
       "      <td>28 दिनों</td>\n",
       "      <td>2762</td>\n",
       "      <td>hindi</td>\n",
       "    </tr>\n",
       "    <tr>\n",
       "      <th>372</th>\n",
       "      <td>3e3a2bed4</td>\n",
       "      <td>दिल्ली नगर निगम एक शहर व नगर निगम है, जो दिल्ल...</td>\n",
       "      <td>दिल्ली नगर निगम, दिल्ली के कितने जिलों में कार...</td>\n",
       "      <td>कुल नौ जिलों</td>\n",
       "      <td>51</td>\n",
       "      <td>hindi</td>\n",
       "    </tr>\n",
       "    <tr>\n",
       "      <th>...</th>\n",
       "      <td>...</td>\n",
       "      <td>...</td>\n",
       "      <td>...</td>\n",
       "      <td>...</td>\n",
       "      <td>...</td>\n",
       "      <td>...</td>\n",
       "    </tr>\n",
       "    <tr>\n",
       "      <th>1109</th>\n",
       "      <td>26f356026</td>\n",
       "      <td>स्वामी निगमानन्द परमहंस (18 अगस्त 1880 - 29 नव...</td>\n",
       "      <td>स्वामी निगमानन्द परमहंस के तन्त्र गुरु कौन थे?</td>\n",
       "      <td>बामाक्षेपा</td>\n",
       "      <td>2691</td>\n",
       "      <td>hindi</td>\n",
       "    </tr>\n",
       "    <tr>\n",
       "      <th>1110</th>\n",
       "      <td>31179f1bb</td>\n",
       "      <td>भरत मुनि ने नाट्यशास्त्र नामक प्रसिद्ध ग्रन्थ ...</td>\n",
       "      <td>नित्यशास्त्र किसने लिखा है?</td>\n",
       "      <td>भरत मुनि</td>\n",
       "      <td>0</td>\n",
       "      <td>hindi</td>\n",
       "    </tr>\n",
       "    <tr>\n",
       "      <th>1111</th>\n",
       "      <td>0d35dc007</td>\n",
       "      <td>अग्नि पंचम (अग्नि-५) भारत की अन्तरमहाद्वीपीय ब...</td>\n",
       "      <td>अग्नि पंचम(५) मिसाइल की लम्बाई कितने मीटर है?</td>\n",
       "      <td>17</td>\n",
       "      <td>155</td>\n",
       "      <td>hindi</td>\n",
       "    </tr>\n",
       "    <tr>\n",
       "      <th>1112</th>\n",
       "      <td>7f997884d</td>\n",
       "      <td>जलाल उद्दीन मोहम्मद अकबर () (१५ अक्तूबर, १५४२-...</td>\n",
       "      <td>मुगल सम्राट अकबर की मृत्यु किस वर्ष में हुई थी?</td>\n",
       "      <td>२७ अक्तूबर, १६०५</td>\n",
       "      <td>46</td>\n",
       "      <td>hindi</td>\n",
       "    </tr>\n",
       "    <tr>\n",
       "      <th>1113</th>\n",
       "      <td>ee569fe45</td>\n",
       "      <td>अमेरिका में जन्मीं अभिनेत्री तथा फैशन डिज़ाइनर...</td>\n",
       "      <td>लीजा रे की पहली फिल्म का नाम क्या था?</td>\n",
       "      <td>नेताजी</td>\n",
       "      <td>2017</td>\n",
       "      <td>hindi</td>\n",
       "    </tr>\n",
       "  </tbody>\n",
       "</table>\n",
       "<p>746 rows × 6 columns</p>\n",
       "</div>"
      ],
      "text/plain": [
       "             id                                            context  \\\n",
       "368   416091aeb  विषाणु अकोशिकीय अतिसूक्ष्म जीव हैं जो केवल जीव...   \n",
       "369   9d274ae3c  फ्लोरीन एक रासायनिक तत्व है। यह आवर्त सारणी (p...   \n",
       "370   da7397c5e  सीऐटल (अंग्रेजी: Seattle) अमेरिका के वाशिंगटन ...   \n",
       "371   661880e43  सूर्य अथवा सूरज सौरमंडल के केन्द्र में स्थित ए...   \n",
       "372   3e3a2bed4  दिल्ली नगर निगम एक शहर व नगर निगम है, जो दिल्ल...   \n",
       "...         ...                                                ...   \n",
       "1109  26f356026  स्वामी निगमानन्द परमहंस (18 अगस्त 1880 - 29 नव...   \n",
       "1110  31179f1bb  भरत मुनि ने नाट्यशास्त्र नामक प्रसिद्ध ग्रन्थ ...   \n",
       "1111  0d35dc007  अग्नि पंचम (अग्नि-५) भारत की अन्तरमहाद्वीपीय ब...   \n",
       "1112  7f997884d  जलाल उद्दीन मोहम्मद अकबर () (१५ अक्तूबर, १५४२-...   \n",
       "1113  ee569fe45  अमेरिका में जन्मीं अभिनेत्री तथा फैशन डिज़ाइनर...   \n",
       "\n",
       "                                               question  \\\n",
       "368   सन १८८६ में किसने बताया कि तम्बाकू में मोजेक र...   \n",
       "369                   फ्लोरीन की परमाणु संख्या क्या है?   \n",
       "370                             सीटल शहर कहाँ स्थित है?   \n",
       "371   पृथ्वी को सूर्य की परिक्रमा करने में कितने दिन...   \n",
       "372   दिल्ली नगर निगम, दिल्ली के कितने जिलों में कार...   \n",
       "...                                                 ...   \n",
       "1109     स्वामी निगमानन्द परमहंस के तन्त्र गुरु कौन थे?   \n",
       "1110                        नित्यशास्त्र किसने लिखा है?   \n",
       "1111      अग्नि पंचम(५) मिसाइल की लम्बाई कितने मीटर है?   \n",
       "1112    मुगल सम्राट अकबर की मृत्यु किस वर्ष में हुई थी?   \n",
       "1113              लीजा रे की पहली फिल्म का नाम क्या था?   \n",
       "\n",
       "                    answer_text  answer_start language  \n",
       "368                 एडोल्फ मेयर           935    hindi  \n",
       "369                           9           166    hindi  \n",
       "370   अमेरिका के वाशिंगटन राज्य            26    hindi  \n",
       "371                    28 दिनों          2762    hindi  \n",
       "372                कुल नौ जिलों            51    hindi  \n",
       "...                         ...           ...      ...  \n",
       "1109                 बामाक्षेपा          2691    hindi  \n",
       "1110                   भरत मुनि             0    hindi  \n",
       "1111                         17           155    hindi  \n",
       "1112           २७ अक्तूबर, १६०५            46    hindi  \n",
       "1113                     नेताजी          2017    hindi  \n",
       "\n",
       "[746 rows x 6 columns]"
      ]
     },
     "execution_count": 11,
     "metadata": {},
     "output_type": "execute_result"
    }
   ],
   "source": [
    "train[train['language']=='hindi']"
   ]
  },
  {
   "cell_type": "code",
   "execution_count": 13,
   "metadata": {},
   "outputs": [
    {
     "data": {
      "text/plain": [
       "'फ्लोरीन एक रासायनिक तत्व है। यह आवर्त सारणी (periodic table) के सप्तसमूह का प्रथम तत्व है, जिसमें सर्वाधिक अधातु गुण वर्तमान हैं। इसका एक स्थिर समस्थानिक (भारसंख्या 19) प्राप्त है और तीन रेडियोधर्मिता समस्थानिक (भारसंख्या 17,18 और 20) कृत्रिम साधनों से बनाए गए हैं। इस तत्व को 1886 ई. में मॉयसाँ ने पृथक्\\u200c किया। अत्यंत क्रियाशील तत्व होने के कारण इसको मुक्त अवस्था में बनाना अत्यंत कठिन कार्य था। मॉयसाँ ने विशुद्ध हाइड्रोक्लोरिक अम्ल तथा दहातु तरस्विनिक के मिश्रण के वैद्युत्\\u200c अपघटन द्वारा यह तत्व प्राप्त किया था।\\nतरस्विनी मुक्त अवस्था में नहीं पाया जाता। इसके यौगिक चूर्णातु तरस्विनिक (फ्लुओराइड), (चूर.त2) (CaF2) और क्रायोलाइड, (क्षा3स्फ.त6) (Na3AlF6) अनेक स्थानों पर मिलते हैं।\\nतरस्विनी का निर्माण मॉयसाँ विधि द्वारा किया जाता है। महातु घनातु मिश्रधातु का बना यू (U) के आकार का विद्युत्\\u200c अपघटनी कोशिका लिया जाता है, जिसके विद्युदग्र भी इसी मिश्रधातु के बने रहते हैं। हाइड्रोफ्लोरिक अम्ल में दहातु तरस्विनिक (फ्लुओराइड) विलयित कर - 23° सें. पर सेल में अपघटन करने से धनाग्र पर तरस्विनी मुक्त होगी। मुक्त तरस्विनी को विशुद्ध करने के हेतु प्लैटिनम के ठंडे बरतन तथा क्षारातु तरस्विनिक (फ्लुओराइड) की नलिकाओं द्वारा प्रवाहित किया जाता है।\\n गुण \\nतरस्विनी के कुछ भौतिक गुण निम्नांकित हैं:\\nसंकेत--- त (F)\\nपरमाणु संख्या --- 9\\nपरमाणु भार--- 19\\nगलनांक --- -223रू सें.\\nक्वथनांक --- -188रू सें.\\nआपेक्षिक घनत्व --- -1.265\\nपरमाणु व्यास --- 1.36 ऐंगस्ट्रॉम\\nतरस्विनी समस्त तत्वों में अपेक्षाकृत सर्वाधिक क्रियाशील पदार्थ है। हाइड्रोजन के साथ यह न्यून ताप पर भी विस्फोट के साथ संयुक्त हो जाता है।\\nहाइड्रोफ्लुओरिक अम्ल अथवा उदजन तरस्विनिक (हाइड्रोजन फ्लुओराइड) (उ.त)(HF) अथवा (उ2त2) (H2F2) अत्यंत विषैला पदार्थ है इसका विशुद्ध यौगिक विद्युत्\\u200c का कुचालक है। इसका जलीय विलयन तीव्र आम्लिक गुण युक्त होता है। यह काच पर क्रिया कर सैकता तरस्विनिक (सिलिकन फ्लुओराइड) बनाता है। इस गुण के कारण इसका उपयोग काच पर निशान बनाने में होता है। हाइड्रोफ्लुओरिक अम्ल के लवण तरस्विनिक (फ्लुओराइड) कहलाते हैं। कुछ तरस्विनिक जल में विलेय होते हैं।\\n उपयोग \\nतरस्विनी का उपयोग कीटमारक के रूप में होता है। इसके कुछ यौगिक, जैसे किरणात तरस्विनिक (यूरेनियम फ्लुओराइड), परमाणु ऊर्जा प्रयोगों में प्रयुक्त होते हैं। तरस्विनी के अनेक कार्बनिक यौगिक प्रशीतन उद्योग तथा प्लास्टिक उद्योग में काम आते हैं।\\n\\nश्रेणी:फ्लोरीन\\nश्रेणी:हैलोजन\\nश्रेणी:रासायनिक तत्व\\nश्रेणी:द्विपरमाणुक अधातु\\nश्रेणी:औद्योगिक गैसें\\nश्रेणी:ऑक्सीकारक'"
      ]
     },
     "execution_count": 13,
     "metadata": {},
     "output_type": "execute_result"
    }
   ],
   "source": [
    "train[train['language']=='hindi'].loc[369]['context']"
   ]
  },
  {
   "cell_type": "code",
   "execution_count": 16,
   "metadata": {},
   "outputs": [
    {
     "data": {
      "text/plain": [
       "'त'"
      ]
     },
     "execution_count": 16,
     "metadata": {},
     "output_type": "execute_result"
    }
   ],
   "source": [
    "train[train['language']=='hindi'].iloc[368]['context'][935]"
   ]
  },
  {
   "cell_type": "code",
   "execution_count": 21,
   "metadata": {},
   "outputs": [],
   "source": [
    "def convert(seconds):\n",
    "    seconds = seconds % (24 * 3600)\n",
    "    hour = seconds // 3600\n",
    "    seconds %= 3600\n",
    "    minutes = seconds // 60\n",
    "    seconds %= 60\n",
    "    return \"%d:%02d:%02d\" % (hour, minutes, seconds)"
   ]
  },
  {
   "cell_type": "code",
   "execution_count": 23,
   "metadata": {},
   "outputs": [
    {
     "data": {
      "text/plain": [
       "'6:33:06'"
      ]
     },
     "execution_count": 23,
     "metadata": {},
     "output_type": "execute_result"
    }
   ],
   "source": [
    "convert(23586.595484256744)"
   ]
  },
  {
   "cell_type": "code",
   "execution_count": null,
   "metadata": {},
   "outputs": [],
   "source": []
  }
 ],
 "metadata": {
  "kernelspec": {
   "display_name": "Python 3",
   "language": "python",
   "name": "python3"
  },
  "language_info": {
   "codemirror_mode": {
    "name": "ipython",
    "version": 3
   },
   "file_extension": ".py",
   "mimetype": "text/x-python",
   "name": "python",
   "nbconvert_exporter": "python",
   "pygments_lexer": "ipython3",
   "version": "3.7.4"
  }
 },
 "nbformat": 4,
 "nbformat_minor": 4
}
