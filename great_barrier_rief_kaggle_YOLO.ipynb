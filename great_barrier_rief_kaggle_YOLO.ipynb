{
 "cells": [
  {
   "cell_type": "markdown",
   "metadata": {},
   "source": [
    "## Great barrier rief\n",
    "\n",
    "kaggle great-barrier-reef: https://www.kaggle.com/c/tensorflow-great-barrier-reef/code?competitionId=31703&searchQuery=yolo (use this for yolo implementation)\n",
    "\n",
    "Kaggle ship detection: https://www.kaggle.com/c/airbus-ship-detection/code?competitionId=9988&searchQuery=yolo (use this for unet impelementation)"
   ]
  },
  {
   "cell_type": "markdown",
   "metadata": {},
   "source": [
    "## Import Libraries"
   ]
  },
  {
   "cell_type": "code",
   "execution_count": 8,
   "metadata": {},
   "outputs": [],
   "source": [
    "import os\n",
    "import sys\n",
    "import wandb\n",
    "import torch\n",
    "import time\n",
    "import random\n",
    "import shutil\n",
    "import yaml\n",
    "from tqdm import tqdm\n",
    "import warnings\n",
    "import cv2\n",
    "import pandas as pd\n",
    "import numpy as np\n",
    "import seaborn as sns\n",
    "import matplotlib as mpl\n",
    "import matplotlib.patches as patches\n",
    "import matplotlib.pyplot as plt\n",
    "from IPython.display import display_html"
   ]
  },
  {
   "cell_type": "code",
   "execution_count": 2,
   "metadata": {},
   "outputs": [],
   "source": [
    "## read files containg anchors, classes"
   ]
  },
  {
   "cell_type": "code",
   "execution_count": 9,
   "metadata": {},
   "outputs": [],
   "source": [
    "# Environment check\n",
    "warnings.filterwarnings(\"ignore\")\n",
    "os.environ[\"WANDB_SILENT\"] = \"true\"\n",
    "CONFIG = {'competition': 'greatReef', '_wandb_kernel': 'aot'}"
   ]
  },
  {
   "cell_type": "code",
   "execution_count": 12,
   "metadata": {},
   "outputs": [
    {
     "name": "stdout",
     "output_type": "stream",
     "text": [
      "wandb: Paste an API key from your profile and hit enter, or press ctrl+c to quit: ········\n"
     ]
    },
    {
     "data": {
      "text/plain": [
       "True"
      ]
     },
     "execution_count": 12,
     "metadata": {},
     "output_type": "execute_result"
    }
   ],
   "source": [
    "wandb.login()"
   ]
  },
  {
   "cell_type": "code",
   "execution_count": 13,
   "metadata": {
    "scrolled": true
   },
   "outputs": [
    {
     "data": {
      "text/html": [
       "<button onClick=\"this.nextSibling.style.display='block';this.style.display='none';\">Display W&B run</button><iframe src=\"https://wandb.ai/neha30/kaggle_barrier_reif/runs/fg79bt8a?jupyter=true\" style=\"border:none;width:100%;height:420px;display:none;\"></iframe>"
      ],
      "text/plain": [
       "<wandb.sdk.wandb_run.Run at 0x162f6ac10>"
      ]
     },
     "execution_count": 13,
     "metadata": {},
     "output_type": "execute_result"
    }
   ],
   "source": [
    "wandb.init(project=\"kaggle_barrier_reif\",\n",
    "           config={'competition': 'greatReef', '_wandb_kernel': 'aot'})\n"
   ]
  },
  {
   "cell_type": "code",
   "execution_count": 14,
   "metadata": {},
   "outputs": [],
   "source": [
    "# Custom colors\n",
    "class color:\n",
    "    S = '\\033[1m' + '\\033[94m'\n",
    "    E = '\\033[0m'"
   ]
  },
  {
   "cell_type": "code",
   "execution_count": 15,
   "metadata": {},
   "outputs": [
    {
     "name": "stdout",
     "output_type": "stream",
     "text": [
      "\u001b[1m\u001b[94mCurrent Directory\u001b[0m /Users/nehapawar/Desktop/neha/Contests\n",
      "\u001b[1m\u001b[94mNotebook Color Scheme:\u001b[0m\n"
     ]
    },
    {
     "data": {
      "image/png": "[encoded data removed]",
      "text/plain": [
       "<Figure size 432x72 with 1 Axes>"
      ]
     },
     "metadata": {
      "needs_background": "light"
     },
     "output_type": "display_data"
    }
   ],
   "source": [
    "my_colors = [\"#16558F\", \"#1583D2\", \"#61B0B7\", \"#ADDEFF\", \"#A99AEA\", \"#7158B7\"]\n",
    "print(color.S+\"Current Directory\"+color.E, os.getcwd())\n",
    "print(color.S+\"Notebook Color Scheme:\"+color.E)\n",
    "sns.palplot(sns.color_palette(my_colors))"
   ]
  },
  {
   "cell_type": "markdown",
   "metadata": {},
   "source": [
    "## Helper function for wandb"
   ]
  },
  {
   "cell_type": "code",
   "execution_count": 16,
   "metadata": {},
   "outputs": [],
   "source": [
    "def save_dataset_artifact(run_name, artifact_name, path):\n",
    "    '''Saves dataset to W&B Artifactory.\n",
    "    run_name: name of the experiment\n",
    "    artifact_name: under what name should the dataset be stored\n",
    "    path: path to the dataset'''\n",
    "    \n",
    "    run = wandb.init(project='g2net', \n",
    "                     name=run_name, \n",
    "                     config=CONFIG, anonymous=\"allow\")\n",
    "    artifact = wandb.Artifact(name=artifact_name, \n",
    "                              type='dataset')\n",
    "    artifact.add_file(path)\n",
    "\n",
    "    wandb.log_artifact(artifact)\n",
    "    wandb.finish()\n",
    "    print(\"Artifact has been saved successfully.\")"
   ]
  },
  {
   "cell_type": "code",
   "execution_count": 17,
   "metadata": {},
   "outputs": [],
   "source": [
    "def create_wandb_plot(x_data=None, y_data=None, x_name=None, y_name=None, title=None, log=None, plot=\"line\"):\n",
    "    '''Create and save lineplot/barplot in W&B Environment.\n",
    "    x_data & y_data: Pandas Series containing x & y data\n",
    "    x_name & y_name: strings containing axis names\n",
    "    title: title of the graph\n",
    "    log: string containing name of log'''\n",
    "    \n",
    "    data = [[label, val] for (label, val) in zip(x_data, y_data)]\n",
    "    table = wandb.Table(data=data, columns = [x_name, y_name])\n",
    "    \n",
    "    if plot == \"line\":\n",
    "        wandb.log({log : wandb.plot.line(table, x_name, y_name, title=title)})\n",
    "    elif plot == \"bar\":\n",
    "        wandb.log({log : wandb.plot.bar(table, x_name, y_name, title=title)})\n",
    "    elif plot == \"scatter\":\n",
    "        wandb.log({log : wandb.plot.scatter(table, x_name, y_name, title=title)})\n",
    "        "
   ]
  },
  {
   "cell_type": "code",
   "execution_count": 18,
   "metadata": {},
   "outputs": [],
   "source": [
    "def create_wandb_hist(x_data=None, x_name=None, title=None, log=None):\n",
    "    '''Create and save histogram in W&B Environment.\n",
    "    x_data: Pandas Series containing x values\n",
    "    x_name: strings containing axis name\n",
    "    title: title of the graph\n",
    "    log: string containing name of log'''\n",
    "    \n",
    "    data = [[x] for x in x_data]\n",
    "    table = wandb.Table(data=data, columns=[x_name])\n",
    "    wandb.log({log : wandb.plot.histogram(table, x_name, title=title)})"
   ]
  },
  {
   "cell_type": "markdown",
   "metadata": {},
   "source": [
    "## Data Prepration\n",
    "\n",
    "Create two folders:\n",
    "    1. images - empty folder where we will store our training images\n",
    "    2. labels - empty folder where we will store out labels (or annotations) found within these images"
   ]
  },
  {
   "cell_type": "code",
   "execution_count": 22,
   "metadata": {},
   "outputs": [
    {
     "data": {
      "text/html": [
       "<div>\n",
       "<style scoped>\n",
       "    .dataframe tbody tr th:only-of-type {\n",
       "        vertical-align: middle;\n",
       "    }\n",
       "\n",
       "    .dataframe tbody tr th {\n",
       "        vertical-align: top;\n",
       "    }\n",
       "\n",
       "    .dataframe thead th {\n",
       "        text-align: right;\n",
       "    }\n",
       "</style>\n",
       "<table border=\"1\" class=\"dataframe\">\n",
       "  <thead>\n",
       "    <tr style=\"text-align: right;\">\n",
       "      <th></th>\n",
       "      <th>video_id</th>\n",
       "      <th>sequence</th>\n",
       "      <th>video_frame</th>\n",
       "      <th>sequence_frame</th>\n",
       "      <th>image_id</th>\n",
       "      <th>annotations</th>\n",
       "      <th>no_annotations</th>\n",
       "      <th>path</th>\n",
       "      <th>f_annotations</th>\n",
       "      <th>path_images</th>\n",
       "      <th>path_labels</th>\n",
       "      <th>width</th>\n",
       "      <th>height</th>\n",
       "      <th>coco_bbox</th>\n",
       "    </tr>\n",
       "  </thead>\n",
       "  <tbody>\n",
       "    <tr>\n",
       "      <th>3825</th>\n",
       "      <td>1</td>\n",
       "      <td>60754</td>\n",
       "      <td>9037</td>\n",
       "      <td>621</td>\n",
       "      <td>1-9037</td>\n",
       "      <td>[{'x': 424, 'y': 284, 'width': 44, 'height': 33}]</td>\n",
       "      <td>1</td>\n",
       "      <td>../input/tensorflow-great-barrier-reef/train_i...</td>\n",
       "      <td>[[424, 284, 468, 317]]</td>\n",
       "      <td>/kaggle/images/video_1_9037.jpg</td>\n",
       "      <td>/kaggle/labels/video_1_9037.txt</td>\n",
       "      <td>1280</td>\n",
       "      <td>720</td>\n",
       "      <td>[[424, 284, 44, 33]]</td>\n",
       "    </tr>\n",
       "    <tr>\n",
       "      <th>2368</th>\n",
       "      <td>1</td>\n",
       "      <td>8503</td>\n",
       "      <td>3925</td>\n",
       "      <td>97</td>\n",
       "      <td>1-3925</td>\n",
       "      <td>[{'x': 61, 'y': 254, 'width': 67, 'height': 44...</td>\n",
       "      <td>4</td>\n",
       "      <td>../input/tensorflow-great-barrier-reef/train_i...</td>\n",
       "      <td>[[61, 254, 128, 298], [2, 311, 75, 361], [24, ...</td>\n",
       "      <td>/kaggle/images/video_1_3925.jpg</td>\n",
       "      <td>/kaggle/labels/video_1_3925.txt</td>\n",
       "      <td>1280</td>\n",
       "      <td>720</td>\n",
       "      <td>[[61, 254, 67, 44], [2, 311, 73, 50], [24, 290...</td>\n",
       "    </tr>\n",
       "    <tr>\n",
       "      <th>178</th>\n",
       "      <td>0</td>\n",
       "      <td>40258</td>\n",
       "      <td>246</td>\n",
       "      <td>246</td>\n",
       "      <td>0-246</td>\n",
       "      <td>[{'x': 881, 'y': 259, 'width': 28, 'height': 25}]</td>\n",
       "      <td>1</td>\n",
       "      <td>../input/tensorflow-great-barrier-reef/train_i...</td>\n",
       "      <td>[[881, 259, 909, 284]]</td>\n",
       "      <td>/kaggle/images/video_0_246.jpg</td>\n",
       "      <td>/kaggle/labels/video_0_246.txt</td>\n",
       "      <td>1280</td>\n",
       "      <td>720</td>\n",
       "      <td>[[881, 259, 28, 25]]</td>\n",
       "    </tr>\n",
       "  </tbody>\n",
       "</table>\n",
       "</div>"
      ],
      "text/plain": [
       "      video_id  sequence  video_frame  sequence_frame image_id  \\\n",
       "3825         1     60754         9037             621   1-9037   \n",
       "2368         1      8503         3925              97   1-3925   \n",
       "178          0     40258          246             246    0-246   \n",
       "\n",
       "                                            annotations  no_annotations  \\\n",
       "3825  [{'x': 424, 'y': 284, 'width': 44, 'height': 33}]               1   \n",
       "2368  [{'x': 61, 'y': 254, 'width': 67, 'height': 44...               4   \n",
       "178   [{'x': 881, 'y': 259, 'width': 28, 'height': 25}]               1   \n",
       "\n",
       "                                                   path  \\\n",
       "3825  ../input/tensorflow-great-barrier-reef/train_i...   \n",
       "2368  ../input/tensorflow-great-barrier-reef/train_i...   \n",
       "178   ../input/tensorflow-great-barrier-reef/train_i...   \n",
       "\n",
       "                                          f_annotations  \\\n",
       "3825                             [[424, 284, 468, 317]]   \n",
       "2368  [[61, 254, 128, 298], [2, 311, 75, 361], [24, ...   \n",
       "178                              [[881, 259, 909, 284]]   \n",
       "\n",
       "                          path_images                      path_labels  width  \\\n",
       "3825  /kaggle/images/video_1_9037.jpg  /kaggle/labels/video_1_9037.txt   1280   \n",
       "2368  /kaggle/images/video_1_3925.jpg  /kaggle/labels/video_1_3925.txt   1280   \n",
       "178    /kaggle/images/video_0_246.jpg   /kaggle/labels/video_0_246.txt   1280   \n",
       "\n",
       "      height                                          coco_bbox  \n",
       "3825     720                               [[424, 284, 44, 33]]  \n",
       "2368     720  [[61, 254, 67, 44], [2, 311, 73, 50], [24, 290...  \n",
       "178      720                               [[881, 259, 28, 25]]  "
      ]
     },
     "execution_count": 22,
     "metadata": {},
     "output_type": "execute_result"
    }
   ],
   "source": [
    "# Import the prepped train dataset\n",
    "train = pd.read_csv(\"../data/tensorflow-great-barrier-reef/output/train.csv\")\n",
    "\n",
    "# Remove all images that have no bounding box (removing ~80% of data)\n",
    "train = train[train[\"no_annotations\"]>0].reset_index(drop=True)\n",
    "\n",
    "train.sample(3, random_state=24)"
   ]
  },
  {
   "cell_type": "code",
   "execution_count": null,
   "metadata": {},
   "outputs": [],
   "source": []
  }
 ],
 "metadata": {
  "kernelspec": {
   "display_name": "Python 3",
   "language": "python",
   "name": "python3"
  },
  "language_info": {
   "codemirror_mode": {
    "name": "ipython",
    "version": 3
   },
   "file_extension": ".py",
   "mimetype": "text/x-python",
   "name": "python",
   "nbconvert_exporter": "python",
   "pygments_lexer": "ipython3",
   "version": "3.7.4"
  }
 },
 "nbformat": 4,
 "nbformat_minor": 4
}
