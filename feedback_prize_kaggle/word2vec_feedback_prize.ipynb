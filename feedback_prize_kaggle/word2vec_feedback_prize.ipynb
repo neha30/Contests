{
 "cells": [
  {
   "cell_type": "code",
   "execution_count": 101,
   "metadata": {},
   "outputs": [],
   "source": [
    "import pandas as pd\n",
    "import numpy as np\n",
    "import re\n",
    "import os\n",
    "import matplotlib.pyplot as plt\n",
    "import seaborn as sns\n",
    "from collections import defaultdict\n",
    "import random\n",
    "\n",
    "from sklearn.feature_extraction.text import TfidfVectorizer\n",
    "from sklearn.model_selection import KFold\n",
    "from sklearn.ensemble import RandomForestClassifier\n",
    "from sklearn.model_selection import cross_val_score\n",
    "from sklearn .model_selection import train_test_split\n",
    "from sklearn.svm import LinearSVC\n",
    "from sklearn.naive_bayes import MultinomialNB\n",
    "from sklearn.metrics import confusion_matrix\n",
    "from sklearn.metrics import accuracy_score\n",
    "\n",
    "import gensim\n",
    "from gensim.models.doc2vec import Doc2Vec, TaggedDocument\n",
    "\n",
    "import nltk\n",
    "from nltk.corpus import stopwords\n",
    "from nltk.stem import SnowballStemmer\n",
    "from string import punctuation\n",
    "from nltk.stem.wordnet import WordNetLemmatizer\n",
    "from tqdm import tqdm\n",
    "\n",
    "from keras.preprocessing.text import Tokenizer\n",
    "from keras.preprocessing.sequence import pad_sequences\n",
    "from keras.models import Sequential\n",
    "from keras.layers import Dense, Embedding, LSTM, SpatialDropout1D ,LSTM ,TimeDistributed\n",
    "from keras.utils.np_utils import to_categorical\n",
    "from keras.callbacks import EarlyStopping , ModelCheckpoint\n",
    "from keras.layers import Dropout\n",
    "\n",
    "\n",
    "%matplotlib inline"
   ]
  },
  {
   "cell_type": "code",
   "execution_count": 102,
   "metadata": {},
   "outputs": [
    {
     "data": {
      "text/plain": [
       "(144293, 8)"
      ]
     },
     "execution_count": 102,
     "metadata": {},
     "output_type": "execute_result"
    }
   ],
   "source": [
    "train = pd.read_csv('../../data/feedback-prize-2021/train.csv')\n",
    "train.shape"
   ]
  },
  {
   "cell_type": "code",
   "execution_count": 103,
   "metadata": {},
   "outputs": [],
   "source": [
    "TEST_PATH = \"../../data/feedback-prize-2021/test\"\n",
    "\n",
    "def get_test_text(a_id):\n",
    "    a_file = f\"{TEST_PATH}/{a_id}.txt\"\n",
    "    with open(a_file, \"r\") as fp:\n",
    "        txt = fp.read()\n",
    "    return txt\n",
    "\n",
    "def create_df_test():\n",
    "    test_ids = [f[:-4] for f in os.listdir(TEST_PATH)] #Remove the last 4 characters ('.txt') in the filenames such as '0FB0700DAF44.txt'.\n",
    "    test_data = []\n",
    "    for test_id in test_ids:\n",
    "        text = get_test_text(test_id)\n",
    "        sentences = nltk.sent_tokenize(text)\n",
    "        id_sentences = []\n",
    "        idx = 0 \n",
    "        for sentence in sentences:\n",
    "            id_sentence = []\n",
    "            words = sentence.split()\n",
    "            # I created this heuristic for mapping words in sentences to \"word indices\"\n",
    "            # This is not definitive and might have strong drawbacks and problems\n",
    "            for w in words:\n",
    "                id_sentence.append(idx)\n",
    "                idx+=1\n",
    "            id_sentences.append(id_sentence)\n",
    "        test_data += list(zip([test_id] * len(sentences), sentences, id_sentences))\n",
    "    df_test = pd.DataFrame(test_data, columns=['id', 'discourse_text', 'ids'])\n",
    "    return df_test"
   ]
  },
  {
   "cell_type": "code",
   "execution_count": 104,
   "metadata": {},
   "outputs": [
    {
     "data": {
      "text/html": [
       "<div>\n",
       "<style scoped>\n",
       "    .dataframe tbody tr th:only-of-type {\n",
       "        vertical-align: middle;\n",
       "    }\n",
       "\n",
       "    .dataframe tbody tr th {\n",
       "        vertical-align: top;\n",
       "    }\n",
       "\n",
       "    .dataframe thead th {\n",
       "        text-align: right;\n",
       "    }\n",
       "</style>\n",
       "<table border=\"1\" class=\"dataframe\">\n",
       "  <thead>\n",
       "    <tr style=\"text-align: right;\">\n",
       "      <th></th>\n",
       "      <th>id</th>\n",
       "      <th>discourse_text</th>\n",
       "      <th>ids</th>\n",
       "    </tr>\n",
       "  </thead>\n",
       "  <tbody>\n",
       "    <tr>\n",
       "      <th>0</th>\n",
       "      <td>DF920E0A7337</td>\n",
       "      <td>Have you ever asked more than one person for h...</td>\n",
       "      <td>[0, 1, 2, 3, 4, 5, 6, 7, 8, 9, 10, 11, 12, 13,...</td>\n",
       "    </tr>\n",
       "    <tr>\n",
       "      <th>1</th>\n",
       "      <td>DF920E0A7337</td>\n",
       "      <td>Interviews are a perfect example of seeking mo...</td>\n",
       "      <td>[18, 19, 20, 21, 22, 23, 24, 25, 26, 27, 28]</td>\n",
       "    </tr>\n",
       "    <tr>\n",
       "      <th>2</th>\n",
       "      <td>DF920E0A7337</td>\n",
       "      <td>Interviews are seen on the news, in profession...</td>\n",
       "      <td>[29, 30, 31, 32, 33, 34, 35, 36, 37, 38, 39, 4...</td>\n",
       "    </tr>\n",
       "    <tr>\n",
       "      <th>3</th>\n",
       "      <td>DF920E0A7337</td>\n",
       "      <td>There are a lot of people that can help you bu...</td>\n",
       "      <td>[43, 44, 45, 46, 47, 48, 49, 50, 51, 52, 53, 5...</td>\n",
       "    </tr>\n",
       "    <tr>\n",
       "      <th>4</th>\n",
       "      <td>DF920E0A7337</td>\n",
       "      <td>They can all open you up to new ideas.</td>\n",
       "      <td>[59, 60, 61, 62, 63, 64, 65, 66, 67]</td>\n",
       "    </tr>\n",
       "  </tbody>\n",
       "</table>\n",
       "</div>"
      ],
      "text/plain": [
       "             id                                     discourse_text  \\\n",
       "0  DF920E0A7337  Have you ever asked more than one person for h...   \n",
       "1  DF920E0A7337  Interviews are a perfect example of seeking mo...   \n",
       "2  DF920E0A7337  Interviews are seen on the news, in profession...   \n",
       "3  DF920E0A7337  There are a lot of people that can help you bu...   \n",
       "4  DF920E0A7337             They can all open you up to new ideas.   \n",
       "\n",
       "                                                 ids  \n",
       "0  [0, 1, 2, 3, 4, 5, 6, 7, 8, 9, 10, 11, 12, 13,...  \n",
       "1       [18, 19, 20, 21, 22, 23, 24, 25, 26, 27, 28]  \n",
       "2  [29, 30, 31, 32, 33, 34, 35, 36, 37, 38, 39, 4...  \n",
       "3  [43, 44, 45, 46, 47, 48, 49, 50, 51, 52, 53, 5...  \n",
       "4               [59, 60, 61, 62, 63, 64, 65, 66, 67]  "
      ]
     },
     "execution_count": 104,
     "metadata": {},
     "output_type": "execute_result"
    }
   ],
   "source": [
    "df_test = create_df_test()\n",
    "df_test.head()"
   ]
  },
  {
   "cell_type": "code",
   "execution_count": 105,
   "metadata": {},
   "outputs": [
    {
     "data": {
      "text/html": [
       "<div>\n",
       "<style scoped>\n",
       "    .dataframe tbody tr th:only-of-type {\n",
       "        vertical-align: middle;\n",
       "    }\n",
       "\n",
       "    .dataframe tbody tr th {\n",
       "        vertical-align: top;\n",
       "    }\n",
       "\n",
       "    .dataframe thead th {\n",
       "        text-align: right;\n",
       "    }\n",
       "</style>\n",
       "<table border=\"1\" class=\"dataframe\">\n",
       "  <thead>\n",
       "    <tr style=\"text-align: right;\">\n",
       "      <th></th>\n",
       "      <th>id</th>\n",
       "      <th>discourse_text</th>\n",
       "      <th>ids</th>\n",
       "      <th>predictionstring</th>\n",
       "    </tr>\n",
       "  </thead>\n",
       "  <tbody>\n",
       "    <tr>\n",
       "      <th>0</th>\n",
       "      <td>DF920E0A7337</td>\n",
       "      <td>Have you ever asked more than one person for h...</td>\n",
       "      <td>[0, 1, 2, 3, 4, 5, 6, 7, 8, 9, 10, 11, 12, 13,...</td>\n",
       "      <td>0 1 2 3 4 5 6 7 8 9 10 11 12 13 14 15 16 17</td>\n",
       "    </tr>\n",
       "    <tr>\n",
       "      <th>1</th>\n",
       "      <td>DF920E0A7337</td>\n",
       "      <td>Interviews are a perfect example of seeking mo...</td>\n",
       "      <td>[18, 19, 20, 21, 22, 23, 24, 25, 26, 27, 28]</td>\n",
       "      <td>18 19 20 21 22 23 24 25 26 27 28</td>\n",
       "    </tr>\n",
       "    <tr>\n",
       "      <th>2</th>\n",
       "      <td>DF920E0A7337</td>\n",
       "      <td>Interviews are seen on the news, in profession...</td>\n",
       "      <td>[29, 30, 31, 32, 33, 34, 35, 36, 37, 38, 39, 4...</td>\n",
       "      <td>29 30 31 32 33 34 35 36 37 38 39 40 41 42</td>\n",
       "    </tr>\n",
       "    <tr>\n",
       "      <th>3</th>\n",
       "      <td>DF920E0A7337</td>\n",
       "      <td>There are a lot of people that can help you bu...</td>\n",
       "      <td>[43, 44, 45, 46, 47, 48, 49, 50, 51, 52, 53, 5...</td>\n",
       "      <td>43 44 45 46 47 48 49 50 51 52 53 54 55 56 57 58</td>\n",
       "    </tr>\n",
       "    <tr>\n",
       "      <th>4</th>\n",
       "      <td>DF920E0A7337</td>\n",
       "      <td>They can all open you up to new ideas.</td>\n",
       "      <td>[59, 60, 61, 62, 63, 64, 65, 66, 67]</td>\n",
       "      <td>59 60 61 62 63 64 65 66 67</td>\n",
       "    </tr>\n",
       "  </tbody>\n",
       "</table>\n",
       "</div>"
      ],
      "text/plain": [
       "             id                                     discourse_text  \\\n",
       "0  DF920E0A7337  Have you ever asked more than one person for h...   \n",
       "1  DF920E0A7337  Interviews are a perfect example of seeking mo...   \n",
       "2  DF920E0A7337  Interviews are seen on the news, in profession...   \n",
       "3  DF920E0A7337  There are a lot of people that can help you bu...   \n",
       "4  DF920E0A7337             They can all open you up to new ideas.   \n",
       "\n",
       "                                                 ids  \\\n",
       "0  [0, 1, 2, 3, 4, 5, 6, 7, 8, 9, 10, 11, 12, 13,...   \n",
       "1       [18, 19, 20, 21, 22, 23, 24, 25, 26, 27, 28]   \n",
       "2  [29, 30, 31, 32, 33, 34, 35, 36, 37, 38, 39, 4...   \n",
       "3  [43, 44, 45, 46, 47, 48, 49, 50, 51, 52, 53, 5...   \n",
       "4               [59, 60, 61, 62, 63, 64, 65, 66, 67]   \n",
       "\n",
       "                                  predictionstring  \n",
       "0      0 1 2 3 4 5 6 7 8 9 10 11 12 13 14 15 16 17  \n",
       "1                 18 19 20 21 22 23 24 25 26 27 28  \n",
       "2        29 30 31 32 33 34 35 36 37 38 39 40 41 42  \n",
       "3  43 44 45 46 47 48 49 50 51 52 53 54 55 56 57 58  \n",
       "4                       59 60 61 62 63 64 65 66 67  "
      ]
     },
     "execution_count": 105,
     "metadata": {},
     "output_type": "execute_result"
    }
   ],
   "source": [
    "df_test['predictionstring'] = df_test['ids'].apply(lambda x: ' '.join([str(i) for i in x]))\n",
    "df_test.head()"
   ]
  },
  {
   "cell_type": "code",
   "execution_count": 106,
   "metadata": {},
   "outputs": [],
   "source": [
    "df_test = df_test.drop('ids', axis=1)"
   ]
  },
  {
   "cell_type": "code",
   "execution_count": 107,
   "metadata": {},
   "outputs": [
    {
     "data": {
      "text/html": [
       "<div>\n",
       "<style scoped>\n",
       "    .dataframe tbody tr th:only-of-type {\n",
       "        vertical-align: middle;\n",
       "    }\n",
       "\n",
       "    .dataframe tbody tr th {\n",
       "        vertical-align: top;\n",
       "    }\n",
       "\n",
       "    .dataframe thead th {\n",
       "        text-align: right;\n",
       "    }\n",
       "</style>\n",
       "<table border=\"1\" class=\"dataframe\">\n",
       "  <thead>\n",
       "    <tr style=\"text-align: right;\">\n",
       "      <th></th>\n",
       "      <th>id</th>\n",
       "      <th>discourse_text</th>\n",
       "      <th>predictionstring</th>\n",
       "    </tr>\n",
       "  </thead>\n",
       "  <tbody>\n",
       "    <tr>\n",
       "      <th>0</th>\n",
       "      <td>DF920E0A7337</td>\n",
       "      <td>Have you ever asked more than one person for h...</td>\n",
       "      <td>0 1 2 3 4 5 6 7 8 9 10 11 12 13 14 15 16 17</td>\n",
       "    </tr>\n",
       "    <tr>\n",
       "      <th>1</th>\n",
       "      <td>DF920E0A7337</td>\n",
       "      <td>Interviews are a perfect example of seeking mo...</td>\n",
       "      <td>18 19 20 21 22 23 24 25 26 27 28</td>\n",
       "    </tr>\n",
       "    <tr>\n",
       "      <th>2</th>\n",
       "      <td>DF920E0A7337</td>\n",
       "      <td>Interviews are seen on the news, in profession...</td>\n",
       "      <td>29 30 31 32 33 34 35 36 37 38 39 40 41 42</td>\n",
       "    </tr>\n",
       "    <tr>\n",
       "      <th>3</th>\n",
       "      <td>DF920E0A7337</td>\n",
       "      <td>There are a lot of people that can help you bu...</td>\n",
       "      <td>43 44 45 46 47 48 49 50 51 52 53 54 55 56 57 58</td>\n",
       "    </tr>\n",
       "    <tr>\n",
       "      <th>4</th>\n",
       "      <td>DF920E0A7337</td>\n",
       "      <td>They can all open you up to new ideas.</td>\n",
       "      <td>59 60 61 62 63 64 65 66 67</td>\n",
       "    </tr>\n",
       "  </tbody>\n",
       "</table>\n",
       "</div>"
      ],
      "text/plain": [
       "             id                                     discourse_text  \\\n",
       "0  DF920E0A7337  Have you ever asked more than one person for h...   \n",
       "1  DF920E0A7337  Interviews are a perfect example of seeking mo...   \n",
       "2  DF920E0A7337  Interviews are seen on the news, in profession...   \n",
       "3  DF920E0A7337  There are a lot of people that can help you bu...   \n",
       "4  DF920E0A7337             They can all open you up to new ideas.   \n",
       "\n",
       "                                  predictionstring  \n",
       "0      0 1 2 3 4 5 6 7 8 9 10 11 12 13 14 15 16 17  \n",
       "1                 18 19 20 21 22 23 24 25 26 27 28  \n",
       "2        29 30 31 32 33 34 35 36 37 38 39 40 41 42  \n",
       "3  43 44 45 46 47 48 49 50 51 52 53 54 55 56 57 58  \n",
       "4                       59 60 61 62 63 64 65 66 67  "
      ]
     },
     "execution_count": 107,
     "metadata": {},
     "output_type": "execute_result"
    }
   ],
   "source": [
    "df_test.head()"
   ]
  },
  {
   "cell_type": "code",
   "execution_count": 8,
   "metadata": {},
   "outputs": [],
   "source": [
    "df = train.append(df_test)"
   ]
  },
  {
   "cell_type": "markdown",
   "metadata": {},
   "source": [
    "## Preprocessing"
   ]
  },
  {
   "cell_type": "code",
   "execution_count": 160,
   "metadata": {},
   "outputs": [],
   "source": [
    "def clean_text(text, remove_stopwords=True, stem_words=False, lemma=True):\n",
    "    BAD_SYMBOLS_RE = re.compile('[^0-9a-z #+_]')\n",
    "    text = str(text).lower().split()\n",
    "    \n",
    "    if remove_stopwords:\n",
    "        stops = stopwords.words(\"english\")\n",
    "        text = [x for x in text if not x in stops]\n",
    "        \n",
    "    text = ' '.join(text)\n",
    "    \n",
    "    text = re.sub(r\"[-()\\\"#/<>!@&;*:<>{}`'+=~%|.!?,_]\", \" \", text)\n",
    "    text = re.sub(r\"\\]\", \" \", text)\n",
    "    text = re.sub(r\"\\[\", \" \", text)\n",
    "    text = re.sub(r\"\\/\", \" \", text)\n",
    "    text = re.sub(r\"\\\\\", \" \", text)\n",
    "    #text = BAD_SYMBOLS_RE.sub('', text) \n",
    "    text = re.sub(r\"\\'ve\", \" have \", text)\n",
    "    text = re.sub(r\"can't\", \"cannot \", text)\n",
    "    text = re.sub(r\"n't\", \" not \", text)\n",
    "    text = re.sub(r\"\\'re\", \" are \", text)\n",
    "    text = re.sub(r\"\\'d\", \" would \", text)\n",
    "    text = re.sub(r\"\\'ll\", \" will \", text)\n",
    "    text = re.sub(r\"  \", \" \", text)\n",
    "    text = re.sub(r\"   \", \" \", text)\n",
    "    text = re.sub(r\"   \", \" \", text)\n",
    "    text = re.sub(r\"0x00\", \"\", text)\n",
    "    \n",
    "    if stem_words:\n",
    "        text = text.split()\n",
    "        stemmer = SnowballStemmer('english')\n",
    "        stem_words = [stemmer.stem(x) for x in text]\n",
    "        text = \" \".join(text)\n",
    "        \n",
    "    if lemma:\n",
    "        text = text.split()\n",
    "        lem = WordNetLemmatizer()\n",
    "        lemmatized = [lem.lemmatize(x, \"v\") for x in text]\n",
    "        text = \" \".join(text)\n",
    "        \n",
    "    return text"
   ]
  },
  {
   "cell_type": "code",
   "execution_count": 109,
   "metadata": {},
   "outputs": [
    {
     "name": "stdout",
     "output_type": "stream",
     "text": [
      "CPU times: user 39.6 s, sys: 3.62 s, total: 43.2 s\n",
      "Wall time: 43.2 s\n"
     ]
    }
   ],
   "source": [
    "%%time\n",
    "train['cleaned_text'] = train.discourse_text.apply(clean_text)"
   ]
  },
  {
   "cell_type": "code",
   "execution_count": 110,
   "metadata": {},
   "outputs": [
    {
     "data": {
      "text/plain": [
       "'Modern humans today are always on their phone. They are always on their phone more than 5 hours a day no stop .All they do is text back and forward and just have group Chats on social media. They even do it while driving.'"
      ]
     },
     "execution_count": 110,
     "metadata": {},
     "output_type": "execute_result"
    }
   ],
   "source": [
    "train.iloc[0]['discourse_text']"
   ]
  },
  {
   "cell_type": "code",
   "execution_count": 111,
   "metadata": {},
   "outputs": [
    {
     "data": {
      "text/plain": [
       "'modern humans today always phone always phone 5 hours day stop all text back forward group chats social media even driving'"
      ]
     },
     "execution_count": 111,
     "metadata": {},
     "output_type": "execute_result"
    }
   ],
   "source": [
    "train.iloc[0]['cleaned_text']"
   ]
  },
  {
   "cell_type": "code",
   "execution_count": 112,
   "metadata": {},
   "outputs": [
    {
     "data": {
      "text/html": [
       "<div>\n",
       "<style scoped>\n",
       "    .dataframe tbody tr th:only-of-type {\n",
       "        vertical-align: middle;\n",
       "    }\n",
       "\n",
       "    .dataframe tbody tr th {\n",
       "        vertical-align: top;\n",
       "    }\n",
       "\n",
       "    .dataframe thead th {\n",
       "        text-align: right;\n",
       "    }\n",
       "</style>\n",
       "<table border=\"1\" class=\"dataframe\">\n",
       "  <thead>\n",
       "    <tr style=\"text-align: right;\">\n",
       "      <th></th>\n",
       "      <th>id</th>\n",
       "      <th>discourse_id</th>\n",
       "      <th>discourse_start</th>\n",
       "      <th>discourse_end</th>\n",
       "      <th>discourse_text</th>\n",
       "      <th>discourse_type</th>\n",
       "      <th>discourse_type_num</th>\n",
       "      <th>predictionstring</th>\n",
       "      <th>cleaned_text</th>\n",
       "    </tr>\n",
       "  </thead>\n",
       "  <tbody>\n",
       "    <tr>\n",
       "      <th>0</th>\n",
       "      <td>423A1CA112E2</td>\n",
       "      <td>1.622628e+12</td>\n",
       "      <td>8.0</td>\n",
       "      <td>229.0</td>\n",
       "      <td>Modern humans today are always on their phone....</td>\n",
       "      <td>Lead</td>\n",
       "      <td>Lead 1</td>\n",
       "      <td>1 2 3 4 5 6 7 8 9 10 11 12 13 14 15 16 17 18 1...</td>\n",
       "      <td>modern humans today always phone always phone ...</td>\n",
       "    </tr>\n",
       "    <tr>\n",
       "      <th>1</th>\n",
       "      <td>423A1CA112E2</td>\n",
       "      <td>1.622628e+12</td>\n",
       "      <td>230.0</td>\n",
       "      <td>312.0</td>\n",
       "      <td>They are some really bad consequences when stu...</td>\n",
       "      <td>Position</td>\n",
       "      <td>Position 1</td>\n",
       "      <td>45 46 47 48 49 50 51 52 53 54 55 56 57 58 59</td>\n",
       "      <td>really bad consequences stuff happens comes phone</td>\n",
       "    </tr>\n",
       "    <tr>\n",
       "      <th>2</th>\n",
       "      <td>423A1CA112E2</td>\n",
       "      <td>1.622628e+12</td>\n",
       "      <td>313.0</td>\n",
       "      <td>401.0</td>\n",
       "      <td>Some certain areas in the United States ban ph...</td>\n",
       "      <td>Evidence</td>\n",
       "      <td>Evidence 1</td>\n",
       "      <td>60 61 62 63 64 65 66 67 68 69 70 71 72 73 74 75</td>\n",
       "      <td>certain areas united states ban phones class r...</td>\n",
       "    </tr>\n",
       "    <tr>\n",
       "      <th>3</th>\n",
       "      <td>423A1CA112E2</td>\n",
       "      <td>1.622628e+12</td>\n",
       "      <td>402.0</td>\n",
       "      <td>758.0</td>\n",
       "      <td>When people have phones, they know about certa...</td>\n",
       "      <td>Evidence</td>\n",
       "      <td>Evidence 2</td>\n",
       "      <td>76 77 78 79 80 81 82 83 84 85 86 87 88 89 90 9...</td>\n",
       "      <td>people phones know certain apps apps like face...</td>\n",
       "    </tr>\n",
       "    <tr>\n",
       "      <th>4</th>\n",
       "      <td>423A1CA112E2</td>\n",
       "      <td>1.622628e+12</td>\n",
       "      <td>759.0</td>\n",
       "      <td>886.0</td>\n",
       "      <td>Driving is one of the way how to get around. P...</td>\n",
       "      <td>Claim</td>\n",
       "      <td>Claim 1</td>\n",
       "      <td>139 140 141 142 143 144 145 146 147 148 149 15...</td>\n",
       "      <td>driving one way get around people always phone...</td>\n",
       "    </tr>\n",
       "  </tbody>\n",
       "</table>\n",
       "</div>"
      ],
      "text/plain": [
       "             id  discourse_id  discourse_start  discourse_end  \\\n",
       "0  423A1CA112E2  1.622628e+12              8.0          229.0   \n",
       "1  423A1CA112E2  1.622628e+12            230.0          312.0   \n",
       "2  423A1CA112E2  1.622628e+12            313.0          401.0   \n",
       "3  423A1CA112E2  1.622628e+12            402.0          758.0   \n",
       "4  423A1CA112E2  1.622628e+12            759.0          886.0   \n",
       "\n",
       "                                      discourse_text discourse_type  \\\n",
       "0  Modern humans today are always on their phone....           Lead   \n",
       "1  They are some really bad consequences when stu...       Position   \n",
       "2  Some certain areas in the United States ban ph...       Evidence   \n",
       "3  When people have phones, they know about certa...       Evidence   \n",
       "4  Driving is one of the way how to get around. P...          Claim   \n",
       "\n",
       "  discourse_type_num                                   predictionstring  \\\n",
       "0             Lead 1  1 2 3 4 5 6 7 8 9 10 11 12 13 14 15 16 17 18 1...   \n",
       "1         Position 1       45 46 47 48 49 50 51 52 53 54 55 56 57 58 59   \n",
       "2         Evidence 1    60 61 62 63 64 65 66 67 68 69 70 71 72 73 74 75   \n",
       "3         Evidence 2  76 77 78 79 80 81 82 83 84 85 86 87 88 89 90 9...   \n",
       "4            Claim 1  139 140 141 142 143 144 145 146 147 148 149 15...   \n",
       "\n",
       "                                        cleaned_text  \n",
       "0  modern humans today always phone always phone ...  \n",
       "1  really bad consequences stuff happens comes phone  \n",
       "2  certain areas united states ban phones class r...  \n",
       "3  people phones know certain apps apps like face...  \n",
       "4  driving one way get around people always phone...  "
      ]
     },
     "execution_count": 112,
     "metadata": {},
     "output_type": "execute_result"
    }
   ],
   "source": [
    "train.head()"
   ]
  },
  {
   "cell_type": "code",
   "execution_count": 113,
   "metadata": {},
   "outputs": [],
   "source": [
    "x_train, x_test, y_train, y_test = train_test_split(train['discourse_text'], train['discourse_type'], test_size=0.05)"
   ]
  },
  {
   "cell_type": "markdown",
   "metadata": {},
   "source": [
    "## Word2Vec "
   ]
  },
  {
   "cell_type": "code",
   "execution_count": 114,
   "metadata": {},
   "outputs": [],
   "source": [
    "def sent_to_words(sentences):\n",
    "    for sentence in sentences:\n",
    "        yield(gensim.utils.simple_preprocess(str(sentence), deacc=True)) "
   ]
  },
  {
   "cell_type": "code",
   "execution_count": 115,
   "metadata": {},
   "outputs": [],
   "source": [
    "x_train_text = x_train.tolist()\n",
    "x_test_text = x_test.tolist()"
   ]
  },
  {
   "cell_type": "code",
   "execution_count": 116,
   "metadata": {},
   "outputs": [
    {
     "data": {
      "text/plain": [
       "\"Psychologically, I think it takes a large toll out of a person's brain. Not telling anyone the problems someone might have, or asking for advice. If someone starts to chose one decision. Then decides to go back and think about the other decisions they may have. It could possibly render the first decision useless. If they decide their first choice was not correct.\\xa0Leaving that person lost. Not knowing what the right choice is. Keeping that person thinking about the problem for hours and not letting them move on. If you don't tell anyone about the problems you may have. How are they supposed to know? How are they supposed to help you work things out?\""
      ]
     },
     "execution_count": 116,
     "metadata": {},
     "output_type": "execute_result"
    }
   ],
   "source": [
    "x_train_text[0]"
   ]
  },
  {
   "cell_type": "code",
   "execution_count": 117,
   "metadata": {},
   "outputs": [],
   "source": [
    "x_train_text_data = list(sent_to_words(x_train_text))\n",
    "x_test_text_data = list(sent_to_words(x_test_text))"
   ]
  },
  {
   "cell_type": "code",
   "execution_count": 118,
   "metadata": {},
   "outputs": [
    {
     "data": {
      "text/plain": [
       "['psychologically',\n",
       " 'think',\n",
       " 'it',\n",
       " 'takes',\n",
       " 'large',\n",
       " 'toll',\n",
       " 'out',\n",
       " 'of',\n",
       " 'person',\n",
       " 'brain',\n",
       " 'not',\n",
       " 'telling',\n",
       " 'anyone',\n",
       " 'the',\n",
       " 'problems',\n",
       " 'someone',\n",
       " 'might',\n",
       " 'have',\n",
       " 'or',\n",
       " 'asking',\n",
       " 'for',\n",
       " 'advice',\n",
       " 'if',\n",
       " 'someone',\n",
       " 'starts',\n",
       " 'to',\n",
       " 'chose',\n",
       " 'one',\n",
       " 'decision',\n",
       " 'then',\n",
       " 'decides',\n",
       " 'to',\n",
       " 'go',\n",
       " 'back',\n",
       " 'and',\n",
       " 'think',\n",
       " 'about',\n",
       " 'the',\n",
       " 'other',\n",
       " 'decisions',\n",
       " 'they',\n",
       " 'may',\n",
       " 'have',\n",
       " 'it',\n",
       " 'could',\n",
       " 'possibly',\n",
       " 'render',\n",
       " 'the',\n",
       " 'first',\n",
       " 'decision',\n",
       " 'useless',\n",
       " 'if',\n",
       " 'they',\n",
       " 'decide',\n",
       " 'their',\n",
       " 'first',\n",
       " 'choice',\n",
       " 'was',\n",
       " 'not',\n",
       " 'correct',\n",
       " 'leaving',\n",
       " 'that',\n",
       " 'person',\n",
       " 'lost',\n",
       " 'not',\n",
       " 'knowing',\n",
       " 'what',\n",
       " 'the',\n",
       " 'right',\n",
       " 'choice',\n",
       " 'is',\n",
       " 'keeping',\n",
       " 'that',\n",
       " 'person',\n",
       " 'thinking',\n",
       " 'about',\n",
       " 'the',\n",
       " 'problem',\n",
       " 'for',\n",
       " 'hours',\n",
       " 'and',\n",
       " 'not',\n",
       " 'letting',\n",
       " 'them',\n",
       " 'move',\n",
       " 'on',\n",
       " 'if',\n",
       " 'you',\n",
       " 'don',\n",
       " 'tell',\n",
       " 'anyone',\n",
       " 'about',\n",
       " 'the',\n",
       " 'problems',\n",
       " 'you',\n",
       " 'may',\n",
       " 'have',\n",
       " 'how',\n",
       " 'are',\n",
       " 'they',\n",
       " 'supposed',\n",
       " 'to',\n",
       " 'know',\n",
       " 'how',\n",
       " 'are',\n",
       " 'they',\n",
       " 'supposed',\n",
       " 'to',\n",
       " 'help',\n",
       " 'you',\n",
       " 'work',\n",
       " 'things',\n",
       " 'out']"
      ]
     },
     "execution_count": 118,
     "metadata": {},
     "output_type": "execute_result"
    }
   ],
   "source": [
    "x_train_text_data[0]"
   ]
  },
  {
   "cell_type": "code",
   "execution_count": 119,
   "metadata": {},
   "outputs": [],
   "source": [
    "train_text_data = list(sent_to_words(train[\"discourse_text\"]))\n",
    "test_text_data = list(sent_to_words(df_test[\"discourse_text\"]))"
   ]
  },
  {
   "cell_type": "code",
   "execution_count": 120,
   "metadata": {
    "scrolled": true
   },
   "outputs": [
    {
     "data": {
      "text/plain": [
       "['modern',\n",
       " 'humans',\n",
       " 'today',\n",
       " 'are',\n",
       " 'always',\n",
       " 'on',\n",
       " 'their',\n",
       " 'phone',\n",
       " 'they',\n",
       " 'are',\n",
       " 'always',\n",
       " 'on',\n",
       " 'their',\n",
       " 'phone',\n",
       " 'more',\n",
       " 'than',\n",
       " 'hours',\n",
       " 'day',\n",
       " 'no',\n",
       " 'stop',\n",
       " 'all',\n",
       " 'they',\n",
       " 'do',\n",
       " 'is',\n",
       " 'text',\n",
       " 'back',\n",
       " 'and',\n",
       " 'forward',\n",
       " 'and',\n",
       " 'just',\n",
       " 'have',\n",
       " 'group',\n",
       " 'chats',\n",
       " 'on',\n",
       " 'social',\n",
       " 'media',\n",
       " 'they',\n",
       " 'even',\n",
       " 'do',\n",
       " 'it',\n",
       " 'while',\n",
       " 'driving']"
      ]
     },
     "execution_count": 120,
     "metadata": {},
     "output_type": "execute_result"
    }
   ],
   "source": [
    "train_text_data[0]"
   ]
  },
  {
   "cell_type": "code",
   "execution_count": 121,
   "metadata": {},
   "outputs": [
    {
     "name": "stdout",
     "output_type": "stream",
     "text": [
      "CPU times: user 6min 16s, sys: 2.81 s, total: 6min 19s\n",
      "Wall time: 2min 14s\n"
     ]
    }
   ],
   "source": [
    "%%time\n",
    "w2v_model = gensim.models.Word2Vec(train_text_data, size=100, min_count=1, window=5, iter=50)"
   ]
  },
  {
   "cell_type": "code",
   "execution_count": 122,
   "metadata": {},
   "outputs": [
    {
     "name": "stderr",
     "output_type": "stream",
     "text": [
      "/Users/nehapawar/Desktop/neha/venv3/lib/python3.7/site-packages/ipykernel_launcher.py:1: DeprecationWarning: Call to deprecated `__getitem__` (Method will be removed in 4.0.0, use self.wv.__getitem__() instead).\n",
      "  \"\"\"Entry point for launching an IPython kernel.\n"
     ]
    },
    {
     "data": {
      "text/plain": [
       "array([ 4.063873  , -0.56036234, -3.543371  ,  3.308613  ,  2.470335  ,\n",
       "        3.9348116 , -0.20423765, -2.4504852 , -4.619333  ,  0.29660544,\n",
       "        3.0000267 , -2.4854748 ,  0.15120277,  0.5986737 , -0.5802435 ,\n",
       "       -3.3488724 ,  0.8353344 , -2.8028464 ,  1.1314281 ,  1.3978374 ,\n",
       "        1.439331  ,  0.41071275, -3.8934608 , -0.14500418,  3.7700408 ,\n",
       "       -2.52646   ,  5.3598723 ,  1.4702144 , -1.1128443 ,  1.659191  ,\n",
       "       -0.8914348 ,  5.13186   ,  2.1640053 ,  0.5922734 , -0.40550444,\n",
       "       -2.654743  ,  2.6338365 ,  0.2669269 , -3.8317823 ,  2.1903913 ,\n",
       "        2.0692618 , -6.3462415 , -4.1991816 , -0.8260398 ,  1.8576914 ,\n",
       "        0.24465215,  1.8136078 , -2.0182974 ,  0.32876128, -1.8758967 ,\n",
       "       -4.209646  ,  2.1168163 , -1.798441  , -3.8664193 , -1.454689  ,\n",
       "        2.9530692 ,  1.0548635 , -1.9717515 , -3.8747177 , -0.03559877,\n",
       "        3.5972276 ,  0.5012813 ,  0.2656697 , -0.07014202, -0.04314183,\n",
       "        2.255406  ,  0.907155  ,  0.50268716,  1.806424  , -0.50103223,\n",
       "       -1.6284636 ,  2.3293986 , -0.62060064,  0.32972184, -1.1237259 ,\n",
       "        5.3946743 ,  0.5589376 , -1.2678663 ,  1.3000546 ,  1.1979007 ,\n",
       "        0.68240696, -1.1760644 ,  1.84407   ,  0.5929798 ,  1.9839293 ,\n",
       "        1.204558  , -0.6094442 ,  0.8139683 , -5.074666  , -5.347647  ,\n",
       "       -1.1402119 , -1.1170585 ,  2.066618  , -2.4172914 , -0.929685  ,\n",
       "       -1.2809745 ,  2.6265917 ,  5.3879375 ,  2.7875786 , -0.83989775],\n",
       "      dtype=float32)"
      ]
     },
     "execution_count": 122,
     "metadata": {},
     "output_type": "execute_result"
    }
   ],
   "source": [
    "w2v_model['time']"
   ]
  },
  {
   "cell_type": "code",
   "execution_count": 123,
   "metadata": {},
   "outputs": [
    {
     "name": "stderr",
     "output_type": "stream",
     "text": [
      "/Users/nehapawar/Desktop/neha/venv3/lib/python3.7/site-packages/ipykernel_launcher.py:1: DeprecationWarning: Call to deprecated `__getitem__` (Method will be removed in 4.0.0, use self.wv.__getitem__() instead).\n",
      "  \"\"\"Entry point for launching an IPython kernel.\n"
     ]
    },
    {
     "data": {
      "text/plain": [
       "100"
      ]
     },
     "execution_count": 123,
     "metadata": {},
     "output_type": "execute_result"
    }
   ],
   "source": [
    "len(w2v_model['time'])"
   ]
  },
  {
   "cell_type": "markdown",
   "metadata": {},
   "source": [
    "## Simple averaging on word embedding"
   ]
  },
  {
   "cell_type": "code",
   "execution_count": 31,
   "metadata": {},
   "outputs": [
    {
     "name": "stderr",
     "output_type": "stream",
     "text": [
      "/Users/nehapawar/Desktop/neha/venv3/lib/python3.7/site-packages/ipykernel_launcher.py:18: DeprecationWarning: Call to deprecated `__getitem__` (Method will be removed in 4.0.0, use self.wv.__getitem__() instead).\n"
     ]
    }
   ],
   "source": [
    "class W2VMeanEmbedding(object):\n",
    "    def __init__(self, w2v_model, emb_length):\n",
    "        self.w2v_model = w2v_model\n",
    "        self.emb_length = emb_length\n",
    "        \n",
    "    def fit(self):\n",
    "        return self\n",
    "    \n",
    "    def tranform(self, sent_list):\n",
    "        \n",
    "        return self.get_sent_embedding(sent_list)\n",
    "    \n",
    "        \n",
    "    def get_word_embedding(self, token_list):\n",
    "        mean_sent = []\n",
    "        for word in token_list:\n",
    "            if word in self.w2v_model.wv.vocab:\n",
    "                mean_sent.append(self.w2v_model[word])\n",
    "                \n",
    "        if not mean_sent:\n",
    "            return np.zeros(self.emb_length)\n",
    "        else:\n",
    "            mean_sent = np.array(mean_sent).mean(axis=0)\n",
    "            return mean_sent\n",
    "    \n",
    "    def get_sent_embedding(self, sent_list):\n",
    "        embeddings = [self.get_word_embedding(x) for x in sent_list]\n",
    "        return embeddings\n",
    "        \n",
    "\n",
    "mean_emb = W2VMeanEmbedding(w2v_model, 100)\n",
    "\n",
    "x_train_text_embedding = mean_emb.tranform(x_train_text_data)\n",
    "x_test_text_embedding = mean_emb.tranform(x_test_text_data)\n",
    "test_text_embedding = mean_emb.tranform(test_text_data)"
   ]
  },
  {
   "cell_type": "markdown",
   "metadata": {},
   "source": [
    "## TFIDF Weighted Averaging on word embedding"
   ]
  },
  {
   "cell_type": "code",
   "execution_count": 32,
   "metadata": {},
   "outputs": [],
   "source": [
    "class TFIDFEmbedding(object):\n",
    "    def __init__(self, w2v_model, emb_length):\n",
    "        self.w2v_model = w2v_model\n",
    "        self.word_idf_weight = None\n",
    "        self.emb_length = emb_length\n",
    "        \n",
    "    def fit(self, docs):\n",
    "        text_docs = []\n",
    "        for doc in docs:\n",
    "            text_docs.append(\" \".join(doc))\n",
    "            \n",
    "        tfidf = TfidfVectorizer()\n",
    "        tfidf.fit(text_docs)\n",
    "        \n",
    "        max_idf = max(tfidf.idf_)\n",
    "        self.word_idf_weight = defaultdict(lambda: max_idf, \n",
    "                                           [(word, tfidf.idf_[i]) for word,i in tfidf.vocabulary_.items()])\n",
    "        return\n",
    "    \n",
    "    def transform(self, docs):\n",
    "        doc_word_vector = self.get_sent_embedding(docs)\n",
    "        return doc_word_vector\n",
    "        \n",
    "    def get_word_embedding(self, token_list):\n",
    "        mean_sent = []\n",
    "        for word in token_list:\n",
    "            if word in self.w2v_model.wv.vocab:\n",
    "                mean_sent.append(self.w2v_model.wv.get_vector(word)*self.word_idf_weight[word])\n",
    "                \n",
    "        if not mean_sent:\n",
    "            return np.zeros(self.emb_length)\n",
    "        else:\n",
    "            mean_sent = np.array(mean_sent).mean(axis=0)\n",
    "            return mean_sent\n",
    "    \n",
    "    def get_sent_embedding(self, sent_list):\n",
    "        embeddings = [self.get_word_embedding(x) for x in sent_list]\n",
    "        return embeddings\n",
    "    "
   ]
  },
  {
   "cell_type": "code",
   "execution_count": 35,
   "metadata": {},
   "outputs": [],
   "source": [
    "tfidf_emb = TFIDFEmbedding(w2v_model, 100)\n",
    "\n",
    "\n",
    "tfidf_emb.fit(train_text_data) \n",
    "x_train_text_tfidf_emb = tfidf_emb.transform(x_train_text_data)\n",
    "x_test_text_tfidf_emb = tfidf_emb.transform(x_test_text_data)\n",
    "test_text_tfidf_emb = tfidf_emb.transform(test_text_data)"
   ]
  },
  {
   "cell_type": "code",
   "execution_count": 36,
   "metadata": {},
   "outputs": [
    {
     "data": {
      "text/plain": [
       "array([-1.6286168 ,  3.1923306 , -1.4014875 , -1.1140492 , -0.2530155 ,\n",
       "        2.2043993 , -5.52204   , -1.8009138 ,  1.9857359 , -2.4326086 ,\n",
       "        0.62444353,  2.8873851 ,  1.5658941 , -1.1955048 ,  1.0062599 ,\n",
       "       -2.1125095 ,  5.600625  , -1.3696213 ,  2.8032055 ,  0.41708812,\n",
       "        3.9868608 , -2.476661  , -1.1613517 ,  4.0184255 ,  5.407792  ,\n",
       "       -8.46992   ,  4.892729  ,  4.0823183 , -0.618845  ,  2.4963274 ,\n",
       "        0.970107  , -2.410517  , -1.3127375 ,  1.2679954 , -3.0694199 ,\n",
       "       -3.1516051 ,  3.0206125 ,  0.55270624, -1.6936811 ,  0.5208764 ,\n",
       "        6.140095  , -3.8115153 , -0.7592578 , -2.01044   , -1.3963583 ,\n",
       "       -2.5023353 , -0.4229311 ,  8.20974   , -0.5282085 ,  1.0570617 ,\n",
       "       -0.6362165 , -0.8805198 , -3.9240584 ,  2.301452  , -2.4121802 ,\n",
       "       -0.08032692, -0.69678843, -1.9686594 , -1.156951  ,  0.03106412,\n",
       "       -1.2295752 ,  1.951977  ,  0.27515486, -2.7897902 , -3.4123158 ,\n",
       "        5.5801096 ,  0.9685787 ,  1.096392  ,  5.5916567 ,  1.5767155 ,\n",
       "       -0.98753065, -0.41916215,  0.8035642 , -1.5484378 ,  0.82114613,\n",
       "       -6.966965  , -4.4441223 , -1.6015856 , -6.690395  ,  5.4473977 ,\n",
       "        1.9414243 ,  4.6168146 ,  0.8424234 , -1.9043114 , -2.3661091 ,\n",
       "       -2.6043253 ,  0.39121616, -1.3876542 , -1.8176862 ,  3.0707512 ,\n",
       "        5.437548  , -0.75809824,  0.97730064, -0.984862  ,  0.3342592 ,\n",
       "       -0.92716044, -0.4843474 ,  0.00966611, -3.0491197 ,  0.3526566 ],\n",
       "      dtype=float32)"
      ]
     },
     "execution_count": 36,
     "metadata": {},
     "output_type": "execute_result"
    }
   ],
   "source": [
    "test_text_tfidf_emb[0]"
   ]
  },
  {
   "cell_type": "code",
   "execution_count": 38,
   "metadata": {},
   "outputs": [],
   "source": [
    "w2v_weights = w2v_model.wv.vectors"
   ]
  },
  {
   "cell_type": "code",
   "execution_count": 39,
   "metadata": {},
   "outputs": [
    {
     "data": {
      "text/plain": [
       "(49636, 100)"
      ]
     },
     "execution_count": 39,
     "metadata": {},
     "output_type": "execute_result"
    }
   ],
   "source": [
    "w2v_weights.shape"
   ]
  },
  {
   "cell_type": "code",
   "execution_count": 40,
   "metadata": {},
   "outputs": [
    {
     "name": "stdout",
     "output_type": "stream",
     "text": [
      "Vocabulary Size: 49636 - Embedding Dim: 100\n"
     ]
    }
   ],
   "source": [
    "vocab_size, embedding_size = w2v_weights.shape\n",
    "print(\"Vocabulary Size: {} - Embedding Dim: {}\".format(vocab_size, embedding_size))\n"
   ]
  },
  {
   "cell_type": "code",
   "execution_count": 41,
   "metadata": {},
   "outputs": [],
   "source": [
    "def word2token(word):\n",
    "    try:\n",
    "        return w2v_model.wv.vocab[word].index\n",
    "    # If word is not in index return 0. I realize this means that this\n",
    "    # is the same as the word of index 0 (i.e. most frequent word), but 0s\n",
    "    # will be padded later anyway by the embedding layer (which also\n",
    "    # seems dirty but I couldn't find a better solution right now)\n",
    "    except KeyError:\n",
    "        return 0\n",
    "    \n",
    "def token2word(token):\n",
    "    return w2v_model.wv.index2word[token]"
   ]
  },
  {
   "cell_type": "code",
   "execution_count": 44,
   "metadata": {},
   "outputs": [
    {
     "name": "stderr",
     "output_type": "stream",
     "text": [
      "/Users/nehapawar/Desktop/neha/venv3/lib/python3.7/site-packages/ipykernel_launcher.py:9: DeprecationWarning: Call to deprecated `__getitem__` (Method will be removed in 4.0.0, use self.wv.__getitem__() instead).\n",
      "  if __name__ == '__main__':\n"
     ]
    },
    {
     "data": {
      "image/png": "[encoded data removed]",
      "text/plain": [
       "<Figure size 2304x2304 with 1 Axes>"
      ]
     },
     "metadata": {
      "needs_background": "light"
     },
     "output_type": "display_data"
    }
   ],
   "source": [
    "from sklearn.manifold import TSNE\n",
    "\n",
    "n_samples = 500\n",
    "# Sample random words from model dictionary\n",
    "random_i = random.sample(range(vocab_size), n_samples)\n",
    "random_w = [token2word(i) for i in random_i]\n",
    "\n",
    "# Generate Word2Vec embeddings of each word\n",
    "word_vecs = np.array([w2v_model[w] for w in random_w])\n",
    "\n",
    "# Apply t-SNE to Word2Vec embeddings, reducing to 2 dims\n",
    "tsne = TSNE()\n",
    "tsne_e = tsne.fit_transform(word_vecs)\n",
    "\n",
    "# Plot t-SNE result\n",
    "plt.figure(figsize=(32, 32))\n",
    "plt.scatter(tsne_e[:, 0], tsne_e[:, 1], marker='o', c=range(len(random_w)), cmap=plt.get_cmap('Spectral'))\n",
    "\n",
    "for label, x, y, in zip(random_w, tsne_e[:, 0], tsne_e[:, 1]):\n",
    "    plt.annotate(label,\n",
    "                 xy=(x, y), xytext=(0, 15),\n",
    "                 textcoords='offset points', ha='right', va='bottom',\n",
    "                 bbox=dict(boxstyle='round, pad=0.2', fc='yellow', alpha=0.1))"
   ]
  },
  {
   "cell_type": "markdown",
   "metadata": {},
   "source": [
    "## Basic ML Models"
   ]
  },
  {
   "cell_type": "markdown",
   "metadata": {},
   "source": [
    "### 1. On simple averaging"
   ]
  },
  {
   "cell_type": "code",
   "execution_count": 45,
   "metadata": {},
   "outputs": [
    {
     "data": {
      "text/plain": [
       "RandomForestClassifier(bootstrap=True, ccp_alpha=0.0, class_weight=None,\n",
       "                       criterion='entropy', max_depth=None, max_features='auto',\n",
       "                       max_leaf_nodes=None, max_samples=None,\n",
       "                       min_impurity_decrease=0.0, min_impurity_split=None,\n",
       "                       min_samples_leaf=1, min_samples_split=2,\n",
       "                       min_weight_fraction_leaf=0.0, n_estimators=10,\n",
       "                       n_jobs=None, oob_score=False, random_state=42, verbose=0,\n",
       "                       warm_start=False)"
      ]
     },
     "execution_count": 45,
     "metadata": {},
     "output_type": "execute_result"
    }
   ],
   "source": [
    "## RF Model\n",
    "rf_model = RandomForestClassifier(n_estimators = 10, criterion = 'entropy', random_state = 42)\n",
    "rf_model.fit(x_train_text_embedding, y_train)"
   ]
  },
  {
   "cell_type": "code",
   "execution_count": 47,
   "metadata": {},
   "outputs": [],
   "source": [
    "rf_simple_pred = rf_model.predict(x_test_text_embedding)"
   ]
  },
  {
   "cell_type": "code",
   "execution_count": 61,
   "metadata": {
    "scrolled": true
   },
   "outputs": [
    {
     "data": {
      "text/plain": [
       "0.5776853776853776"
      ]
     },
     "execution_count": 61,
     "metadata": {},
     "output_type": "execute_result"
    }
   ],
   "source": [
    "accuracy_score(rf_simple_pred, y_test)"
   ]
  },
  {
   "cell_type": "code",
   "execution_count": 62,
   "metadata": {},
   "outputs": [
    {
     "data": {
      "text/plain": [
       "0.5671517671517672"
      ]
     },
     "execution_count": 62,
     "metadata": {},
     "output_type": "execute_result"
    }
   ],
   "source": [
    "rf_model = RandomForestClassifier(n_estimators = 10, criterion = 'entropy', random_state = 42)\n",
    "rf_model.fit(x_train_text_tfidf_emb, y_train)\n",
    "rf_simple_pred = rf_model.predict(x_test_text_tfidf_emb)\n",
    "accuracy_score(rf_simple_pred, y_test)"
   ]
  },
  {
   "cell_type": "code",
   "execution_count": 50,
   "metadata": {},
   "outputs": [],
   "source": [
    "cm = confusion_matrix(rf_simple_pred, y_test)\n"
   ]
  },
  {
   "cell_type": "code",
   "execution_count": 55,
   "metadata": {},
   "outputs": [],
   "source": [
    "cm_df = pd.DataFrame(cm, index = list(set(y_test)), columns = list(set(y_test)))"
   ]
  },
  {
   "cell_type": "code",
   "execution_count": 57,
   "metadata": {},
   "outputs": [
    {
     "data": {
      "image/png": "[encoded data removed]",
      "text/plain": [
       "<Figure size 576x576 with 2 Axes>"
      ]
     },
     "metadata": {
      "needs_background": "light"
     },
     "output_type": "display_data"
    }
   ],
   "source": [
    "plt.figure(figsize=(8,8))\n",
    "sns.heatmap(cm_df, annot=True)\n",
    "plt.title('Confusion Matrix')\n",
    "plt.ylabel('Actal Values')\n",
    "plt.xlabel('Predicted Values')\n",
    "plt.show()"
   ]
  },
  {
   "cell_type": "code",
   "execution_count": 63,
   "metadata": {},
   "outputs": [],
   "source": [
    "## SVM CLassifier\n",
    "svm_model = LinearSVC(C=1.0, dual= False, fit_intercept=True,\n",
    "     intercept_scaling =0.1, max_iter=500,penalty = 'l2' , loss = 'squared_hinge', class_weight='balanced',\n",
    "     multi_class='ovr', random_state=42, tol=1e-05, verbose=0)\n",
    "\n",
    "svm_model.fit(x_train_text_embedding, y_train)\n",
    "svm_pred = svm_model.predict(x_test_text_embedding)"
   ]
  },
  {
   "cell_type": "code",
   "execution_count": 64,
   "metadata": {},
   "outputs": [
    {
     "data": {
      "text/plain": [
       "0.4864864864864865"
      ]
     },
     "execution_count": 64,
     "metadata": {},
     "output_type": "execute_result"
    }
   ],
   "source": [
    "accuracy_score(svm_pred, y_test)"
   ]
  },
  {
   "cell_type": "code",
   "execution_count": 65,
   "metadata": {},
   "outputs": [],
   "source": [
    "svm_model = LinearSVC(C=1.0, dual= False, fit_intercept=True,\n",
    "     intercept_scaling =0.1, max_iter=500,penalty = 'l2' , loss = 'squared_hinge', class_weight='balanced',\n",
    "     multi_class='ovr', random_state=42, tol=1e-05, verbose=0)\n",
    "\n",
    "svm_model.fit(x_train_text_tfidf_emb, y_train)\n",
    "svm_pred = svm_model.predict(x_test_text_tfidf_emb)"
   ]
  },
  {
   "cell_type": "code",
   "execution_count": 67,
   "metadata": {},
   "outputs": [
    {
     "data": {
      "text/plain": [
       "0.47914067914067915"
      ]
     },
     "execution_count": 67,
     "metadata": {},
     "output_type": "execute_result"
    }
   ],
   "source": [
    "accuracy_score(svm_pred, y_test)"
   ]
  },
  {
   "cell_type": "markdown",
   "metadata": {},
   "source": [
    "### LSTM Model with training word embedding"
   ]
  },
  {
   "cell_type": "code",
   "execution_count": 124,
   "metadata": {},
   "outputs": [
    {
     "data": {
      "text/plain": [
       "137078"
      ]
     },
     "execution_count": 124,
     "metadata": {},
     "output_type": "execute_result"
    }
   ],
   "source": [
    "len(x_train_text_embedding)"
   ]
  },
  {
   "cell_type": "code",
   "execution_count": 125,
   "metadata": {},
   "outputs": [
    {
     "name": "stdout",
     "output_type": "stream",
     "text": [
      "Shape of label tensor: (144293, 7)\n"
     ]
    }
   ],
   "source": [
    "y_label = pd.get_dummies(train['discourse_type'])\n",
    "Y = y_label.values\n",
    "print('Shape of label tensor:', Y.shape)"
   ]
  },
  {
   "cell_type": "code",
   "execution_count": 126,
   "metadata": {},
   "outputs": [
    {
     "data": {
      "text/plain": [
       "Index(['Claim', 'Concluding Statement', 'Counterclaim', 'Evidence', 'Lead',\n",
       "       'Position', 'Rebuttal'],\n",
       "      dtype='object')"
      ]
     },
     "execution_count": 126,
     "metadata": {},
     "output_type": "execute_result"
    }
   ],
   "source": [
    "label_names = y_label.columns\n",
    "label_names"
   ]
  },
  {
   "cell_type": "code",
   "execution_count": 127,
   "metadata": {},
   "outputs": [
    {
     "name": "stdout",
     "output_type": "stream",
     "text": [
      "index of maximum lenght(longer sentence):  117554\n",
      "maximum lenght is :  836\n"
     ]
    }
   ],
   "source": [
    "lens_list = [len(i.split()) for i in train['discourse_text'] ]\n",
    "max_length = max(lens_list)\n",
    "max_ind =lens_list.index(max_length)\n",
    "print('index of maximum lenght(longer sentence): ' ,max_ind )\n",
    "print('maximum lenght is : ', max_length)"
   ]
  },
  {
   "cell_type": "code",
   "execution_count": 128,
   "metadata": {},
   "outputs": [
    {
     "name": "stdout",
     "output_type": "stream",
     "text": [
      "Found 62068 unique tokens.\n"
     ]
    }
   ],
   "source": [
    "# The maximum number of words to be used. (most frequent)\n",
    "MAX_NB_WORDS = 10000\n",
    "# Max number of words in each complaint.\n",
    "MAX_SEQUENCE_LENGTH = max_length\n",
    "# This is fixed.\n",
    "EMBEDDING_DIM = 300\n",
    "tokenizer = Tokenizer(num_words=MAX_NB_WORDS, filters='!\"#$%&()*+,-./:;<=>?@[\\]^_`{|}~', lower=True)\n",
    "tokenizer.fit_on_texts(train['discourse_text'].values)\n",
    "word_index = tokenizer.word_index\n",
    "print('Found %s unique tokens.' % len(word_index))"
   ]
  },
  {
   "cell_type": "code",
   "execution_count": 129,
   "metadata": {},
   "outputs": [
    {
     "data": {
      "text/plain": [
       "{'the': 1,\n",
       " 'to': 2,\n",
       " 'a': 3,\n",
       " 'and': 4,\n",
       " 'of': 5,\n",
       " 'that': 6,\n",
       " 'in': 7,\n",
       " 'is': 8,\n",
       " 'you': 9,\n",
       " 'it': 10,\n",
       " 'they': 11,\n",
       " 'be': 12,\n",
       " 'for': 13,\n",
       " 'have': 14,\n",
       " 'are': 15,\n",
       " 'students': 16,\n",
       " 'not': 17,\n",
       " 'on': 18,\n",
       " 'can': 19,\n",
       " 'i': 20,\n",
       " 'people': 21,\n",
       " 'or': 22,\n",
       " 'would': 23,\n",
       " 'if': 24,\n",
       " 'their': 25,\n",
       " 'this': 26,\n",
       " 'with': 27,\n",
       " 'because': 28,\n",
       " 'do': 29,\n",
       " 'will': 30,\n",
       " 'more': 31,\n",
       " 'school': 32,\n",
       " 'but': 33,\n",
       " 'we': 34,\n",
       " 'as': 35,\n",
       " 'there': 36,\n",
       " 'them': 37,\n",
       " 'your': 38,\n",
       " 'at': 39,\n",
       " 'get': 40,\n",
       " 'should': 41,\n",
       " 'could': 42,\n",
       " 'what': 43,\n",
       " 'all': 44,\n",
       " 'when': 45,\n",
       " 'from': 46,\n",
       " 'so': 47,\n",
       " 'one': 48,\n",
       " 'help': 49,\n",
       " 'by': 50,\n",
       " 'like': 51,\n",
       " 'time': 52,\n",
       " 'some': 53,\n",
       " 'just': 54,\n",
       " 'make': 55,\n",
       " 'also': 56,\n",
       " 'an': 57,\n",
       " 'car': 58,\n",
       " 'was': 59,\n",
       " 'about': 60,\n",
       " 'cars': 61,\n",
       " 'many': 62,\n",
       " 'think': 63,\n",
       " 'student': 64,\n",
       " 'other': 65,\n",
       " 'who': 66,\n",
       " 'has': 67,\n",
       " 'how': 68,\n",
       " 'up': 69,\n",
       " 'work': 70,\n",
       " 'electoral': 71,\n",
       " 'out': 72,\n",
       " 'even': 73,\n",
       " 'good': 74,\n",
       " 'college': 75,\n",
       " 'our': 76,\n",
       " 'better': 77,\n",
       " 'know': 78,\n",
       " 'want': 79,\n",
       " 'way': 80,\n",
       " 'vote': 81,\n",
       " 'than': 82,\n",
       " 'then': 83,\n",
       " 'may': 84,\n",
       " 'my': 85,\n",
       " 'take': 86,\n",
       " 'advice': 87,\n",
       " 'need': 88,\n",
       " 'driving': 89,\n",
       " 'go': 90,\n",
       " 'home': 91,\n",
       " 'able': 92,\n",
       " 'most': 93,\n",
       " 'these': 94,\n",
       " 'being': 95,\n",
       " 'venus': 96,\n",
       " \"don't\": 97,\n",
       " 'use': 98,\n",
       " 'why': 99,\n",
       " 'no': 100,\n",
       " 'only': 101,\n",
       " 'person': 102,\n",
       " 'while': 103,\n",
       " 'something': 104,\n",
       " 'things': 105,\n",
       " 'learning': 106,\n",
       " 'online': 107,\n",
       " 'classes': 108,\n",
       " 'states': 109,\n",
       " 'he': 110,\n",
       " 'very': 111,\n",
       " 'life': 112,\n",
       " 'new': 113,\n",
       " 'which': 114,\n",
       " 'president': 115,\n",
       " 'going': 116,\n",
       " 'class': 117,\n",
       " 'might': 118,\n",
       " 'see': 119,\n",
       " 'were': 120,\n",
       " 'teacher': 121,\n",
       " 'face': 122,\n",
       " 'driverless': 123,\n",
       " 'different': 124,\n",
       " 'had': 125,\n",
       " '\\n': 126,\n",
       " 'having': 127,\n",
       " 'learn': 128,\n",
       " 'teachers': 129,\n",
       " 'phones': 130,\n",
       " 'summer': 131,\n",
       " 'project': 132,\n",
       " 'much': 133,\n",
       " 'ask': 134,\n",
       " 'us': 135,\n",
       " 'phone': 136,\n",
       " 'someone': 137,\n",
       " 'over': 138,\n",
       " 'really': 139,\n",
       " 'day': 140,\n",
       " 'its': 141,\n",
       " 'say': 142,\n",
       " 'projects': 143,\n",
       " 'own': 144,\n",
       " 'technology': 145,\n",
       " 'best': 146,\n",
       " 'been': 147,\n",
       " '\\xa0': 148,\n",
       " 'doing': 149,\n",
       " \"it's\": 150,\n",
       " 'kids': 151,\n",
       " 'system': 152,\n",
       " 'idea': 153,\n",
       " 'into': 154,\n",
       " 'any': 155,\n",
       " 'thing': 156,\n",
       " 'world': 157,\n",
       " 'example': 158,\n",
       " 'another': 159,\n",
       " 'still': 160,\n",
       " 'community': 161,\n",
       " 'feel': 162,\n",
       " 'give': 163,\n",
       " 'lot': 164,\n",
       " 'me': 165,\n",
       " 'cell': 166,\n",
       " 'well': 167,\n",
       " 'after': 168,\n",
       " 'others': 169,\n",
       " 'reason': 170,\n",
       " 'always': 171,\n",
       " 'now': 172,\n",
       " 'friends': 173,\n",
       " 'around': 174,\n",
       " 'electors': 175,\n",
       " 'votes': 176,\n",
       " 'activities': 177,\n",
       " 'where': 178,\n",
       " 'believe': 179,\n",
       " 'making': 180,\n",
       " 'multiple': 181,\n",
       " 'during': 182,\n",
       " 'same': 183,\n",
       " 'getting': 184,\n",
       " 'opinions': 185,\n",
       " 'less': 186,\n",
       " 'she': 187,\n",
       " 'right': 188,\n",
       " 'sports': 189,\n",
       " 'those': 190,\n",
       " 'made': 191,\n",
       " 'choice': 192,\n",
       " 'schools': 193,\n",
       " 'bad': 194,\n",
       " 'everyone': 195,\n",
       " 'his': 196,\n",
       " 'off': 197,\n",
       " 'important': 198,\n",
       " 'every': 199,\n",
       " 'great': 200,\n",
       " 'keep': 201,\n",
       " 'such': 202,\n",
       " 'popular': 203,\n",
       " 'change': 204,\n",
       " 'planet': 205,\n",
       " 'mars': 206,\n",
       " 'designed': 207,\n",
       " 'state': 208,\n",
       " 'decision': 209,\n",
       " 'opinion': 210,\n",
       " 'her': 211,\n",
       " 'using': 212,\n",
       " 'without': 213,\n",
       " 'earth': 214,\n",
       " 'through': 215,\n",
       " 'first': 216,\n",
       " 'driver': 217,\n",
       " 'too': 218,\n",
       " 'human': 219,\n",
       " 'year': 220,\n",
       " 'said': 221,\n",
       " 'service': 222,\n",
       " 'each': 223,\n",
       " 'benefit': 224,\n",
       " 'election': 225,\n",
       " 'problem': 226,\n",
       " 'find': 227,\n",
       " 'author': 228,\n",
       " 'cause': 229,\n",
       " 'come': 230,\n",
       " 'asking': 231,\n",
       " 'drive': 232,\n",
       " 'future': 233,\n",
       " 'fun': 234,\n",
       " 'free': 235,\n",
       " 'does': 236,\n",
       " 'tell': 237,\n",
       " 'activity': 238,\n",
       " 'put': 239,\n",
       " 'dont': 240,\n",
       " 'reasons': 241,\n",
       " 'extracurricular': 242,\n",
       " 'hard': 243,\n",
       " 'taking': 244,\n",
       " 'computer': 245,\n",
       " 'look': 246,\n",
       " 'away': 247,\n",
       " 'did': 248,\n",
       " 'play': 249,\n",
       " 'become': 250,\n",
       " 'back': 251,\n",
       " 'average': 252,\n",
       " 'road': 253,\n",
       " 'parents': 254,\n",
       " 'choose': 255,\n",
       " 'down': 256,\n",
       " 'sometimes': 257,\n",
       " 'understand': 258,\n",
       " 'times': 259,\n",
       " 'try': 260,\n",
       " 'name': 261,\n",
       " 'however': 262,\n",
       " 'voting': 263,\n",
       " 'long': 264,\n",
       " 'distance': 265,\n",
       " 'actually': 266,\n",
       " 'voters': 267,\n",
       " 'place': 268,\n",
       " 'before': 269,\n",
       " 'information': 270,\n",
       " 'never': 271,\n",
       " 'since': 272,\n",
       " 'drivers': 273,\n",
       " 'generic': 274,\n",
       " 'ways': 275,\n",
       " 'instead': 276,\n",
       " 'two': 277,\n",
       " 'themselves': 278,\n",
       " 'used': 279,\n",
       " 'wrong': 280,\n",
       " 'article': 281,\n",
       " 'due': 282,\n",
       " 'classroom': 283,\n",
       " 'money': 284,\n",
       " 'education': 285,\n",
       " 'policy': 286,\n",
       " 'maybe': 287,\n",
       " 'grades': 288,\n",
       " 'likely': 289,\n",
       " 'makes': 290,\n",
       " 'big': 291,\n",
       " 'done': 292,\n",
       " 'says': 293,\n",
       " 'enough': 294,\n",
       " 'emotions': 295,\n",
       " 'grade': 296,\n",
       " 'percent': 297,\n",
       " 'attend': 298,\n",
       " 'text': 299,\n",
       " 'chance': 300,\n",
       " 'trying': 301,\n",
       " 'talk': 302,\n",
       " 'attention': 303,\n",
       " 'point': 304,\n",
       " 'participate': 305,\n",
       " 'stress': 306,\n",
       " 'end': 307,\n",
       " 'allow': 308,\n",
       " 'though': 309,\n",
       " 'let': 310,\n",
       " 'anything': 311,\n",
       " \"wouldn't\": 312,\n",
       " 'sure': 313,\n",
       " 'situation': 314,\n",
       " 'years': 315,\n",
       " 'experience': 316,\n",
       " \"can't\": 317,\n",
       " 'friend': 318,\n",
       " 'problems': 319,\n",
       " 'humans': 320,\n",
       " 'nasa': 321,\n",
       " 'helps': 322,\n",
       " 'stay': 323,\n",
       " 'working': 324,\n",
       " 'paragraph': 325,\n",
       " 'ever': 326,\n",
       " 'family': 327,\n",
       " 'got': 328,\n",
       " 'facial': 329,\n",
       " 'already': 330,\n",
       " 'texting': 331,\n",
       " 'next': 332,\n",
       " 'happen': 333,\n",
       " 'safe': 334,\n",
       " 'accidents': 335,\n",
       " 'video': 336,\n",
       " 'break': 337,\n",
       " 'show': 338,\n",
       " 'easier': 339,\n",
       " 'high': 340,\n",
       " 'option': 341,\n",
       " 'job': 342,\n",
       " 'environment': 343,\n",
       " 'united': 344,\n",
       " 'usage': 345,\n",
       " 'study': 346,\n",
       " 'topic': 347,\n",
       " 'landform': 348,\n",
       " 'although': 349,\n",
       " \"doesn't\": 350,\n",
       " 'little': 351,\n",
       " 'given': 352,\n",
       " 'amount': 353,\n",
       " 'needs': 354,\n",
       " 'certain': 355,\n",
       " 'program': 356,\n",
       " 'am': 357,\n",
       " 'lives': 358,\n",
       " 'aliens': 359,\n",
       " 'public': 360,\n",
       " 'conclusion': 361,\n",
       " 'candidate': 362,\n",
       " 'skills': 363,\n",
       " 'air': 364,\n",
       " 'social': 365,\n",
       " 'start': 366,\n",
       " 'beneficial': 367,\n",
       " 'care': 368,\n",
       " 'gives': 369,\n",
       " 'ideas': 370,\n",
       " 'agree': 371,\n",
       " 'dangerous': 372,\n",
       " 'process': 373,\n",
       " 'complete': 374,\n",
       " 'means': 375,\n",
       " 'lead': 376,\n",
       " 'fact': 377,\n",
       " 'pick': 378,\n",
       " 'focus': 379,\n",
       " 'both': 380,\n",
       " 'opportunity': 381,\n",
       " 'seagoing': 382,\n",
       " 'probably': 383,\n",
       " 'unfair': 384,\n",
       " 'country': 385,\n",
       " 'everything': 386,\n",
       " 'else': 387,\n",
       " 'him': 388,\n",
       " '3': 389,\n",
       " 'possible': 390,\n",
       " 'few': 391,\n",
       " 'thought': 392,\n",
       " 'once': 393,\n",
       " 'pay': 394,\n",
       " 'source': 395,\n",
       " 'helping': 396,\n",
       " \"that's\": 397,\n",
       " 'shows': 398,\n",
       " 'stop': 399,\n",
       " 'rather': 400,\n",
       " 'part': 401,\n",
       " '1': 402,\n",
       " 'natural': 403,\n",
       " 'giving': 404,\n",
       " 'happy': 405,\n",
       " 'live': 406,\n",
       " 'design': 407,\n",
       " \"won't\": 408,\n",
       " 'read': 409,\n",
       " 'feeling': 410,\n",
       " \"didn't\": 411,\n",
       " 'homework': 412,\n",
       " 'least': 413,\n",
       " 'control': 414,\n",
       " \"isn't\": 415,\n",
       " '2': 416,\n",
       " 'pollution': 417,\n",
       " 'comes': 418,\n",
       " 'bring': 419,\n",
       " 'whole': 420,\n",
       " 'must': 421,\n",
       " 'b': 422,\n",
       " 'enjoy': 423,\n",
       " 'team': 424,\n",
       " 'days': 425,\n",
       " 'create': 426,\n",
       " 'second': 427,\n",
       " 'knowledge': 428,\n",
       " 'call': 429,\n",
       " 'decide': 430,\n",
       " 'last': 431,\n",
       " 'needed': 432,\n",
       " 'self': 433,\n",
       " 'picture': 434,\n",
       " 'c': 435,\n",
       " 'allowed': 436,\n",
       " 'talking': 437,\n",
       " 'turn': 438,\n",
       " 'assignments': 439,\n",
       " 'places': 440,\n",
       " 'today': 441,\n",
       " 'takes': 442,\n",
       " 'vehicle': 443,\n",
       " \"you're\": 444,\n",
       " 'fair': 445,\n",
       " 'sport': 446,\n",
       " 'children': 447,\n",
       " 'citizens': 448,\n",
       " 'join': 449,\n",
       " 'animals': 450,\n",
       " 'mind': 451,\n",
       " 'matter': 452,\n",
       " 'accident': 453,\n",
       " 'wanted': 454,\n",
       " 'majority': 455,\n",
       " 'helpful': 456,\n",
       " 'almost': 457,\n",
       " 'created': 458,\n",
       " 'safety': 459,\n",
       " 'gas': 460,\n",
       " 'transportation': 461,\n",
       " 'mean': 462,\n",
       " 'action': 463,\n",
       " \"shouldn't\": 464,\n",
       " 'run': 465,\n",
       " \"i'm\": 466,\n",
       " 'smog': 467,\n",
       " 'asked': 468,\n",
       " 'easy': 469,\n",
       " 'taken': 470,\n",
       " 'distracted': 471,\n",
       " 'yourself': 472,\n",
       " 'often': 473,\n",
       " 'whether': 474,\n",
       " 'real': 475,\n",
       " 'city': 476,\n",
       " 'ones': 477,\n",
       " 'answer': 478,\n",
       " 'allows': 479,\n",
       " 'traffic': 480,\n",
       " 'test': 481,\n",
       " 'based': 482,\n",
       " 'benefits': 483,\n",
       " 'number': 484,\n",
       " 'hours': 485,\n",
       " 'three': 486,\n",
       " 'order': 487,\n",
       " 'nothing': 488,\n",
       " 'lesson': 489,\n",
       " 'thats': 490,\n",
       " 'candidates': 491,\n",
       " 'everyday': 492,\n",
       " 'therefore': 493,\n",
       " \"aren't\": 494,\n",
       " 'looking': 495,\n",
       " 'far': 496,\n",
       " \"they're\": 497,\n",
       " 'goes': 498,\n",
       " 'dangers': 499,\n",
       " 'alien': 500,\n",
       " 'assignment': 501,\n",
       " 'choices': 502,\n",
       " 'required': 503,\n",
       " 'close': 504,\n",
       " 'seeking': 505,\n",
       " 'saying': 506,\n",
       " 'gets': 507,\n",
       " 'extra': 508,\n",
       " 'according': 509,\n",
       " 'between': 510,\n",
       " 'spend': 511,\n",
       " 'house': 512,\n",
       " 'trouble': 513,\n",
       " 'hand': 514,\n",
       " 'form': 515,\n",
       " 'either': 516,\n",
       " 'found': 517,\n",
       " 'winner': 518,\n",
       " 'surface': 519,\n",
       " 'love': 520,\n",
       " 'behind': 521,\n",
       " 'conditions': 522,\n",
       " 'again': 523,\n",
       " 'limiting': 524,\n",
       " 'worry': 525,\n",
       " 'studying': 526,\n",
       " 'lunch': 527,\n",
       " 'options': 528,\n",
       " 'outside': 529,\n",
       " 'computers': 530,\n",
       " 'improve': 531,\n",
       " 'difficult': 532,\n",
       " 'coding': 533,\n",
       " 'anyone': 534,\n",
       " 'group': 535,\n",
       " 'ability': 536,\n",
       " 'method': 537,\n",
       " 'teach': 538,\n",
       " 'wants': 539,\n",
       " 'save': 540,\n",
       " 'luke': 541,\n",
       " 'against': 542,\n",
       " 'support': 543,\n",
       " 'took': 544,\n",
       " 'scientists': 545,\n",
       " 'case': 546,\n",
       " 'question': 547,\n",
       " 'told': 548,\n",
       " 'view': 549,\n",
       " 'smart': 550,\n",
       " 'went': 551,\n",
       " 'here': 552,\n",
       " 'called': 553,\n",
       " 'knowing': 554,\n",
       " 'coming': 555,\n",
       " 'subject': 556,\n",
       " 'risk': 557,\n",
       " 'thinking': 558,\n",
       " 'hands': 559,\n",
       " 'side': 560,\n",
       " 'evidence': 561,\n",
       " 'society': 562,\n",
       " 'cowboys': 563,\n",
       " 'games': 564,\n",
       " 'attending': 565,\n",
       " 'completely': 566,\n",
       " 'trust': 567,\n",
       " 'win': 568,\n",
       " 'paris': 569,\n",
       " 'bored': 570,\n",
       " 'continue': 571,\n",
       " 'yes': 572,\n",
       " 'club': 573,\n",
       " 'seem': 574,\n",
       " 'confused': 575,\n",
       " 'type': 576,\n",
       " 'common': 577,\n",
       " 'provide': 578,\n",
       " 'pressure': 579,\n",
       " 'true': 580,\n",
       " 'simply': 581,\n",
       " 'especially': 582,\n",
       " 'issue': 583,\n",
       " 'overall': 584,\n",
       " 'course': 585,\n",
       " 'cannot': 586,\n",
       " 'together': 587,\n",
       " 'u': 588,\n",
       " 'decisions': 589,\n",
       " 'small': 590,\n",
       " 's': 591,\n",
       " 'offer': 592,\n",
       " 'meet': 593,\n",
       " 'america': 594,\n",
       " 'result': 595,\n",
       " 'kind': 596,\n",
       " 'countries': 597,\n",
       " 'issues': 598,\n",
       " 'elect': 599,\n",
       " 'easily': 600,\n",
       " 'along': 601,\n",
       " 'child': 602,\n",
       " 'huge': 603,\n",
       " 'personal': 604,\n",
       " 'later': 605,\n",
       " 'imagine': 606,\n",
       " 'allowing': 607,\n",
       " 'cant': 608,\n",
       " 'alot': 609,\n",
       " 'walk': 610,\n",
       " 'yet': 611,\n",
       " 'clear': 612,\n",
       " 'wheel': 613,\n",
       " 'laws': 614,\n",
       " 'large': 615,\n",
       " 'learned': 616,\n",
       " 'stated': 617,\n",
       " 'until': 618,\n",
       " 'major': 619,\n",
       " 'space': 620,\n",
       " 'mesa': 621,\n",
       " 'positive': 622,\n",
       " 'wont': 623,\n",
       " 'valuable': 624,\n",
       " 'principal': 625,\n",
       " 'cowboy': 626,\n",
       " 'despite': 627,\n",
       " 'sensors': 628,\n",
       " 'software': 629,\n",
       " 'health': 630,\n",
       " 'emotion': 631,\n",
       " 'safer': 632,\n",
       " 'stuff': 633,\n",
       " 'require': 634,\n",
       " 'peoples': 635,\n",
       " 'presidential': 636,\n",
       " 'schooling': 637,\n",
       " 'similar': 638,\n",
       " 'young': 639,\n",
       " 'research': 640,\n",
       " 'leave': 641,\n",
       " 'usually': 642,\n",
       " 'worth': 643,\n",
       " 'possibly': 644,\n",
       " 'freedom': 645,\n",
       " 'reading': 646,\n",
       " 'past': 647,\n",
       " 'eyes': 648,\n",
       " 'lose': 649,\n",
       " 'understanding': 650,\n",
       " 'playing': 651,\n",
       " 'reduce': 652,\n",
       " 'elections': 653,\n",
       " 'danger': 654,\n",
       " 'set': 655,\n",
       " 'outcome': 656,\n",
       " 'forced': 657,\n",
       " 'comfortable': 658,\n",
       " 'finally': 659,\n",
       " 'hurt': 660,\n",
       " 'explore': 661,\n",
       " 'hope': 662,\n",
       " 'seen': 663,\n",
       " 'itself': 664,\n",
       " 'atmosphere': 665,\n",
       " 'expressions': 666,\n",
       " 'becoming': 667,\n",
       " 'throughout': 668,\n",
       " 'challenge': 669,\n",
       " 'conferencing': 670,\n",
       " 'higher': 671,\n",
       " 'questions': 672,\n",
       " 'distractions': 673,\n",
       " 'main': 674,\n",
       " 'kid': 675,\n",
       " 'exploring': 676,\n",
       " 'changing': 677,\n",
       " 'teaching': 678,\n",
       " 'move': 679,\n",
       " 'half': 680,\n",
       " 'roads': 681,\n",
       " 'cities': 682,\n",
       " 'caused': 683,\n",
       " 'lower': 684,\n",
       " 'hear': 685,\n",
       " 'travel': 686,\n",
       " 'interest': 687,\n",
       " \"student's\": 688,\n",
       " 'slate': 689,\n",
       " 'lack': 690,\n",
       " 'responsible': 691,\n",
       " 'europe': 692,\n",
       " 'jobs': 693,\n",
       " 'smile': 694,\n",
       " 'rule': 695,\n",
       " 'passage': 696,\n",
       " 'simple': 697,\n",
       " 'five': 698,\n",
       " 'mom': 699,\n",
       " 'prevent': 700,\n",
       " 'situations': 701,\n",
       " 'solution': 702,\n",
       " 'single': 703,\n",
       " 'harder': 704,\n",
       " 'knows': 705,\n",
       " 'law': 706,\n",
       " 'sick': 707,\n",
       " 'under': 708,\n",
       " '5': 709,\n",
       " 'ready': 710,\n",
       " 'argue': 711,\n",
       " 'miss': 712,\n",
       " 'pictures': 713,\n",
       " 'happened': 714,\n",
       " 'keeping': 715,\n",
       " 'seems': 716,\n",
       " 'miles': 717,\n",
       " 'listen': 718,\n",
       " '4': 719,\n",
       " 'sad': 720,\n",
       " 'sense': 721,\n",
       " 'old': 722,\n",
       " 'disagree': 723,\n",
       " 'walking': 724,\n",
       " 'happens': 725,\n",
       " 'vehicles': 726,\n",
       " 'useful': 727,\n",
       " 'age': 728,\n",
       " 'full': 729,\n",
       " 'points': 730,\n",
       " 'fine': 731,\n",
       " 'started': 732,\n",
       " 'effect': 733,\n",
       " 'consider': 734,\n",
       " 'above': 735,\n",
       " 'involved': 736,\n",
       " 'alone': 737,\n",
       " 'increase': 738,\n",
       " 'helped': 739,\n",
       " 'lost': 740,\n",
       " 'level': 741,\n",
       " 'towards': 742,\n",
       " 'american': 743,\n",
       " 'negative': 744,\n",
       " 'open': 745,\n",
       " 'material': 746,\n",
       " 'seeing': 747,\n",
       " 'choosing': 748,\n",
       " 'known': 749,\n",
       " 'paying': 750,\n",
       " 'putting': 751,\n",
       " 'buy': 752,\n",
       " 'interested': 753,\n",
       " 'specific': 754,\n",
       " 'middle': 755,\n",
       " 'causes': 756,\n",
       " 'worthy': 757,\n",
       " 'lets': 758,\n",
       " 'advantages': 759,\n",
       " 'power': 760,\n",
       " 'land': 761,\n",
       " 'pass': 762,\n",
       " 'campaign': 763,\n",
       " 'food': 764,\n",
       " 'taught': 765,\n",
       " 'cost': 766,\n",
       " 'impact': 767,\n",
       " 'amazing': 768,\n",
       " 'emotional': 769,\n",
       " 'left': 770,\n",
       " 'ban': 771,\n",
       " 'tie': 772,\n",
       " 'etc': 773,\n",
       " 'emissions': 774,\n",
       " 'longer': 775,\n",
       " 'limited': 776,\n",
       " 'pace': 777,\n",
       " 'alert': 778,\n",
       " 'lots': 779,\n",
       " 'clean': 780,\n",
       " '\\n\\nthe': 781,\n",
       " 'avoid': 782,\n",
       " 'sleep': 783,\n",
       " '2000': 784,\n",
       " 'congress': 785,\n",
       " \"there's\": 786,\n",
       " 'follow': 787,\n",
       " 'crashes': 788,\n",
       " 'finish': 789,\n",
       " 'schedule': 790,\n",
       " 'party': 791,\n",
       " 'changed': 792,\n",
       " 'rest': 793,\n",
       " 'decided': 794,\n",
       " 'teens': 795,\n",
       " 'gave': 796,\n",
       " 'realize': 797,\n",
       " 'advantage': 798,\n",
       " 'deal': 799,\n",
       " 'distraction': 800,\n",
       " 'running': 801,\n",
       " 'winning': 802,\n",
       " 'whatever': 803,\n",
       " 'experiences': 804,\n",
       " 'greenhouse': 805,\n",
       " \"people's\": 806,\n",
       " 'affect': 807,\n",
       " 'crash': 808,\n",
       " 'adults': 809,\n",
       " 'tend': 810,\n",
       " 'focused': 811,\n",
       " 'figure': 812,\n",
       " 'muscles': 813,\n",
       " 'internet': 814,\n",
       " 'effective': 815,\n",
       " 'scientist': 816,\n",
       " 'task': 817,\n",
       " 'ride': 818,\n",
       " 'living': 819,\n",
       " 'democratic': 820,\n",
       " 'driveless': 821,\n",
       " 'late': 822,\n",
       " 'telling': 823,\n",
       " 'practice': 824,\n",
       " 'streets': 825,\n",
       " 'effort': 826,\n",
       " 'handle': 827,\n",
       " 'plan': 828,\n",
       " 'week': 829,\n",
       " '000': 830,\n",
       " '7': 831,\n",
       " 'gain': 832,\n",
       " 'came': 833,\n",
       " 'interesting': 834,\n",
       " 'population': 835,\n",
       " 'rock': 836,\n",
       " 'courses': 837,\n",
       " 'works': 838,\n",
       " 'busy': 839,\n",
       " 'looks': 840,\n",
       " 'bogota': 841,\n",
       " 'compared': 842,\n",
       " 'facs': 843,\n",
       " '6': 844,\n",
       " 'bus': 845,\n",
       " 'extremely': 846,\n",
       " 'letting': 847,\n",
       " 'happier': 848,\n",
       " 'clubs': 849,\n",
       " 'peers': 850,\n",
       " 'physical': 851,\n",
       " 'communication': 852,\n",
       " 'office': 853,\n",
       " 'studies': 854,\n",
       " 'story': 855,\n",
       " 'dr': 856,\n",
       " 'development': 857,\n",
       " 'mental': 858,\n",
       " 'china': 859,\n",
       " 'gone': 860,\n",
       " 'math': 861,\n",
       " 'government': 862,\n",
       " 'near': 863,\n",
       " 'waste': 864,\n",
       " 'device': 865,\n",
       " 'global': 866,\n",
       " 'facts': 867,\n",
       " 'receive': 868,\n",
       " 'features': 869,\n",
       " 'prove': 870,\n",
       " 'everybody': 871,\n",
       " 'lastly': 872,\n",
       " 'families': 873,\n",
       " 'degrees': 874,\n",
       " 'google': 875,\n",
       " 'driven': 876,\n",
       " 'greater': 877,\n",
       " 'swing': 878,\n",
       " 'four': 879,\n",
       " 'night': 880,\n",
       " 'personally': 881,\n",
       " 'argument': 882,\n",
       " 'limit': 883,\n",
       " 'forms': 884,\n",
       " 'creative': 885,\n",
       " 'fault': 886,\n",
       " 'pretty': 887,\n",
       " 'answers': 888,\n",
       " 'including': 889,\n",
       " 'lazy': 890,\n",
       " 'further': 891,\n",
       " 'worse': 892,\n",
       " 'chose': 893,\n",
       " 'war': 894,\n",
       " 'truly': 895,\n",
       " 'solve': 896,\n",
       " 'nice': 897,\n",
       " 'daily': 898,\n",
       " 'rules': 899,\n",
       " 'fully': 900,\n",
       " 'pursuit': 901,\n",
       " 'remember': 902,\n",
       " 'build': 903,\n",
       " 'mona': 904,\n",
       " 'grow': 905,\n",
       " 'room': 906,\n",
       " 'boring': 907,\n",
       " 'ago': 908,\n",
       " 'factor': 909,\n",
       " 'plus': 910,\n",
       " 'million': 911,\n",
       " 'soon': 912,\n",
       " 'share': 913,\n",
       " 'stressful': 914,\n",
       " 'image': 915,\n",
       " 'early': 916,\n",
       " 'solar': 917,\n",
       " 'body': 918,\n",
       " 'fuel': 919,\n",
       " 'individual': 920,\n",
       " 'instance': 921,\n",
       " 'successful': 922,\n",
       " 'game': 923,\n",
       " 'access': 924,\n",
       " \"wasn't\": 925,\n",
       " 'wait': 926,\n",
       " 'final': 927,\n",
       " 'older': 928,\n",
       " 'knew': 929,\n",
       " 'cool': 930,\n",
       " 'causing': 931,\n",
       " 'assigned': 932,\n",
       " 'interests': 933,\n",
       " 'seek': 934,\n",
       " 'expensive': 935,\n",
       " 'requires': 936,\n",
       " 'couple': 937,\n",
       " 'claim': 938,\n",
       " 'devices': 939,\n",
       " 'won': 940,\n",
       " 'voted': 941,\n",
       " 'within': 942,\n",
       " 'hit': 943,\n",
       " 'perfect': 944,\n",
       " 'book': 945,\n",
       " 'science': 946,\n",
       " 'express': 947,\n",
       " 'myself': 948,\n",
       " 'picking': 949,\n",
       " 'recognize': 950,\n",
       " 'topics': 951,\n",
       " 'creating': 952,\n",
       " 'advanced': 953,\n",
       " 'vauban': 954,\n",
       " 'watch': 955,\n",
       " 'heard': 956,\n",
       " 'healthy': 957,\n",
       " 'greatly': 958,\n",
       " 'decrease': 959,\n",
       " 'addition': 960,\n",
       " 'send': 961,\n",
       " 'perform': 962,\n",
       " 'prefer': 963,\n",
       " 'teenagers': 964,\n",
       " 'head': 965,\n",
       " 'present': 966,\n",
       " 'responsibility': 967,\n",
       " 'normal': 968,\n",
       " 'forget': 969,\n",
       " 'stressed': 970,\n",
       " 'necessary': 971,\n",
       " 'emergency': 972,\n",
       " 'media': 973,\n",
       " 'anymore': 974,\n",
       " 'sit': 975,\n",
       " 'bit': 976,\n",
       " 'area': 977,\n",
       " 'huang': 978,\n",
       " 'aware': 979,\n",
       " 'lessons': 980,\n",
       " 'collage': 981,\n",
       " 'fall': 982,\n",
       " 'regular': 983,\n",
       " 'lisa': 984,\n",
       " 'photo': 985,\n",
       " 'camera': 986,\n",
       " 'tells': 987,\n",
       " 'creativity': 988,\n",
       " 'favor': 989,\n",
       " 'hour': 990,\n",
       " 'begin': 991,\n",
       " 'turned': 992,\n",
       " 'thoughts': 993,\n",
       " 'act': 994,\n",
       " 'faster': 995,\n",
       " 'weather': 996,\n",
       " 'reality': 997,\n",
       " 'difference': 998,\n",
       " 'fail': 999,\n",
       " 'perspective': 1000,\n",
       " ...}"
      ]
     },
     "execution_count": 129,
     "metadata": {},
     "output_type": "execute_result"
    }
   ],
   "source": [
    "word_index"
   ]
  },
  {
   "cell_type": "code",
   "execution_count": 130,
   "metadata": {},
   "outputs": [
    {
     "name": "stdout",
     "output_type": "stream",
     "text": [
      "Shape of data tensor: (144293, 836)\n"
     ]
    }
   ],
   "source": [
    "from keras.preprocessing.sequence import pad_sequences\n",
    "X = tokenizer.texts_to_sequences(train['discourse_text'].values)\n",
    "X = pad_sequences(X, maxlen=MAX_SEQUENCE_LENGTH)\n",
    "print('Shape of data tensor:', X.shape)"
   ]
  },
  {
   "cell_type": "code",
   "execution_count": 131,
   "metadata": {},
   "outputs": [
    {
     "data": {
      "text/plain": [
       "array([[  0,   0,   0, ...,  10, 103,  89],\n",
       "       [  0,   0,   0, ...,   2,   3, 136],\n",
       "       [  0,   0,   0, ...,  28,   5,  10],\n",
       "       ...,\n",
       "       [  0,   0,   0, ...,   5,  54,  48],\n",
       "       [  0,   0,   0, ..., 291,  22, 590],\n",
       "       [  0,   0,   0, ..., 148, 148, 148]], dtype=int32)"
      ]
     },
     "execution_count": 131,
     "metadata": {},
     "output_type": "execute_result"
    }
   ],
   "source": [
    "X"
   ]
  },
  {
   "cell_type": "code",
   "execution_count": 132,
   "metadata": {},
   "outputs": [],
   "source": [
    "model = Sequential()\n",
    "model.add(Embedding(MAX_NB_WORDS, EMBEDDING_DIM, input_length=X.shape[1]))\n",
    "model.add(SpatialDropout1D(0.4))\n",
    "model.add(LSTM(10, dropout=0.4, recurrent_dropout=0.4))\n",
    "model.add(Dense(7, activation='softmax'))\n",
    "model.compile(loss='categorical_crossentropy', optimizer='adam', metrics=['accuracy'])\n",
    "\n",
    "epochs = 2\n",
    "batch_size = 128"
   ]
  },
  {
   "cell_type": "code",
   "execution_count": 133,
   "metadata": {},
   "outputs": [
    {
     "name": "stderr",
     "output_type": "stream",
     "text": [
      "/Users/nehapawar/Desktop/neha/venv3/lib/python3.7/site-packages/tensorflow_core/python/framework/indexed_slices.py:433: UserWarning: Converting sparse IndexedSlices to a dense Tensor of unknown shape. This may consume a large amount of memory.\n",
      "  \"Converting sparse IndexedSlices to a dense Tensor of unknown shape. \"\n"
     ]
    },
    {
     "name": "stdout",
     "output_type": "stream",
     "text": [
      "Train on 129863 samples, validate on 14430 samples\n",
      "Epoch 1/2\n",
      "129863/129863 [==============================] - 910s 7ms/step - loss: 1.2329 - accuracy: 0.5897 - val_loss: 1.0199 - val_accuracy: 0.6785\n",
      "Epoch 2/2\n",
      "129863/129863 [==============================] - 957s 7ms/step - loss: 0.9646 - accuracy: 0.6789 - val_loss: 0.9436 - val_accuracy: 0.6878\n",
      "CPU times: user 1h 29min 52s, sys: 1h 32min 51s, total: 3h 2min 44s\n",
      "Wall time: 31min 7s\n"
     ]
    },
    {
     "data": {
      "text/plain": [
       "<keras.callbacks.callbacks.History at 0x18a83dc90>"
      ]
     },
     "execution_count": 133,
     "metadata": {},
     "output_type": "execute_result"
    }
   ],
   "source": [
    "%%time\n",
    "model.fit(X, Y,\n",
    "          epochs=epochs,\n",
    "          batch_size=batch_size,\n",
    "          validation_split=0.1,\n",
    "          callbacks=[ModelCheckpoint('best_model.h5', save_best_only = True)])\n"
   ]
  },
  {
   "cell_type": "code",
   "execution_count": 167,
   "metadata": {},
   "outputs": [],
   "source": [
    "# import os\n",
    "# test_names, test_texts = [], []\n",
    "# for f in list(os.listdir('../../data/feedback-prize-2021/train')):\n",
    "#     test_names.append(f.replace('.txt', ''))\n",
    "#     test_texts.append(open('../../data/feedback-prize-2021/train/' + f, 'r').read())\n",
    "    \n",
    "    \n",
    "# test_texts = pd.DataFrame({'id': test_names, 'text': test_texts})\n",
    "# test_texts"
   ]
  },
  {
   "cell_type": "code",
   "execution_count": 177,
   "metadata": {},
   "outputs": [],
   "source": [
    "TEST_PATH = \"../../data/feedback-prize-2021/test\"\n",
    "\n",
    "def get_test_text(a_id):\n",
    "    a_file = f\"{TEST_PATH}/{a_id}.txt\"\n",
    "    with open(a_file, \"r\") as fp:\n",
    "        txt = fp.read()\n",
    "    return txt\n",
    "\n",
    "def create_df_test():\n",
    "    test_ids = [f[:-4] for f in os.listdir(TEST_PATH)] #Remove the last 4 characters ('.txt') in the filenames such as '0FB0700DAF44.txt'.\n",
    "    test_data = []\n",
    "    for test_id in test_ids:\n",
    "        text = get_test_text(test_id)\n",
    "        sentences = nltk.sent_tokenize(text)\n",
    "        id_sentences = []\n",
    "        idx = 0 \n",
    "        for sentence in sentences:\n",
    "            id_sentence = []\n",
    "            words = sentence.split()\n",
    "            # I created this heuristic for mapping words in sentences to \"word indices\"\n",
    "            # This is not definitive and might have strong drawbacks and problems\n",
    "            for w in words:\n",
    "                id_sentence.append(idx)\n",
    "                idx+=1\n",
    "            id_sentences.append(id_sentence)\n",
    "        test_data += list(zip([test_id] * len(sentences), sentences, id_sentences))\n",
    "    df_test = pd.DataFrame(test_data, columns=['id', 'discourse_text', 'ids'])\n",
    "    return df_test"
   ]
  },
  {
   "cell_type": "code",
   "execution_count": 178,
   "metadata": {},
   "outputs": [],
   "source": [
    "# discourse_id = []\n",
    "# discourse_text = []\n",
    "# discourse_start =[] \n",
    "# discourse_end = []\n",
    "# predictionstring = []\n",
    "# for text in range(len(test_texts.text)):\n",
    "#     doc = test_texts.text[text]\n",
    "#     paras = re.split(r'[.]\\n',doc)\n",
    "#     start = 0\n",
    "#     for para in paras:\n",
    "#         positions = re.findall(r'\\w+[.]', para)\n",
    "#         if len(positions) <=2 :\n",
    "#             txts = re.split(r'[.]\\s',para)\n",
    "#             for i in txts:\n",
    "#                 discourse_text.append(i)\n",
    "#                 length = len(i.split())\n",
    "#                 end = start + length\n",
    "#                 l = list(range(start+1,end+1 ))\n",
    "#                 l = [str(j) for j in l]\n",
    "#                 l = ' '.join(l)\n",
    "#                 predictionstring.append(l)\n",
    "#                 discourse_start.append(start+1)\n",
    "#                 discourse_end.append(end)\n",
    "#                 discourse_id.append(test_texts.id[text])\n",
    "#                 start += length\n",
    "\n",
    "#         else: \n",
    "#             if len(positions)%2 == 0:\n",
    "#                 split_pos = int(len(positions)/2)\n",
    "#                 split_word = positions[split_pos]\n",
    "#             else :\n",
    "#                 split_pos = int((len(positions)+1)/2)\n",
    "#                 split_word = positions[split_pos]\n",
    "\n",
    "#             words = para.split(' ')\n",
    "#             position = words.index(split_word)\n",
    "#             part1 = words[:position]\n",
    "#             part2 = words[position:]\n",
    "#             part1 = ' '.join(part1)\n",
    "#             part2 = ' '.join(part2)\n",
    "#             parts = [part1 ,part2]\n",
    "#             for i in parts:\n",
    "#                 discourse_text.append(i)\n",
    "#                 length = len(i.split())\n",
    "#                 end = start + length\n",
    "#                 l = list(range(start+1,end+1 ))\n",
    "#                 l = [str(k) for k in l]\n",
    "#                 l = ' '.join(l)\n",
    "#                 predictionstring.append(l)\n",
    "#                 discourse_start.append(start+1)\n",
    "#                 discourse_end.append(end)\n",
    "#                 discourse_id.append(test_texts.id[text])\n",
    "#                 start += length\n",
    "\n",
    "# testing_data =pd.DataFrame() \n",
    "# testing_data['discourse_id'] =discourse_id\n",
    "# testing_data['discourse_text'] = discourse_text\n",
    "# testing_data['discourse_start'] = discourse_start\n",
    "# testing_data['discourse_end'] = discourse_end\n",
    "# testing_data['predictionstring'] = predictionstring\n",
    "# testing_data.head()"
   ]
  },
  {
   "cell_type": "code",
   "execution_count": 179,
   "metadata": {},
   "outputs": [
    {
     "data": {
      "text/html": [
       "<div>\n",
       "<style scoped>\n",
       "    .dataframe tbody tr th:only-of-type {\n",
       "        vertical-align: middle;\n",
       "    }\n",
       "\n",
       "    .dataframe tbody tr th {\n",
       "        vertical-align: top;\n",
       "    }\n",
       "\n",
       "    .dataframe thead th {\n",
       "        text-align: right;\n",
       "    }\n",
       "</style>\n",
       "<table border=\"1\" class=\"dataframe\">\n",
       "  <thead>\n",
       "    <tr style=\"text-align: right;\">\n",
       "      <th></th>\n",
       "      <th>id</th>\n",
       "      <th>discourse_text</th>\n",
       "      <th>ids</th>\n",
       "    </tr>\n",
       "  </thead>\n",
       "  <tbody>\n",
       "    <tr>\n",
       "      <th>0</th>\n",
       "      <td>DF920E0A7337</td>\n",
       "      <td>Have you ever asked more than one person for h...</td>\n",
       "      <td>[0, 1, 2, 3, 4, 5, 6, 7, 8, 9, 10, 11, 12, 13,...</td>\n",
       "    </tr>\n",
       "    <tr>\n",
       "      <th>1</th>\n",
       "      <td>DF920E0A7337</td>\n",
       "      <td>Interviews are a perfect example of seeking mo...</td>\n",
       "      <td>[18, 19, 20, 21, 22, 23, 24, 25, 26, 27, 28]</td>\n",
       "    </tr>\n",
       "    <tr>\n",
       "      <th>2</th>\n",
       "      <td>DF920E0A7337</td>\n",
       "      <td>Interviews are seen on the news, in profession...</td>\n",
       "      <td>[29, 30, 31, 32, 33, 34, 35, 36, 37, 38, 39, 4...</td>\n",
       "    </tr>\n",
       "    <tr>\n",
       "      <th>3</th>\n",
       "      <td>DF920E0A7337</td>\n",
       "      <td>There are a lot of people that can help you bu...</td>\n",
       "      <td>[43, 44, 45, 46, 47, 48, 49, 50, 51, 52, 53, 5...</td>\n",
       "    </tr>\n",
       "    <tr>\n",
       "      <th>4</th>\n",
       "      <td>DF920E0A7337</td>\n",
       "      <td>They can all open you up to new ideas.</td>\n",
       "      <td>[59, 60, 61, 62, 63, 64, 65, 66, 67]</td>\n",
       "    </tr>\n",
       "  </tbody>\n",
       "</table>\n",
       "</div>"
      ],
      "text/plain": [
       "             id                                     discourse_text  \\\n",
       "0  DF920E0A7337  Have you ever asked more than one person for h...   \n",
       "1  DF920E0A7337  Interviews are a perfect example of seeking mo...   \n",
       "2  DF920E0A7337  Interviews are seen on the news, in profession...   \n",
       "3  DF920E0A7337  There are a lot of people that can help you bu...   \n",
       "4  DF920E0A7337             They can all open you up to new ideas.   \n",
       "\n",
       "                                                 ids  \n",
       "0  [0, 1, 2, 3, 4, 5, 6, 7, 8, 9, 10, 11, 12, 13,...  \n",
       "1       [18, 19, 20, 21, 22, 23, 24, 25, 26, 27, 28]  \n",
       "2  [29, 30, 31, 32, 33, 34, 35, 36, 37, 38, 39, 4...  \n",
       "3  [43, 44, 45, 46, 47, 48, 49, 50, 51, 52, 53, 5...  \n",
       "4               [59, 60, 61, 62, 63, 64, 65, 66, 67]  "
      ]
     },
     "execution_count": 179,
     "metadata": {},
     "output_type": "execute_result"
    }
   ],
   "source": [
    "testing_data = create_df_test()\n",
    "testing_data.head()"
   ]
  },
  {
   "cell_type": "code",
   "execution_count": 180,
   "metadata": {},
   "outputs": [
    {
     "data": {
      "text/html": [
       "<div>\n",
       "<style scoped>\n",
       "    .dataframe tbody tr th:only-of-type {\n",
       "        vertical-align: middle;\n",
       "    }\n",
       "\n",
       "    .dataframe tbody tr th {\n",
       "        vertical-align: top;\n",
       "    }\n",
       "\n",
       "    .dataframe thead th {\n",
       "        text-align: right;\n",
       "    }\n",
       "</style>\n",
       "<table border=\"1\" class=\"dataframe\">\n",
       "  <thead>\n",
       "    <tr style=\"text-align: right;\">\n",
       "      <th></th>\n",
       "      <th>id</th>\n",
       "      <th>discourse_text</th>\n",
       "      <th>ids</th>\n",
       "      <th>predictionstring</th>\n",
       "    </tr>\n",
       "  </thead>\n",
       "  <tbody>\n",
       "    <tr>\n",
       "      <th>0</th>\n",
       "      <td>DF920E0A7337</td>\n",
       "      <td>Have you ever asked more than one person for h...</td>\n",
       "      <td>[0, 1, 2, 3, 4, 5, 6, 7, 8, 9, 10, 11, 12, 13,...</td>\n",
       "      <td>0 1 2 3 4 5 6 7 8 9 10 11 12 13 14 15 16 17</td>\n",
       "    </tr>\n",
       "    <tr>\n",
       "      <th>1</th>\n",
       "      <td>DF920E0A7337</td>\n",
       "      <td>Interviews are a perfect example of seeking mo...</td>\n",
       "      <td>[18, 19, 20, 21, 22, 23, 24, 25, 26, 27, 28]</td>\n",
       "      <td>18 19 20 21 22 23 24 25 26 27 28</td>\n",
       "    </tr>\n",
       "    <tr>\n",
       "      <th>2</th>\n",
       "      <td>DF920E0A7337</td>\n",
       "      <td>Interviews are seen on the news, in profession...</td>\n",
       "      <td>[29, 30, 31, 32, 33, 34, 35, 36, 37, 38, 39, 4...</td>\n",
       "      <td>29 30 31 32 33 34 35 36 37 38 39 40 41 42</td>\n",
       "    </tr>\n",
       "    <tr>\n",
       "      <th>3</th>\n",
       "      <td>DF920E0A7337</td>\n",
       "      <td>There are a lot of people that can help you bu...</td>\n",
       "      <td>[43, 44, 45, 46, 47, 48, 49, 50, 51, 52, 53, 5...</td>\n",
       "      <td>43 44 45 46 47 48 49 50 51 52 53 54 55 56 57 58</td>\n",
       "    </tr>\n",
       "    <tr>\n",
       "      <th>4</th>\n",
       "      <td>DF920E0A7337</td>\n",
       "      <td>They can all open you up to new ideas.</td>\n",
       "      <td>[59, 60, 61, 62, 63, 64, 65, 66, 67]</td>\n",
       "      <td>59 60 61 62 63 64 65 66 67</td>\n",
       "    </tr>\n",
       "  </tbody>\n",
       "</table>\n",
       "</div>"
      ],
      "text/plain": [
       "             id                                     discourse_text  \\\n",
       "0  DF920E0A7337  Have you ever asked more than one person for h...   \n",
       "1  DF920E0A7337  Interviews are a perfect example of seeking mo...   \n",
       "2  DF920E0A7337  Interviews are seen on the news, in profession...   \n",
       "3  DF920E0A7337  There are a lot of people that can help you bu...   \n",
       "4  DF920E0A7337             They can all open you up to new ideas.   \n",
       "\n",
       "                                                 ids  \\\n",
       "0  [0, 1, 2, 3, 4, 5, 6, 7, 8, 9, 10, 11, 12, 13,...   \n",
       "1       [18, 19, 20, 21, 22, 23, 24, 25, 26, 27, 28]   \n",
       "2  [29, 30, 31, 32, 33, 34, 35, 36, 37, 38, 39, 4...   \n",
       "3  [43, 44, 45, 46, 47, 48, 49, 50, 51, 52, 53, 5...   \n",
       "4               [59, 60, 61, 62, 63, 64, 65, 66, 67]   \n",
       "\n",
       "                                  predictionstring  \n",
       "0      0 1 2 3 4 5 6 7 8 9 10 11 12 13 14 15 16 17  \n",
       "1                 18 19 20 21 22 23 24 25 26 27 28  \n",
       "2        29 30 31 32 33 34 35 36 37 38 39 40 41 42  \n",
       "3  43 44 45 46 47 48 49 50 51 52 53 54 55 56 57 58  \n",
       "4                       59 60 61 62 63 64 65 66 67  "
      ]
     },
     "execution_count": 180,
     "metadata": {},
     "output_type": "execute_result"
    }
   ],
   "source": [
    "testing_data['predictionstring'] = testing_data['ids'].apply(lambda x: ' '.join([str(i) for i in x]))\n",
    "testing_data.head()"
   ]
  },
  {
   "cell_type": "code",
   "execution_count": 181,
   "metadata": {},
   "outputs": [],
   "source": [
    "testing_data = testing_data.drop('ids', axis=1)\n"
   ]
  },
  {
   "cell_type": "code",
   "execution_count": 182,
   "metadata": {},
   "outputs": [],
   "source": [
    "testing_data['cleaned_text'] = testing_data.discourse_text.apply(clean_text)\n"
   ]
  },
  {
   "cell_type": "code",
   "execution_count": 183,
   "metadata": {},
   "outputs": [
    {
     "name": "stdout",
     "output_type": "stream",
     "text": [
      "Shape of data tensor: (187, 836)\n"
     ]
    }
   ],
   "source": [
    "X_test = tokenizer.texts_to_sequences(testing_data['cleaned_text'].values)\n",
    "X_test = pad_sequences(X_test, maxlen=MAX_SEQUENCE_LENGTH)\n",
    "print('Shape of data tensor:', X_test.shape)"
   ]
  },
  {
   "cell_type": "code",
   "execution_count": 184,
   "metadata": {},
   "outputs": [],
   "source": [
    "y_pred = model.predict(X_test)"
   ]
  },
  {
   "cell_type": "code",
   "execution_count": 186,
   "metadata": {},
   "outputs": [
    {
     "data": {
      "text/plain": [
       "array([[0.46672836, 0.02543342, 0.21261284, 0.07329556, 0.09879909,\n",
       "        0.06649874, 0.05663198],\n",
       "       [0.4788117 , 0.02484627, 0.04123255, 0.2590218 , 0.03199809,\n",
       "        0.05902621, 0.10506336],\n",
       "       [0.863521  , 0.00200665, 0.03778341, 0.04613342, 0.00471729,\n",
       "        0.00826378, 0.03757444],\n",
       "       [0.77319086, 0.01116504, 0.05390802, 0.04507124, 0.01870908,\n",
       "        0.05123031, 0.04672553],\n",
       "       [0.81367904, 0.00373657, 0.08045027, 0.03089632, 0.01377811,\n",
       "        0.02244443, 0.03501533],\n",
       "       [0.356769  , 0.15620373, 0.0107301 , 0.0573498 , 0.04307808,\n",
       "        0.3514137 , 0.02445551],\n",
       "       [0.8473938 , 0.0040844 , 0.02865901, 0.05894354, 0.0069909 ,\n",
       "        0.01929762, 0.03463075],\n",
       "       [0.54772276, 0.04913479, 0.02705093, 0.05064316, 0.03062173,\n",
       "        0.257109  , 0.03771765],\n",
       "       [0.63466364, 0.04540987, 0.02214305, 0.07539252, 0.02767819,\n",
       "        0.1567005 , 0.03801208],\n",
       "       [0.7326386 , 0.01169398, 0.04696111, 0.12131483, 0.01723553,\n",
       "        0.01997655, 0.05017943]], dtype=float32)"
      ]
     },
     "execution_count": 186,
     "metadata": {},
     "output_type": "execute_result"
    }
   ],
   "source": [
    "y_pred[:10]"
   ]
  },
  {
   "cell_type": "code",
   "execution_count": 187,
   "metadata": {},
   "outputs": [
    {
     "data": {
      "text/html": [
       "<div>\n",
       "<style scoped>\n",
       "    .dataframe tbody tr th:only-of-type {\n",
       "        vertical-align: middle;\n",
       "    }\n",
       "\n",
       "    .dataframe tbody tr th {\n",
       "        vertical-align: top;\n",
       "    }\n",
       "\n",
       "    .dataframe thead th {\n",
       "        text-align: right;\n",
       "    }\n",
       "</style>\n",
       "<table border=\"1\" class=\"dataframe\">\n",
       "  <thead>\n",
       "    <tr style=\"text-align: right;\">\n",
       "      <th></th>\n",
       "      <th>id</th>\n",
       "      <th>class</th>\n",
       "      <th>predictionstring</th>\n",
       "    </tr>\n",
       "  </thead>\n",
       "  <tbody>\n",
       "    <tr>\n",
       "      <th>0</th>\n",
       "      <td>DF920E0A7337</td>\n",
       "      <td>Claim</td>\n",
       "      <td>0 1 2 3 4 5 6 7 8 9 10 11 12 13 14 15 16 17</td>\n",
       "    </tr>\n",
       "    <tr>\n",
       "      <th>1</th>\n",
       "      <td>DF920E0A7337</td>\n",
       "      <td>Claim</td>\n",
       "      <td>18 19 20 21 22 23 24 25 26 27 28</td>\n",
       "    </tr>\n",
       "    <tr>\n",
       "      <th>2</th>\n",
       "      <td>DF920E0A7337</td>\n",
       "      <td>Claim</td>\n",
       "      <td>29 30 31 32 33 34 35 36 37 38 39 40 41 42</td>\n",
       "    </tr>\n",
       "    <tr>\n",
       "      <th>3</th>\n",
       "      <td>DF920E0A7337</td>\n",
       "      <td>Claim</td>\n",
       "      <td>43 44 45 46 47 48 49 50 51 52 53 54 55 56 57 58</td>\n",
       "    </tr>\n",
       "    <tr>\n",
       "      <th>4</th>\n",
       "      <td>DF920E0A7337</td>\n",
       "      <td>Claim</td>\n",
       "      <td>59 60 61 62 63 64 65 66 67</td>\n",
       "    </tr>\n",
       "  </tbody>\n",
       "</table>\n",
       "</div>"
      ],
      "text/plain": [
       "             id  class                                 predictionstring\n",
       "0  DF920E0A7337  Claim      0 1 2 3 4 5 6 7 8 9 10 11 12 13 14 15 16 17\n",
       "1  DF920E0A7337  Claim                 18 19 20 21 22 23 24 25 26 27 28\n",
       "2  DF920E0A7337  Claim        29 30 31 32 33 34 35 36 37 38 39 40 41 42\n",
       "3  DF920E0A7337  Claim  43 44 45 46 47 48 49 50 51 52 53 54 55 56 57 58\n",
       "4  DF920E0A7337  Claim                       59 60 61 62 63 64 65 66 67"
      ]
     },
     "execution_count": 187,
     "metadata": {},
     "output_type": "execute_result"
    }
   ],
   "source": [
    "output = pd.DataFrame(y_pred ,columns= label_names)\n",
    "output = list(output.idxmax(axis = 1))\n",
    "submission_df = pd.DataFrame()\n",
    "submission_df['id'] = testing_data['id']\n",
    "submission_df['class'] = output# label of y_predict\n",
    "submission_df['predictionstring'] = testing_data['predictionstring']\n",
    "mapping = { 1:'Claim' , 2:'Evidence' ,  3:'Position' , 4:'Concluding Statement' , 5:'Lead', 6:'Counterclaim', 7:'Rebuttal' }\n",
    "submission_df['class']= submission_df['class'].replace(mapping)\n",
    "submission_df.head()"
   ]
  },
  {
   "cell_type": "code",
   "execution_count": 196,
   "metadata": {},
   "outputs": [
    {
     "data": {
      "text/plain": [
       "Claim                   165\n",
       "Position                  8\n",
       "Concluding Statement      5\n",
       "Counterclaim              4\n",
       "Evidence                  3\n",
       "Lead                      2\n",
       "Name: class, dtype: int64"
      ]
     },
     "execution_count": 196,
     "metadata": {},
     "output_type": "execute_result"
    }
   ],
   "source": [
    "submission_df['class'].value_counts()"
   ]
  },
  {
   "cell_type": "code",
   "execution_count": 191,
   "metadata": {},
   "outputs": [
    {
     "data": {
      "text/plain": [
       "Claim                   50208\n",
       "Evidence                45702\n",
       "Position                15419\n",
       "Concluding Statement    13505\n",
       "Lead                     9305\n",
       "Counterclaim             5817\n",
       "Rebuttal                 4337\n",
       "Name: discourse_type, dtype: int64"
      ]
     },
     "execution_count": 191,
     "metadata": {},
     "output_type": "execute_result"
    }
   ],
   "source": [
    "train['discourse_type'].value_counts()"
   ]
  },
  {
   "cell_type": "code",
   "execution_count": 189,
   "metadata": {},
   "outputs": [
    {
     "data": {
      "text/plain": [
       "(187, 3)"
      ]
     },
     "execution_count": 189,
     "metadata": {},
     "output_type": "execute_result"
    }
   ],
   "source": [
    "submission_df.shape"
   ]
  },
  {
   "cell_type": "code",
   "execution_count": 195,
   "metadata": {},
   "outputs": [
    {
     "data": {
      "text/html": [
       "<div>\n",
       "<style scoped>\n",
       "    .dataframe tbody tr th:only-of-type {\n",
       "        vertical-align: middle;\n",
       "    }\n",
       "\n",
       "    .dataframe tbody tr th {\n",
       "        vertical-align: top;\n",
       "    }\n",
       "\n",
       "    .dataframe thead th {\n",
       "        text-align: right;\n",
       "    }\n",
       "</style>\n",
       "<table border=\"1\" class=\"dataframe\">\n",
       "  <thead>\n",
       "    <tr style=\"text-align: right;\">\n",
       "      <th></th>\n",
       "      <th>id</th>\n",
       "      <th>class</th>\n",
       "      <th>predictionstring</th>\n",
       "    </tr>\n",
       "  </thead>\n",
       "  <tbody>\n",
       "    <tr>\n",
       "      <th>0</th>\n",
       "      <td>DF920E0A7337</td>\n",
       "      <td>Claim</td>\n",
       "      <td>0 1 2 3 4 5 6 7 8 9 10 11 12 13 14 15 16 17</td>\n",
       "    </tr>\n",
       "    <tr>\n",
       "      <th>1</th>\n",
       "      <td>DF920E0A7337</td>\n",
       "      <td>Claim</td>\n",
       "      <td>18 19 20 21 22 23 24 25 26 27 28</td>\n",
       "    </tr>\n",
       "    <tr>\n",
       "      <th>2</th>\n",
       "      <td>DF920E0A7337</td>\n",
       "      <td>Claim</td>\n",
       "      <td>29 30 31 32 33 34 35 36 37 38 39 40 41 42</td>\n",
       "    </tr>\n",
       "    <tr>\n",
       "      <th>3</th>\n",
       "      <td>DF920E0A7337</td>\n",
       "      <td>Claim</td>\n",
       "      <td>43 44 45 46 47 48 49 50 51 52 53 54 55 56 57 58</td>\n",
       "    </tr>\n",
       "    <tr>\n",
       "      <th>4</th>\n",
       "      <td>DF920E0A7337</td>\n",
       "      <td>Claim</td>\n",
       "      <td>59 60 61 62 63 64 65 66 67</td>\n",
       "    </tr>\n",
       "    <tr>\n",
       "      <th>5</th>\n",
       "      <td>DF920E0A7337</td>\n",
       "      <td>Claim</td>\n",
       "      <td>68 69 70 71 72 73 74 75 76 77 78 79 80 81 82 8...</td>\n",
       "    </tr>\n",
       "    <tr>\n",
       "      <th>6</th>\n",
       "      <td>DF920E0A7337</td>\n",
       "      <td>Claim</td>\n",
       "      <td>108 109 110 111 112 113 114 115 116 117</td>\n",
       "    </tr>\n",
       "    <tr>\n",
       "      <th>7</th>\n",
       "      <td>DF920E0A7337</td>\n",
       "      <td>Claim</td>\n",
       "      <td>118 119 120 121 122 123 124 125 126 127 128 12...</td>\n",
       "    </tr>\n",
       "    <tr>\n",
       "      <th>8</th>\n",
       "      <td>DF920E0A7337</td>\n",
       "      <td>Claim</td>\n",
       "      <td>135 136 137 138 139 140 141 142 143 144 145 14...</td>\n",
       "    </tr>\n",
       "    <tr>\n",
       "      <th>9</th>\n",
       "      <td>DF920E0A7337</td>\n",
       "      <td>Claim</td>\n",
       "      <td>152 153 154 155 156 157 158 159 160 161 162 16...</td>\n",
       "    </tr>\n",
       "    <tr>\n",
       "      <th>10</th>\n",
       "      <td>DF920E0A7337</td>\n",
       "      <td>Claim</td>\n",
       "      <td>180 181 182 183 184 185 186 187</td>\n",
       "    </tr>\n",
       "    <tr>\n",
       "      <th>11</th>\n",
       "      <td>DF920E0A7337</td>\n",
       "      <td>Claim</td>\n",
       "      <td>188 189 190 191 192 193 194 195 196 197 198 19...</td>\n",
       "    </tr>\n",
       "    <tr>\n",
       "      <th>12</th>\n",
       "      <td>DF920E0A7337</td>\n",
       "      <td>Claim</td>\n",
       "      <td>202 203 204 205 206 207 208 209 210 211 212 21...</td>\n",
       "    </tr>\n",
       "    <tr>\n",
       "      <th>13</th>\n",
       "      <td>DF920E0A7337</td>\n",
       "      <td>Position</td>\n",
       "      <td>220 221 222 223 224 225 226 227 228 229 230</td>\n",
       "    </tr>\n",
       "    <tr>\n",
       "      <th>14</th>\n",
       "      <td>DF920E0A7337</td>\n",
       "      <td>Claim</td>\n",
       "      <td>231 232 233 234 235 236 237 238 239 240 241 24...</td>\n",
       "    </tr>\n",
       "    <tr>\n",
       "      <th>15</th>\n",
       "      <td>DF920E0A7337</td>\n",
       "      <td>Claim</td>\n",
       "      <td>246 247 248 249 250 251 252 253 254 255 256 25...</td>\n",
       "    </tr>\n",
       "    <tr>\n",
       "      <th>16</th>\n",
       "      <td>DF920E0A7337</td>\n",
       "      <td>Claim</td>\n",
       "      <td>263 264 265 266 267 268 269 270 271 272 273</td>\n",
       "    </tr>\n",
       "    <tr>\n",
       "      <th>17</th>\n",
       "      <td>DF920E0A7337</td>\n",
       "      <td>Claim</td>\n",
       "      <td>274 275 276 277 278 279 280 281 282 283</td>\n",
       "    </tr>\n",
       "    <tr>\n",
       "      <th>18</th>\n",
       "      <td>DF920E0A7337</td>\n",
       "      <td>Claim</td>\n",
       "      <td>284 285 286 287 288 289 290 291 292 293 294 29...</td>\n",
       "    </tr>\n",
       "    <tr>\n",
       "      <th>19</th>\n",
       "      <td>DF920E0A7337</td>\n",
       "      <td>Claim</td>\n",
       "      <td>301 302 303 304 305 306 307 308 309</td>\n",
       "    </tr>\n",
       "  </tbody>\n",
       "</table>\n",
       "</div>"
      ],
      "text/plain": [
       "              id     class                                   predictionstring\n",
       "0   DF920E0A7337     Claim        0 1 2 3 4 5 6 7 8 9 10 11 12 13 14 15 16 17\n",
       "1   DF920E0A7337     Claim                   18 19 20 21 22 23 24 25 26 27 28\n",
       "2   DF920E0A7337     Claim          29 30 31 32 33 34 35 36 37 38 39 40 41 42\n",
       "3   DF920E0A7337     Claim    43 44 45 46 47 48 49 50 51 52 53 54 55 56 57 58\n",
       "4   DF920E0A7337     Claim                         59 60 61 62 63 64 65 66 67\n",
       "5   DF920E0A7337     Claim  68 69 70 71 72 73 74 75 76 77 78 79 80 81 82 8...\n",
       "6   DF920E0A7337     Claim            108 109 110 111 112 113 114 115 116 117\n",
       "7   DF920E0A7337     Claim  118 119 120 121 122 123 124 125 126 127 128 12...\n",
       "8   DF920E0A7337     Claim  135 136 137 138 139 140 141 142 143 144 145 14...\n",
       "9   DF920E0A7337     Claim  152 153 154 155 156 157 158 159 160 161 162 16...\n",
       "10  DF920E0A7337     Claim                    180 181 182 183 184 185 186 187\n",
       "11  DF920E0A7337     Claim  188 189 190 191 192 193 194 195 196 197 198 19...\n",
       "12  DF920E0A7337     Claim  202 203 204 205 206 207 208 209 210 211 212 21...\n",
       "13  DF920E0A7337  Position        220 221 222 223 224 225 226 227 228 229 230\n",
       "14  DF920E0A7337     Claim  231 232 233 234 235 236 237 238 239 240 241 24...\n",
       "15  DF920E0A7337     Claim  246 247 248 249 250 251 252 253 254 255 256 25...\n",
       "16  DF920E0A7337     Claim        263 264 265 266 267 268 269 270 271 272 273\n",
       "17  DF920E0A7337     Claim            274 275 276 277 278 279 280 281 282 283\n",
       "18  DF920E0A7337     Claim  284 285 286 287 288 289 290 291 292 293 294 29...\n",
       "19  DF920E0A7337     Claim                301 302 303 304 305 306 307 308 309"
      ]
     },
     "execution_count": 195,
     "metadata": {},
     "output_type": "execute_result"
    }
   ],
   "source": [
    "submission_df.head(20)"
   ]
  },
  {
   "cell_type": "code",
   "execution_count": null,
   "metadata": {},
   "outputs": [],
   "source": [
    "submission_df.to_csv(\"submission.csv\", index=False)"
   ]
  },
  {
   "cell_type": "markdown",
   "metadata": {},
   "source": [
    "## LSTM with word2vec embedding"
   ]
  },
  {
   "cell_type": "code",
   "execution_count": 92,
   "metadata": {},
   "outputs": [
    {
     "name": "stdout",
     "output_type": "stream",
     "text": [
      "Vocabulary Size: 49636 - Embedding Dim: 100\n"
     ]
    }
   ],
   "source": [
    "print(\"Vocabulary Size: {} - Embedding Dim: {}\".format(vocab_size, embedding_size))\n"
   ]
  },
  {
   "cell_type": "code",
   "execution_count": 94,
   "metadata": {},
   "outputs": [
    {
     "data": {
      "text/plain": [
       "836"
      ]
     },
     "execution_count": 94,
     "metadata": {},
     "output_type": "execute_result"
    }
   ],
   "source": [
    "MAX_SEQUENCE_LENGTH"
   ]
  },
  {
   "cell_type": "code",
   "execution_count": 91,
   "metadata": {},
   "outputs": [
    {
     "data": {
      "text/plain": [
       "[('love', 0.5449956059455872),\n",
       " ('weird', 0.5133236646652222),\n",
       " ('hate', 0.4992471933364868),\n",
       " ('cool', 0.49104708433151245),\n",
       " ('bombastic', 0.4842549264431),\n",
       " ('crazy', 0.46580958366394043),\n",
       " ('quilty', 0.46006035804748535),\n",
       " ('fuler', 0.45846402645111084),\n",
       " ('stupid', 0.4528875946998596),\n",
       " ('blairing', 0.45263880491256714)]"
      ]
     },
     "execution_count": 91,
     "metadata": {},
     "output_type": "execute_result"
    }
   ],
   "source": [
    "w2v_model.wv.most_similar('like')\n"
   ]
  },
  {
   "cell_type": "code",
   "execution_count": 93,
   "metadata": {},
   "outputs": [
    {
     "name": "stdout",
     "output_type": "stream",
     "text": [
      "The no of key-value pairs :  49636\n"
     ]
    }
   ],
   "source": [
    "word_vec_dict={}\n",
    "for word in vocab:\n",
    "    word_vec_dict[word]=w2v_model.wv.get_vector(word)\n",
    "print(\"The no of key-value pairs : \",len(word_vec_dict)) # should come equal to vocab size\n",
    "  "
   ]
  },
  {
   "cell_type": "code",
   "execution_count": 96,
   "metadata": {},
   "outputs": [],
   "source": [
    "embed_matrix=np.zeros(shape=(vocab_size,embedding_size))"
   ]
  },
  {
   "cell_type": "code",
   "execution_count": 97,
   "metadata": {},
   "outputs": [
    {
     "data": {
      "text/plain": [
       "(49636, 100)"
      ]
     },
     "execution_count": 97,
     "metadata": {},
     "output_type": "execute_result"
    }
   ],
   "source": [
    "embed_matrix.shape"
   ]
  },
  {
   "cell_type": "code",
   "execution_count": 95,
   "metadata": {},
   "outputs": [
    {
     "ename": "IndexError",
     "evalue": "index 49636 is out of bounds for axis 0 with size 49636",
     "output_type": "error",
     "traceback": [
      "\u001b[0;31m---------------------------------------------------------------------------\u001b[0m",
      "\u001b[0;31mIndexError\u001b[0m                                Traceback (most recent call last)",
      "\u001b[0;32m<ipython-input-95-247bd378b1fa>\u001b[0m in \u001b[0;36m<module>\u001b[0;34m\u001b[0m\n\u001b[1;32m      3\u001b[0m     \u001b[0membed_vector\u001b[0m\u001b[0;34m=\u001b[0m\u001b[0mword_vec_dict\u001b[0m\u001b[0;34m.\u001b[0m\u001b[0mget\u001b[0m\u001b[0;34m(\u001b[0m\u001b[0mword\u001b[0m\u001b[0;34m)\u001b[0m\u001b[0;34m\u001b[0m\u001b[0;34m\u001b[0m\u001b[0m\n\u001b[1;32m      4\u001b[0m     \u001b[0;32mif\u001b[0m \u001b[0membed_vector\u001b[0m \u001b[0;32mis\u001b[0m \u001b[0;32mnot\u001b[0m \u001b[0;32mNone\u001b[0m\u001b[0;34m:\u001b[0m  \u001b[0;31m# word is in the vocabulary learned by the w2v model\u001b[0m\u001b[0;34m\u001b[0m\u001b[0;34m\u001b[0m\u001b[0m\n\u001b[0;32m----> 5\u001b[0;31m         \u001b[0membed_matrix\u001b[0m\u001b[0;34m[\u001b[0m\u001b[0mi\u001b[0m\u001b[0;34m]\u001b[0m\u001b[0;34m=\u001b[0m\u001b[0membed_vector\u001b[0m\u001b[0;34m\u001b[0m\u001b[0;34m\u001b[0m\u001b[0m\n\u001b[0m",
      "\u001b[0;31mIndexError\u001b[0m: index 49636 is out of bounds for axis 0 with size 49636"
     ]
    }
   ],
   "source": [
    "embed_matrix=np.zeros(shape=(vocab_size,embedding_size))\n",
    "for word,i in tokenizer.word_index.items():\n",
    "    embed_vector=word_vec_dict.get(word)\n",
    "    if embed_vector is not None:  # word is in the vocabulary learned by the w2v model\n",
    "        embed_matrix[i]=embed_vector"
   ]
  },
  {
   "cell_type": "code",
   "execution_count": null,
   "metadata": {},
   "outputs": [],
   "source": [
    "model = Sequential()\n",
    "model.add(Embedding(MAX_NB_WORDS, EMBEDDING_DIM, input_length=X.shape[1]))\n",
    "model.add(SpatialDropout1D(0.4))\n",
    "model.add(LSTM(10, dropout=0.4, recurrent_dropout=0.4))\n",
    "model.add(Dense(7, activation='softmax'))\n",
    "model.compile(loss='categorical_crossentropy', optimizer='adam', metrics=['accuracy'])\n"
   ]
  },
  {
   "cell_type": "code",
   "execution_count": 99,
   "metadata": {},
   "outputs": [
    {
     "name": "stdout",
     "output_type": "stream",
     "text": [
      "Train on 129863 samples, validate on 14430 samples\n",
      "Epoch 1/2\n",
      "129863/129863 [==============================] - 721s 6ms/step - loss: 1.6690 - accuracy: 0.3322 - val_loss: 1.4643 - val_accuracy: 0.4075\n",
      "Epoch 2/2\n",
      "129863/129863 [==============================] - 592s 5ms/step - loss: 1.5990 - accuracy: 0.3642 - val_loss: 1.4503 - val_accuracy: 0.4227\n"
     ]
    },
    {
     "data": {
      "text/plain": [
       "<keras.callbacks.callbacks.History at 0x1afd09e90>"
      ]
     },
     "execution_count": 99,
     "metadata": {},
     "output_type": "execute_result"
    }
   ],
   "source": [
    "model = Sequential()\n",
    "\n",
    "# Keras Embedding layer with Word2Vec weights initialization\n",
    "model.add(Embedding(input_dim=vocab_size,\n",
    "                    output_dim=embedding_size,\n",
    "                    weights=[w2v_weights],\n",
    "                    input_length=MAX_SEQUENCE_LENGTH,\n",
    "                    mask_zero=True,\n",
    "                    trainable=False))\n",
    "model.add(SpatialDropout1D(0.4))\n",
    "model.add(LSTM(10, dropout=0.4))\n",
    "model.add(Dense(7, activation='softmax'))\n",
    "\n",
    "model.compile(loss='categorical_crossentropy', optimizer='adam', metrics=['accuracy'])\n",
    "\n",
    "model.fit(X, Y,\n",
    "          epochs=epochs,\n",
    "          batch_size=batch_size,\n",
    "          validation_split=0.1,\n",
    "          callbacks=[ModelCheckpoint('best_model.h5', save_best_only = True)])\n"
   ]
  },
  {
   "cell_type": "code",
   "execution_count": null,
   "metadata": {},
   "outputs": [],
   "source": []
  }
 ],
 "metadata": {
  "kernelspec": {
   "display_name": "Python 3",
   "language": "python",
   "name": "python3"
  },
  "language_info": {
   "codemirror_mode": {
    "name": "ipython",
    "version": 3
   },
   "file_extension": ".py",
   "mimetype": "text/x-python",
   "name": "python",
   "nbconvert_exporter": "python",
   "pygments_lexer": "ipython3",
   "version": "3.7.4"
  }
 },
 "nbformat": 4,
 "nbformat_minor": 4
}
