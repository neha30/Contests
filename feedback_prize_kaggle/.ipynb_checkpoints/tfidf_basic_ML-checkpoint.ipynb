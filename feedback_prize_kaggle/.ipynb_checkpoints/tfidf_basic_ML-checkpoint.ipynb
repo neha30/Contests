{
 "cells": [
  {
   "cell_type": "code",
   "execution_count": 1,
   "metadata": {},
   "outputs": [],
   "source": [
    "import pandas as pd\n",
    "import numpy as np\n",
    "import re\n",
    "import os\n",
    "import matplotlib.pyplot as plt\n",
    "import seaborn as sns\n",
    "\n",
    "from sklearn.feature_extraction.text import TfidfVectorizer\n",
    "from sklearn.model_selection import KFold\n",
    "from sklearn.ensemble import RandomForestClassifier\n",
    "from sklearn.model_selection import cross_val_score\n",
    "\n",
    "from nltk.corpus import stopwords\n",
    "from nltk.stem import SnowballStemmer\n",
    "from string import punctuation\n",
    "from nltk.stem.wordnet import WordNetLemmatizer\n",
    "from tqdm import tqdm\n",
    "\n",
    "%matplotlib inline"
   ]
  },
  {
   "cell_type": "markdown",
   "metadata": {},
   "source": [
    "## Understand the features"
   ]
  },
  {
   "cell_type": "code",
   "execution_count": 2,
   "metadata": {},
   "outputs": [
    {
     "data": {
      "text/plain": [
       "(144293, 8)"
      ]
     },
     "execution_count": 2,
     "metadata": {},
     "output_type": "execute_result"
    }
   ],
   "source": [
    "train = pd.read_csv('../../data/feedback-prize-2021/train.csv')\n",
    "train.shape"
   ]
  },
  {
   "cell_type": "code",
   "execution_count": 3,
   "metadata": {},
   "outputs": [
    {
     "data": {
      "text/html": [
       "<div>\n",
       "<style scoped>\n",
       "    .dataframe tbody tr th:only-of-type {\n",
       "        vertical-align: middle;\n",
       "    }\n",
       "\n",
       "    .dataframe tbody tr th {\n",
       "        vertical-align: top;\n",
       "    }\n",
       "\n",
       "    .dataframe thead th {\n",
       "        text-align: right;\n",
       "    }\n",
       "</style>\n",
       "<table border=\"1\" class=\"dataframe\">\n",
       "  <thead>\n",
       "    <tr style=\"text-align: right;\">\n",
       "      <th></th>\n",
       "      <th>id</th>\n",
       "      <th>discourse_id</th>\n",
       "      <th>discourse_start</th>\n",
       "      <th>discourse_end</th>\n",
       "      <th>discourse_text</th>\n",
       "      <th>discourse_type</th>\n",
       "      <th>discourse_type_num</th>\n",
       "      <th>predictionstring</th>\n",
       "    </tr>\n",
       "  </thead>\n",
       "  <tbody>\n",
       "    <tr>\n",
       "      <th>0</th>\n",
       "      <td>423A1CA112E2</td>\n",
       "      <td>1.622628e+12</td>\n",
       "      <td>8.0</td>\n",
       "      <td>229.0</td>\n",
       "      <td>Modern humans today are always on their phone....</td>\n",
       "      <td>Lead</td>\n",
       "      <td>Lead 1</td>\n",
       "      <td>1 2 3 4 5 6 7 8 9 10 11 12 13 14 15 16 17 18 1...</td>\n",
       "    </tr>\n",
       "    <tr>\n",
       "      <th>1</th>\n",
       "      <td>423A1CA112E2</td>\n",
       "      <td>1.622628e+12</td>\n",
       "      <td>230.0</td>\n",
       "      <td>312.0</td>\n",
       "      <td>They are some really bad consequences when stu...</td>\n",
       "      <td>Position</td>\n",
       "      <td>Position 1</td>\n",
       "      <td>45 46 47 48 49 50 51 52 53 54 55 56 57 58 59</td>\n",
       "    </tr>\n",
       "    <tr>\n",
       "      <th>2</th>\n",
       "      <td>423A1CA112E2</td>\n",
       "      <td>1.622628e+12</td>\n",
       "      <td>313.0</td>\n",
       "      <td>401.0</td>\n",
       "      <td>Some certain areas in the United States ban ph...</td>\n",
       "      <td>Evidence</td>\n",
       "      <td>Evidence 1</td>\n",
       "      <td>60 61 62 63 64 65 66 67 68 69 70 71 72 73 74 75</td>\n",
       "    </tr>\n",
       "    <tr>\n",
       "      <th>3</th>\n",
       "      <td>423A1CA112E2</td>\n",
       "      <td>1.622628e+12</td>\n",
       "      <td>402.0</td>\n",
       "      <td>758.0</td>\n",
       "      <td>When people have phones, they know about certa...</td>\n",
       "      <td>Evidence</td>\n",
       "      <td>Evidence 2</td>\n",
       "      <td>76 77 78 79 80 81 82 83 84 85 86 87 88 89 90 9...</td>\n",
       "    </tr>\n",
       "    <tr>\n",
       "      <th>4</th>\n",
       "      <td>423A1CA112E2</td>\n",
       "      <td>1.622628e+12</td>\n",
       "      <td>759.0</td>\n",
       "      <td>886.0</td>\n",
       "      <td>Driving is one of the way how to get around. P...</td>\n",
       "      <td>Claim</td>\n",
       "      <td>Claim 1</td>\n",
       "      <td>139 140 141 142 143 144 145 146 147 148 149 15...</td>\n",
       "    </tr>\n",
       "  </tbody>\n",
       "</table>\n",
       "</div>"
      ],
      "text/plain": [
       "             id  discourse_id  discourse_start  discourse_end  \\\n",
       "0  423A1CA112E2  1.622628e+12              8.0          229.0   \n",
       "1  423A1CA112E2  1.622628e+12            230.0          312.0   \n",
       "2  423A1CA112E2  1.622628e+12            313.0          401.0   \n",
       "3  423A1CA112E2  1.622628e+12            402.0          758.0   \n",
       "4  423A1CA112E2  1.622628e+12            759.0          886.0   \n",
       "\n",
       "                                      discourse_text discourse_type  \\\n",
       "0  Modern humans today are always on their phone....           Lead   \n",
       "1  They are some really bad consequences when stu...       Position   \n",
       "2  Some certain areas in the United States ban ph...       Evidence   \n",
       "3  When people have phones, they know about certa...       Evidence   \n",
       "4  Driving is one of the way how to get around. P...          Claim   \n",
       "\n",
       "  discourse_type_num                                   predictionstring  \n",
       "0             Lead 1  1 2 3 4 5 6 7 8 9 10 11 12 13 14 15 16 17 18 1...  \n",
       "1         Position 1       45 46 47 48 49 50 51 52 53 54 55 56 57 58 59  \n",
       "2         Evidence 1    60 61 62 63 64 65 66 67 68 69 70 71 72 73 74 75  \n",
       "3         Evidence 2  76 77 78 79 80 81 82 83 84 85 86 87 88 89 90 9...  \n",
       "4            Claim 1  139 140 141 142 143 144 145 146 147 148 149 15...  "
      ]
     },
     "execution_count": 3,
     "metadata": {},
     "output_type": "execute_result"
    }
   ],
   "source": [
    "train.head()"
   ]
  },
  {
   "cell_type": "code",
   "execution_count": 4,
   "metadata": {},
   "outputs": [
    {
     "data": {
      "text/plain": [
       "<matplotlib.axes._subplots.AxesSubplot at 0x16af5a550>"
      ]
     },
     "execution_count": 4,
     "metadata": {},
     "output_type": "execute_result"
    },
    {
     "data": {
      "image/png": "[encoded data removed]",
      "text/plain": [
       "<Figure size 864x576 with 1 Axes>"
      ]
     },
     "metadata": {
      "needs_background": "light"
     },
     "output_type": "display_data"
    }
   ],
   "source": [
    "plt.figure(figsize=(12,8))\n",
    "sns.countplot(x='discourse_type', data=train)"
   ]
  },
  {
   "cell_type": "code",
   "execution_count": 5,
   "metadata": {},
   "outputs": [
    {
     "data": {
      "text/plain": [
       "15594"
      ]
     },
     "execution_count": 5,
     "metadata": {},
     "output_type": "execute_result"
    }
   ],
   "source": [
    "train_dir = \"../../data/feedback-prize-2021/train\"\n",
    "len(os.listdir(train_dir))"
   ]
  },
  {
   "cell_type": "code",
   "execution_count": 6,
   "metadata": {},
   "outputs": [
    {
     "data": {
      "text/plain": [
       "(144293, 8)"
      ]
     },
     "execution_count": 6,
     "metadata": {},
     "output_type": "execute_result"
    }
   ],
   "source": [
    "train.shape"
   ]
  },
  {
   "cell_type": "code",
   "execution_count": 7,
   "metadata": {},
   "outputs": [
    {
     "data": {
      "text/html": [
       "<div>\n",
       "<style scoped>\n",
       "    .dataframe tbody tr th:only-of-type {\n",
       "        vertical-align: middle;\n",
       "    }\n",
       "\n",
       "    .dataframe tbody tr th {\n",
       "        vertical-align: top;\n",
       "    }\n",
       "\n",
       "    .dataframe thead th {\n",
       "        text-align: right;\n",
       "    }\n",
       "</style>\n",
       "<table border=\"1\" class=\"dataframe\">\n",
       "  <thead>\n",
       "    <tr style=\"text-align: right;\">\n",
       "      <th></th>\n",
       "      <th>id</th>\n",
       "      <th>discourse_id</th>\n",
       "      <th>discourse_start</th>\n",
       "      <th>discourse_end</th>\n",
       "      <th>discourse_text</th>\n",
       "      <th>discourse_type</th>\n",
       "      <th>discourse_type_num</th>\n",
       "      <th>predictionstring</th>\n",
       "    </tr>\n",
       "  </thead>\n",
       "  <tbody>\n",
       "    <tr>\n",
       "      <th>0</th>\n",
       "      <td>423A1CA112E2</td>\n",
       "      <td>1.622628e+12</td>\n",
       "      <td>8.0</td>\n",
       "      <td>229.0</td>\n",
       "      <td>Modern humans today are always on their phone....</td>\n",
       "      <td>Lead</td>\n",
       "      <td>Lead 1</td>\n",
       "      <td>1 2 3 4 5 6 7 8 9 10 11 12 13 14 15 16 17 18 1...</td>\n",
       "    </tr>\n",
       "    <tr>\n",
       "      <th>1</th>\n",
       "      <td>423A1CA112E2</td>\n",
       "      <td>1.622628e+12</td>\n",
       "      <td>230.0</td>\n",
       "      <td>312.0</td>\n",
       "      <td>They are some really bad consequences when stu...</td>\n",
       "      <td>Position</td>\n",
       "      <td>Position 1</td>\n",
       "      <td>45 46 47 48 49 50 51 52 53 54 55 56 57 58 59</td>\n",
       "    </tr>\n",
       "    <tr>\n",
       "      <th>2</th>\n",
       "      <td>423A1CA112E2</td>\n",
       "      <td>1.622628e+12</td>\n",
       "      <td>313.0</td>\n",
       "      <td>401.0</td>\n",
       "      <td>Some certain areas in the United States ban ph...</td>\n",
       "      <td>Evidence</td>\n",
       "      <td>Evidence 1</td>\n",
       "      <td>60 61 62 63 64 65 66 67 68 69 70 71 72 73 74 75</td>\n",
       "    </tr>\n",
       "    <tr>\n",
       "      <th>3</th>\n",
       "      <td>423A1CA112E2</td>\n",
       "      <td>1.622628e+12</td>\n",
       "      <td>402.0</td>\n",
       "      <td>758.0</td>\n",
       "      <td>When people have phones, they know about certa...</td>\n",
       "      <td>Evidence</td>\n",
       "      <td>Evidence 2</td>\n",
       "      <td>76 77 78 79 80 81 82 83 84 85 86 87 88 89 90 9...</td>\n",
       "    </tr>\n",
       "    <tr>\n",
       "      <th>4</th>\n",
       "      <td>423A1CA112E2</td>\n",
       "      <td>1.622628e+12</td>\n",
       "      <td>759.0</td>\n",
       "      <td>886.0</td>\n",
       "      <td>Driving is one of the way how to get around. P...</td>\n",
       "      <td>Claim</td>\n",
       "      <td>Claim 1</td>\n",
       "      <td>139 140 141 142 143 144 145 146 147 148 149 15...</td>\n",
       "    </tr>\n",
       "  </tbody>\n",
       "</table>\n",
       "</div>"
      ],
      "text/plain": [
       "             id  discourse_id  discourse_start  discourse_end  \\\n",
       "0  423A1CA112E2  1.622628e+12              8.0          229.0   \n",
       "1  423A1CA112E2  1.622628e+12            230.0          312.0   \n",
       "2  423A1CA112E2  1.622628e+12            313.0          401.0   \n",
       "3  423A1CA112E2  1.622628e+12            402.0          758.0   \n",
       "4  423A1CA112E2  1.622628e+12            759.0          886.0   \n",
       "\n",
       "                                      discourse_text discourse_type  \\\n",
       "0  Modern humans today are always on their phone....           Lead   \n",
       "1  They are some really bad consequences when stu...       Position   \n",
       "2  Some certain areas in the United States ban ph...       Evidence   \n",
       "3  When people have phones, they know about certa...       Evidence   \n",
       "4  Driving is one of the way how to get around. P...          Claim   \n",
       "\n",
       "  discourse_type_num                                   predictionstring  \n",
       "0             Lead 1  1 2 3 4 5 6 7 8 9 10 11 12 13 14 15 16 17 18 1...  \n",
       "1         Position 1       45 46 47 48 49 50 51 52 53 54 55 56 57 58 59  \n",
       "2         Evidence 1    60 61 62 63 64 65 66 67 68 69 70 71 72 73 74 75  \n",
       "3         Evidence 2  76 77 78 79 80 81 82 83 84 85 86 87 88 89 90 9...  \n",
       "4            Claim 1  139 140 141 142 143 144 145 146 147 148 149 15...  "
      ]
     },
     "execution_count": 7,
     "metadata": {},
     "output_type": "execute_result"
    }
   ],
   "source": [
    "train.head()"
   ]
  },
  {
   "cell_type": "code",
   "execution_count": 9,
   "metadata": {},
   "outputs": [
    {
     "data": {
      "text/plain": [
       "'Modern humans today are always on their phone. They are always on their phone more than 5 hours a day no stop .All they do is text back and forward and just have group Chats on social media. They even do it while driving.'"
      ]
     },
     "execution_count": 9,
     "metadata": {},
     "output_type": "execute_result"
    }
   ],
   "source": [
    "train.iloc[0]['discourse_text']"
   ]
  },
  {
   "cell_type": "code",
   "execution_count": 13,
   "metadata": {},
   "outputs": [
    {
     "ename": "IndexError",
     "evalue": "string index out of range",
     "output_type": "error",
     "traceback": [
      "\u001b[0;31m---------------------------------------------------------------------------\u001b[0m",
      "\u001b[0;31mIndexError\u001b[0m                                Traceback (most recent call last)",
      "\u001b[0;32m<ipython-input-13-5a49220d2f70>\u001b[0m in \u001b[0;36m<module>\u001b[0;34m\u001b[0m\n\u001b[0;32m----> 1\u001b[0;31m \u001b[0mstr\u001b[0m\u001b[0;34m(\u001b[0m\u001b[0mtrain\u001b[0m\u001b[0;34m.\u001b[0m\u001b[0miloc\u001b[0m\u001b[0;34m[\u001b[0m\u001b[0;36m0\u001b[0m\u001b[0;34m]\u001b[0m\u001b[0;34m[\u001b[0m\u001b[0;34m'discourse_start'\u001b[0m\u001b[0;34m]\u001b[0m\u001b[0;34m)\u001b[0m\u001b[0;34m[\u001b[0m\u001b[0;36m8\u001b[0m\u001b[0;34m]\u001b[0m\u001b[0;34m\u001b[0m\u001b[0;34m\u001b[0m\u001b[0m\n\u001b[0m",
      "\u001b[0;31mIndexError\u001b[0m: string index out of range"
     ]
    }
   ],
   "source": [
    "str(train.iloc[0]['discourse_start'])[8]"
   ]
  },
  {
   "cell_type": "code",
   "execution_count": 10,
   "metadata": {},
   "outputs": [
    {
     "data": {
      "text/plain": [
       "8.0"
      ]
     },
     "execution_count": 10,
     "metadata": {},
     "output_type": "execute_result"
    }
   ],
   "source": [
    "train.iloc[0]['discourse_start']"
   ]
  },
  {
   "cell_type": "code",
   "execution_count": 6,
   "metadata": {},
   "outputs": [],
   "source": [
    "def generate_test_df():\n",
    "    test_dir = \"../../data/feedback-prize-2021/test\"\n",
    "    test_files = os.listdir(test_dir)\n",
    "    \n",
    "    test_names = []\n",
    "    test_texts = []\n",
    "    for f in os.listdir(test_dir):\n",
    "        print(f)\n",
    "        test_names.append(f.replace('.txt', ''))\n",
    "        test_texts.append(open(test_dir+'/'+f, 'r').read())\n",
    "        \n",
    "    test_texts = pd.DataFrame({'id':test_names, 'text':test_texts})\n",
    "    \n",
    "    discourse_id = []\n",
    "    discourse_text = []\n",
    "    discourse_start =[] \n",
    "    discourse_end = []\n",
    "    predictionstring = []\n",
    "    for text in range(len(test_texts.text)):\n",
    "        doc = test_texts.text[text]\n",
    "        paras = re.split(r'[.]\\n',doc)\n",
    "        start = 0\n",
    "        for para in paras:\n",
    "            positions = re.findall(r'\\w+[.]', para)\n",
    "            if len(positions) <=2 :\n",
    "                txts = re.split(r'[.]\\s',para)\n",
    "                for i in txts:\n",
    "                    discourse_text.append(i)\n",
    "                    length = len(i.split())\n",
    "                    end = start + length\n",
    "                    l = list(range(start+1,end+1 ))\n",
    "                    l = [str(j) for j in l]\n",
    "                    l = ' '.join(l)\n",
    "                    predictionstring.append(l)\n",
    "                    discourse_start.append(start+1)\n",
    "                    discourse_end.append(end)\n",
    "                    discourse_id.append(test_texts.id[text])\n",
    "                    start += length\n",
    "\n",
    "            else: \n",
    "                if len(positions)%2 == 0:\n",
    "                    split_pos = int(len(positions)/2)\n",
    "                    split_word = positions[split_pos]\n",
    "                else :\n",
    "                    split_pos = int((len(positions)+1)/2)\n",
    "                    split_word = positions[split_pos]\n",
    "\n",
    "                words = para.split(' ')\n",
    "                position = words.index(split_word)\n",
    "                part1 = words[:position]\n",
    "                part2 = words[position:]\n",
    "                part1 = ' '.join(part1)\n",
    "                part2 = ' '.join(part2)\n",
    "                parts = [part1 ,part2]\n",
    "                for i in parts:\n",
    "                    discourse_text.append(i)\n",
    "                    length = len(i.split())\n",
    "                    end = start + length\n",
    "                    l = list(range(start+1,end+1 ))\n",
    "                    l = [str(k) for k in l]\n",
    "                    l = ' '.join(l)\n",
    "                    predictionstring.append(l)\n",
    "                    discourse_start.append(start+1)\n",
    "                    discourse_end.append(end)\n",
    "                    discourse_id.append(test_texts.id[text])\n",
    "                    start += length\n",
    "\n",
    "    testing_data =pd.DataFrame() \n",
    "    testing_data['discourse_id'] =discourse_id\n",
    "    testing_data['discourse_text'] = discourse_text\n",
    "    testing_data['discourse_start'] = discourse_start\n",
    "    testing_data['discourse_end'] = discourse_end\n",
    "    testing_data['predictionstring'] = predictionstring\n",
    "    return testing_data\n"
   ]
  },
  {
   "cell_type": "code",
   "execution_count": 9,
   "metadata": {},
   "outputs": [
    {
     "name": "stdout",
     "output_type": "stream",
     "text": [
      "DF920E0A7337.txt\n",
      "0FB0700DAF44.txt\n",
      "D46BCB48440A.txt\n",
      "18409261F5C2.txt\n",
      "D72CB1C11673.txt\n"
     ]
    },
    {
     "data": {
      "text/html": [
       "<div>\n",
       "<style scoped>\n",
       "    .dataframe tbody tr th:only-of-type {\n",
       "        vertical-align: middle;\n",
       "    }\n",
       "\n",
       "    .dataframe tbody tr th {\n",
       "        vertical-align: top;\n",
       "    }\n",
       "\n",
       "    .dataframe thead th {\n",
       "        text-align: right;\n",
       "    }\n",
       "</style>\n",
       "<table border=\"1\" class=\"dataframe\">\n",
       "  <thead>\n",
       "    <tr style=\"text-align: right;\">\n",
       "      <th></th>\n",
       "      <th>discourse_id</th>\n",
       "      <th>discourse_text</th>\n",
       "      <th>discourse_start</th>\n",
       "      <th>discourse_end</th>\n",
       "      <th>predictionstring</th>\n",
       "    </tr>\n",
       "  </thead>\n",
       "  <tbody>\n",
       "    <tr>\n",
       "      <th>0</th>\n",
       "      <td>DF920E0A7337</td>\n",
       "      <td>Have you ever asked more than one person for h...</td>\n",
       "      <td>1</td>\n",
       "      <td>42</td>\n",
       "      <td>1 2 3 4 5 6 7 8 9 10 11 12 13 14 15 16 17 18 1...</td>\n",
       "    </tr>\n",
       "    <tr>\n",
       "      <th>1</th>\n",
       "      <td>DF920E0A7337</td>\n",
       "      <td>well. There are a lot of people that can help ...</td>\n",
       "      <td>43</td>\n",
       "      <td>108</td>\n",
       "      <td>43 44 45 46 47 48 49 50 51 52 53 54 55 56 57 5...</td>\n",
       "    </tr>\n",
       "    <tr>\n",
       "      <th>2</th>\n",
       "      <td>DF920E0A7337</td>\n",
       "      <td>\\nFirst, I think it shows you more than one op...</td>\n",
       "      <td>109</td>\n",
       "      <td>219</td>\n",
       "      <td>109 110 111 112 113 114 115 116 117 118 119 12...</td>\n",
       "    </tr>\n",
       "    <tr>\n",
       "      <th>3</th>\n",
       "      <td>DF920E0A7337</td>\n",
       "      <td>choice. One opinion could be someone who isn't...</td>\n",
       "      <td>220</td>\n",
       "      <td>301</td>\n",
       "      <td>220 221 222 223 224 225 226 227 228 229 230 23...</td>\n",
       "    </tr>\n",
       "    <tr>\n",
       "      <th>4</th>\n",
       "      <td>DF920E0A7337</td>\n",
       "      <td>\\nNext, it can change your perspective on the ...</td>\n",
       "      <td>302</td>\n",
       "      <td>404</td>\n",
       "      <td>302 303 304 305 306 307 308 309 310 311 312 31...</td>\n",
       "    </tr>\n",
       "  </tbody>\n",
       "</table>\n",
       "</div>"
      ],
      "text/plain": [
       "   discourse_id                                     discourse_text  \\\n",
       "0  DF920E0A7337  Have you ever asked more than one person for h...   \n",
       "1  DF920E0A7337  well. There are a lot of people that can help ...   \n",
       "2  DF920E0A7337  \\nFirst, I think it shows you more than one op...   \n",
       "3  DF920E0A7337  choice. One opinion could be someone who isn't...   \n",
       "4  DF920E0A7337  \\nNext, it can change your perspective on the ...   \n",
       "\n",
       "   discourse_start  discourse_end  \\\n",
       "0                1             42   \n",
       "1               43            108   \n",
       "2              109            219   \n",
       "3              220            301   \n",
       "4              302            404   \n",
       "\n",
       "                                    predictionstring  \n",
       "0  1 2 3 4 5 6 7 8 9 10 11 12 13 14 15 16 17 18 1...  \n",
       "1  43 44 45 46 47 48 49 50 51 52 53 54 55 56 57 5...  \n",
       "2  109 110 111 112 113 114 115 116 117 118 119 12...  \n",
       "3  220 221 222 223 224 225 226 227 228 229 230 23...  \n",
       "4  302 303 304 305 306 307 308 309 310 311 312 31...  "
      ]
     },
     "execution_count": 9,
     "metadata": {},
     "output_type": "execute_result"
    }
   ],
   "source": [
    "test = generate_test_df()\n",
    "test.head()"
   ]
  },
  {
   "cell_type": "code",
   "execution_count": 10,
   "metadata": {},
   "outputs": [],
   "source": [
    "df = train.append(test)"
   ]
  },
  {
   "cell_type": "markdown",
   "metadata": {},
   "source": [
    "## Preprocessing"
   ]
  },
  {
   "cell_type": "code",
   "execution_count": 11,
   "metadata": {},
   "outputs": [],
   "source": [
    "def clean_text(text, remove_stopwords=True, stem_words=False, lemma=True):\n",
    "    text = str(text).lower().split()\n",
    "    \n",
    "    if remove_stopwords:\n",
    "        stops = stopwords.words(\"english\")\n",
    "        text = [x for x in text if not x in stops]\n",
    "        \n",
    "    text = ' '.join(text)\n",
    "    \n",
    "    text = re.sub(r\"[-()\\\"#/<>!@&;*:<>{}`'+=~%|.!?,_]\", \" \", text)\n",
    "    text = re.sub(r\"\\]\", \" \", text)\n",
    "    text = re.sub(r\"\\[\", \" \", text)\n",
    "    text = re.sub(r\"\\/\", \" \", text)\n",
    "    text = re.sub(r\"\\\\\", \" \", text)\n",
    "    text = re.sub(r\"\\'ve\", \" have \", text)\n",
    "    text = re.sub(r\"can't\", \"cannot \", text)\n",
    "    text = re.sub(r\"n't\", \" not \", text)\n",
    "    text = re.sub(r\"\\'re\", \" are \", text)\n",
    "    text = re.sub(r\"\\'d\", \" would \", text)\n",
    "    text = re.sub(r\"\\'ll\", \" will \", text)\n",
    "    text = re.sub(r\"  \", \" \", text)\n",
    "    text = re.sub(r\"   \", \" \", text)\n",
    "    text = re.sub(r\"   \", \" \", text)\n",
    "    text = re.sub(r\"0x00\", \"\", text)\n",
    "    \n",
    "    if stem_words:\n",
    "        text = text.split()\n",
    "        stemmer = SnowballStemmer('english')\n",
    "        stem_words = [stemmer.stem(x) for x in text]\n",
    "        text = \" \".join(text)\n",
    "        \n",
    "    if lemma:\n",
    "        text = text.split()\n",
    "        lem = WordNetLemmatizer()\n",
    "        lemmatized = [lem.lemmatize(x, \"v\") for x in text]\n",
    "        text = \" \".join(text)\n",
    "        \n",
    "    return text"
   ]
  },
  {
   "cell_type": "code",
   "execution_count": 12,
   "metadata": {},
   "outputs": [
    {
     "name": "stdout",
     "output_type": "stream",
     "text": [
      "CPU times: user 42.6 s, sys: 3.8 s, total: 46.4 s\n",
      "Wall time: 46.4 s\n"
     ]
    }
   ],
   "source": [
    "%%time\n",
    "df['cleaned_text'] = df.discourse_text.apply(clean_text)"
   ]
  },
  {
   "cell_type": "code",
   "execution_count": 13,
   "metadata": {},
   "outputs": [
    {
     "data": {
      "text/plain": [
       "'Modern humans today are always on their phone. They are always on their phone more than 5 hours a day no stop .All they do is text back and forward and just have group Chats on social media. They even do it while driving.'"
      ]
     },
     "execution_count": 13,
     "metadata": {},
     "output_type": "execute_result"
    }
   ],
   "source": [
    "df.iloc[0]['discourse_text']"
   ]
  },
  {
   "cell_type": "code",
   "execution_count": 14,
   "metadata": {},
   "outputs": [
    {
     "data": {
      "text/plain": [
       "'modern humans today always phone always phone 5 hours day stop all text back forward group chats social media even driving'"
      ]
     },
     "execution_count": 14,
     "metadata": {},
     "output_type": "execute_result"
    }
   ],
   "source": [
    "df.iloc[0]['cleaned_text']"
   ]
  },
  {
   "cell_type": "markdown",
   "metadata": {},
   "source": [
    "## TFIDF Vectorizer"
   ]
  },
  {
   "cell_type": "code",
   "execution_count": 15,
   "metadata": {},
   "outputs": [
    {
     "data": {
      "text/plain": [
       "TfidfVectorizer(analyzer='word', binary=False, decode_error='strict',\n",
       "                dtype=<class 'numpy.float64'>, encoding='utf-8',\n",
       "                input='content', lowercase=True, max_df=1.0, max_features=1000,\n",
       "                min_df=1, ngram_range=(1, 1), norm='l2', preprocessor=None,\n",
       "                smooth_idf=True, stop_words=None, strip_accents=None,\n",
       "                sublinear_tf=False, token_pattern='\\\\w{1,}', tokenizer=None,\n",
       "                use_idf=True, vocabulary=None)"
      ]
     },
     "execution_count": 15,
     "metadata": {},
     "output_type": "execute_result"
    }
   ],
   "source": [
    "tfidf_vect = TfidfVectorizer(analyzer='word', token_pattern=r'\\w{1,}', max_features=1000)\n",
    "tfidf_vect.fit(df['cleaned_text'])"
   ]
  },
  {
   "cell_type": "code",
   "execution_count": 18,
   "metadata": {},
   "outputs": [
    {
     "data": {
      "text/plain": [
       "(55, 5)"
      ]
     },
     "execution_count": 18,
     "metadata": {},
     "output_type": "execute_result"
    }
   ],
   "source": [
    "test.shape"
   ]
  },
  {
   "cell_type": "code",
   "execution_count": 19,
   "metadata": {},
   "outputs": [
    {
     "data": {
      "text/plain": [
       "(55, 9)"
      ]
     },
     "execution_count": 19,
     "metadata": {},
     "output_type": "execute_result"
    }
   ],
   "source": [
    "df[train.shape[0]:].shape"
   ]
  },
  {
   "cell_type": "code",
   "execution_count": 34,
   "metadata": {},
   "outputs": [],
   "source": [
    "train_tfidf = tfidf_vect.fit_transform(df[:train.shape[0]]['cleaned_text'])\n",
    "test_tfidf = tfidf_vect.transform(df[train.shape[0]:]['cleaned_text'])\n"
   ]
  },
  {
   "cell_type": "code",
   "execution_count": 25,
   "metadata": {
    "scrolled": true
   },
   "outputs": [
    {
     "data": {
      "text/plain": [
       "['65',\n",
       " '80',\n",
       " 'ability',\n",
       " 'able',\n",
       " 'account',\n",
       " 'achievement',\n",
       " 'action',\n",
       " 'addicting',\n",
       " 'adding',\n",
       " 'addition',\n",
       " 'admired',\n",
       " 'adressed',\n",
       " 'adult',\n",
       " 'advertisements',\n",
       " 'advice',\n",
       " 'advised',\n",
       " 'advises',\n",
       " 'affect',\n",
       " 'age',\n",
       " 'agree',\n",
       " 'agreed',\n",
       " 'agreement',\n",
       " 'aim',\n",
       " 'aimed',\n",
       " 'all',\n",
       " 'allow',\n",
       " 'allows',\n",
       " 'already',\n",
       " 'also',\n",
       " 'although',\n",
       " 'always',\n",
       " 'amazing',\n",
       " 'americans',\n",
       " 'ancient',\n",
       " 'anecdote',\n",
       " 'animal',\n",
       " 'another',\n",
       " 'answer',\n",
       " 'answers',\n",
       " 'anything',\n",
       " 'apart',\n",
       " 'applause',\n",
       " 'approach',\n",
       " 'area',\n",
       " 'around',\n",
       " 'artist',\n",
       " 'ask',\n",
       " 'asked',\n",
       " 'asking',\n",
       " 'asks',\n",
       " 'audience',\n",
       " 'audiences',\n",
       " 'available',\n",
       " 'average',\n",
       " 'backgrounds',\n",
       " 'bad',\n",
       " 'balance',\n",
       " 'balances',\n",
       " 'based',\n",
       " 'battlefield',\n",
       " 'became',\n",
       " 'become',\n",
       " 'becomes',\n",
       " 'becoming',\n",
       " 'before',\n",
       " 'begin',\n",
       " 'beliefs',\n",
       " 'believe',\n",
       " 'beneficial',\n",
       " 'benefited',\n",
       " 'benifit',\n",
       " 'best',\n",
       " 'bet',\n",
       " 'better',\n",
       " 'biologist',\n",
       " 'birthday',\n",
       " 'block',\n",
       " 'bloom',\n",
       " 'board',\n",
       " 'bond',\n",
       " 'brain',\n",
       " 'but',\n",
       " 'buy',\n",
       " 'cadidates',\n",
       " 'called',\n",
       " 'campaign',\n",
       " 'can',\n",
       " 'candidate',\n",
       " 'career',\n",
       " 'cause',\n",
       " 'certain',\n",
       " 'chance',\n",
       " 'change',\n",
       " 'changed',\n",
       " 'changes',\n",
       " 'changing',\n",
       " 'channel',\n",
       " 'cheering',\n",
       " 'child',\n",
       " 'choice',\n",
       " 'choices',\n",
       " 'choosing',\n",
       " 'chose',\n",
       " 'classmates',\n",
       " 'cloning',\n",
       " 'come',\n",
       " 'compared',\n",
       " 'comparing',\n",
       " 'competitions',\n",
       " 'conclusion',\n",
       " 'conclusively',\n",
       " 'confident',\n",
       " 'connections',\n",
       " 'cons',\n",
       " 'consequences',\n",
       " 'consider',\n",
       " 'considered',\n",
       " 'correct',\n",
       " 'could',\n",
       " 'counterparts',\n",
       " 'countless',\n",
       " 'country',\n",
       " 'crowd',\n",
       " 'crowds',\n",
       " 'culture',\n",
       " 'cut',\n",
       " 'damage',\n",
       " 'dangerous',\n",
       " 'darkest',\n",
       " 'day',\n",
       " 'decide',\n",
       " 'decision',\n",
       " 'decisions',\n",
       " 'decrease',\n",
       " 'deliberate',\n",
       " 'depths',\n",
       " 'designer',\n",
       " 'despairing',\n",
       " 'destroy',\n",
       " 'determing',\n",
       " 'device',\n",
       " 'didnt',\n",
       " 'different',\n",
       " 'differently',\n",
       " 'difficult',\n",
       " 'direction',\n",
       " 'discussed',\n",
       " 'diverse',\n",
       " 'do',\n",
       " 'doctor',\n",
       " 'doctors',\n",
       " 'doing',\n",
       " 'done',\n",
       " 'dopomine',\n",
       " 'downing',\n",
       " 'dragon',\n",
       " 'dreamed',\n",
       " 'drug',\n",
       " 'drugs',\n",
       " 'easier',\n",
       " 'eat',\n",
       " 'eaten',\n",
       " 'eating',\n",
       " 'educated',\n",
       " 'education',\n",
       " 'effect',\n",
       " 'effort',\n",
       " 'election',\n",
       " 'elections',\n",
       " 'else',\n",
       " 'encounter',\n",
       " 'enjoy',\n",
       " 'enjoyed',\n",
       " 'entertains',\n",
       " 'entire',\n",
       " 'environment',\n",
       " 'especially',\n",
       " 'essential',\n",
       " 'esteem',\n",
       " 'even',\n",
       " 'ever',\n",
       " 'every',\n",
       " 'everyone',\n",
       " 'everything',\n",
       " 'evidently',\n",
       " 'evil',\n",
       " 'example',\n",
       " 'except',\n",
       " 'excite',\n",
       " 'experience',\n",
       " 'experienced',\n",
       " 'experiences',\n",
       " 'fable',\n",
       " 'fallen',\n",
       " 'family',\n",
       " 'fantasies',\n",
       " 'fantasizes',\n",
       " 'far',\n",
       " 'faring',\n",
       " 'fashion',\n",
       " 'fate',\n",
       " 'fateful',\n",
       " 'father',\n",
       " 'favorite',\n",
       " 'feel',\n",
       " 'fellow',\n",
       " 'felt',\n",
       " 'figures',\n",
       " 'finally',\n",
       " 'find',\n",
       " 'finding',\n",
       " 'firm',\n",
       " 'first',\n",
       " 'follow',\n",
       " 'food',\n",
       " 'forced',\n",
       " 'foremost',\n",
       " 'forever',\n",
       " 'fought',\n",
       " 'fountains',\n",
       " 'friend',\n",
       " 'friends',\n",
       " 'fro',\n",
       " 'from',\n",
       " 'fulfill',\n",
       " 'fun',\n",
       " 'furthermore',\n",
       " 'future',\n",
       " 'gain',\n",
       " 'gave',\n",
       " 'general',\n",
       " 'generation',\n",
       " 'generic',\n",
       " 'get',\n",
       " 'getting',\n",
       " 'give',\n",
       " 'given',\n",
       " 'gives',\n",
       " 'giving',\n",
       " 'go',\n",
       " 'goal',\n",
       " 'goals',\n",
       " 'going',\n",
       " 'good',\n",
       " 'gorgon',\n",
       " 'got',\n",
       " 'grandfather',\n",
       " 'grandmother',\n",
       " 'great',\n",
       " 'greatest',\n",
       " 'grew',\n",
       " 'group',\n",
       " 'grow',\n",
       " 'grown',\n",
       " 'hand',\n",
       " 'happen',\n",
       " 'happy',\n",
       " 'hard',\n",
       " 'hardships',\n",
       " 'harming',\n",
       " 'harmless',\n",
       " 'he',\n",
       " 'health',\n",
       " 'healthier',\n",
       " 'heard',\n",
       " 'heights',\n",
       " 'hell',\n",
       " 'help',\n",
       " 'helpful',\n",
       " 'helps',\n",
       " 'her',\n",
       " 'hero',\n",
       " 'higher',\n",
       " 'him',\n",
       " 'his',\n",
       " 'hopeful',\n",
       " 'however',\n",
       " 'hurt',\n",
       " 'i',\n",
       " 'idea',\n",
       " 'ideas',\n",
       " 'important',\n",
       " 'improved',\n",
       " 'in',\n",
       " 'individual',\n",
       " 'individuals',\n",
       " 'influences',\n",
       " 'inform',\n",
       " 'information',\n",
       " 'informed',\n",
       " 'informs',\n",
       " 'inhospitable',\n",
       " 'interested',\n",
       " 'internal',\n",
       " 'interpret',\n",
       " 'interview',\n",
       " 'interviewing',\n",
       " 'interviews',\n",
       " 'invited',\n",
       " 'it',\n",
       " 'jersey',\n",
       " 'joyful',\n",
       " 'joyous',\n",
       " 'judge',\n",
       " 'judgemental',\n",
       " 'judgment',\n",
       " 'keep',\n",
       " 'keeps',\n",
       " 'kidnapped',\n",
       " 'king',\n",
       " 'knew',\n",
       " 'know',\n",
       " 'knowing',\n",
       " 'knowledgeable',\n",
       " 'lad',\n",
       " 'last',\n",
       " 'latched',\n",
       " 'law',\n",
       " 'lawyer',\n",
       " 'lead',\n",
       " 'leading',\n",
       " 'learn',\n",
       " 'lectured',\n",
       " 'left',\n",
       " 'less',\n",
       " 'lesson',\n",
       " 'let',\n",
       " 'levels',\n",
       " 'life',\n",
       " 'like',\n",
       " 'likely',\n",
       " 'likes',\n",
       " 'likewise',\n",
       " 'listen',\n",
       " 'listened',\n",
       " 'listening',\n",
       " 'listens',\n",
       " 'little',\n",
       " 'lived',\n",
       " 'lives',\n",
       " 'local',\n",
       " 'long',\n",
       " 'longer',\n",
       " 'look',\n",
       " 'looking',\n",
       " 'looks',\n",
       " 'lot',\n",
       " 'loves',\n",
       " 'lunches',\n",
       " 'lungs',\n",
       " 'made',\n",
       " 'magician',\n",
       " 'make',\n",
       " 'makes',\n",
       " 'making',\n",
       " 'man',\n",
       " 'many',\n",
       " 'match',\n",
       " 'math',\n",
       " 'matter',\n",
       " 'may',\n",
       " 'me',\n",
       " 'meaning',\n",
       " 'media',\n",
       " 'meeting',\n",
       " 'member',\n",
       " 'members',\n",
       " 'menacing',\n",
       " 'mess',\n",
       " 'might',\n",
       " 'mind',\n",
       " 'mistake',\n",
       " 'mistakes',\n",
       " 'mom',\n",
       " 'moral',\n",
       " 'mother',\n",
       " 'much',\n",
       " 'mull',\n",
       " 'multiple',\n",
       " 'myths',\n",
       " 'name',\n",
       " 'nearest',\n",
       " 'need',\n",
       " 'needs',\n",
       " 'negative',\n",
       " 'new',\n",
       " 'news',\n",
       " 'next',\n",
       " 'nihilistic',\n",
       " 'now',\n",
       " 'obtaining',\n",
       " 'office',\n",
       " 'officer',\n",
       " 'often',\n",
       " 'one',\n",
       " 'open',\n",
       " 'opening',\n",
       " 'opinion',\n",
       " 'opinions',\n",
       " 'opportunities',\n",
       " 'option',\n",
       " 'or',\n",
       " 'oracle',\n",
       " 'order',\n",
       " 'organs',\n",
       " 'osiris',\n",
       " 'other',\n",
       " 'others',\n",
       " 'out',\n",
       " 'outcome',\n",
       " 'outshone',\n",
       " 'overwhelmed',\n",
       " 'paper',\n",
       " 'parents',\n",
       " 'party',\n",
       " 'past',\n",
       " 'path',\n",
       " 'people',\n",
       " 'peoples',\n",
       " 'percieve',\n",
       " 'perfect',\n",
       " 'perseus',\n",
       " 'person',\n",
       " 'persons',\n",
       " 'perspective',\n",
       " 'perspectives',\n",
       " 'pick',\n",
       " 'pills',\n",
       " 'places',\n",
       " 'plagued',\n",
       " 'planning',\n",
       " 'please',\n",
       " 'point',\n",
       " 'position',\n",
       " 'positive',\n",
       " 'potential',\n",
       " 'powerful',\n",
       " 'presence',\n",
       " 'president',\n",
       " 'pretty',\n",
       " 'prevent',\n",
       " 'probably',\n",
       " 'problem',\n",
       " 'product',\n",
       " 'professional',\n",
       " 'project',\n",
       " 'pros',\n",
       " 'prospective',\n",
       " 'push',\n",
       " 'python',\n",
       " 'random',\n",
       " 'rather',\n",
       " 'reach',\n",
       " 'reached',\n",
       " 'reaching',\n",
       " 'ready',\n",
       " 'realistic',\n",
       " 'really',\n",
       " 'reason',\n",
       " 'reasons',\n",
       " 'receive',\n",
       " 'receives',\n",
       " 'recess',\n",
       " 'recover',\n",
       " 'reform',\n",
       " 'refraining',\n",
       " 'regulations',\n",
       " 'related',\n",
       " 'relating',\n",
       " 'release',\n",
       " 'renowned',\n",
       " 'replacing',\n",
       " 'represent',\n",
       " 'reprimanded',\n",
       " 'researched',\n",
       " 'respected',\n",
       " 'result',\n",
       " 'results',\n",
       " 'right',\n",
       " 'ruin',\n",
       " 'ruined',\n",
       " 'rules',\n",
       " 'run',\n",
       " 'running',\n",
       " 's',\n",
       " 'safe',\n",
       " 'said',\n",
       " 'save',\n",
       " 'saved',\n",
       " 'saves',\n",
       " 'saw',\n",
       " 'say',\n",
       " 'school',\n",
       " 'schools',\n",
       " 'see',\n",
       " 'seek',\n",
       " 'seeking',\n",
       " 'seeming',\n",
       " 'seen',\n",
       " 'sekhmet',\n",
       " 'self',\n",
       " 'serious',\n",
       " 'served',\n",
       " 'set',\n",
       " 'severly',\n",
       " 'sharing',\n",
       " 'she',\n",
       " 'short',\n",
       " 'show',\n",
       " 'shown',\n",
       " 'shows',\n",
       " 'sibling',\n",
       " 'sign',\n",
       " 'significant',\n",
       " 'similar',\n",
       " 'similarily',\n",
       " 'simply',\n",
       " 'since',\n",
       " 'situation',\n",
       " 'situations',\n",
       " 'sixteen',\n",
       " 'skill',\n",
       " 'skills',\n",
       " 'slaying',\n",
       " 'slot',\n",
       " 'smoking',\n",
       " 'so',\n",
       " 'social',\n",
       " 'soldier',\n",
       " 'someone',\n",
       " 'someones',\n",
       " 'something',\n",
       " 'sometime',\n",
       " 'sometimes',\n",
       " 'special',\n",
       " 'speech',\n",
       " 'speeches',\n",
       " 'sports',\n",
       " 'stage',\n",
       " 'star',\n",
       " 'start',\n",
       " 'state',\n",
       " 'states',\n",
       " 'steadfast',\n",
       " 'stopped',\n",
       " 'stories',\n",
       " 'story',\n",
       " 'streets',\n",
       " 'stress',\n",
       " 'stressed',\n",
       " 'stride',\n",
       " 'struggling',\n",
       " 'stuck',\n",
       " 'student',\n",
       " 'students',\n",
       " 'studies',\n",
       " 'studying',\n",
       " 'successful',\n",
       " 'successfully',\n",
       " 'suffering',\n",
       " 'supposed',\n",
       " 'supreme',\n",
       " 'sure',\n",
       " 'sway',\n",
       " 't',\n",
       " 'tackle',\n",
       " 'take',\n",
       " 'taken',\n",
       " 'taking',\n",
       " 'talk',\n",
       " 'talked',\n",
       " 'talking',\n",
       " 'teach',\n",
       " 'teacher',\n",
       " 'tell',\n",
       " 'telling',\n",
       " 'term',\n",
       " 'test',\n",
       " 'thankfully',\n",
       " 'thanks',\n",
       " 'that',\n",
       " 'the',\n",
       " 'them',\n",
       " 'themseleves',\n",
       " 'then',\n",
       " 'there',\n",
       " 'therefore',\n",
       " 'they',\n",
       " 'thing',\n",
       " 'things',\n",
       " 'think',\n",
       " 'thought',\n",
       " 'throw',\n",
       " 'time',\n",
       " 'times',\n",
       " 'told',\n",
       " 'topic',\n",
       " 'toward',\n",
       " 'towards',\n",
       " 'tradition',\n",
       " 'tricks',\n",
       " 'true',\n",
       " 'trying',\n",
       " 'tv',\n",
       " 'type',\n",
       " 'u',\n",
       " 'understand',\n",
       " 'underworld',\n",
       " 'unhappy',\n",
       " 'unhealthy',\n",
       " 'uniformed',\n",
       " 'united',\n",
       " 'up',\n",
       " 'us',\n",
       " 'use',\n",
       " 'useless',\n",
       " 'variety',\n",
       " 'version',\n",
       " 'view',\n",
       " 'viewed',\n",
       " 'views',\n",
       " 'voting',\n",
       " 'walk',\n",
       " 'walked',\n",
       " 'walking',\n",
       " 'want',\n",
       " 'wanted',\n",
       " 'wasnt',\n",
       " 'watch',\n",
       " 'water',\n",
       " 'way',\n",
       " 'ways',\n",
       " 'well',\n",
       " 'whether',\n",
       " 'whole',\n",
       " 'whose',\n",
       " 'widespread',\n",
       " 'wild',\n",
       " 'with',\n",
       " 'words',\n",
       " 'world',\n",
       " 'worse',\n",
       " 'would',\n",
       " 'wouldnt',\n",
       " 'wrong',\n",
       " 'ww2',\n",
       " 'you',\n",
       " 'young',\n",
       " 'your',\n",
       " 'yourself']"
      ]
     },
     "execution_count": 25,
     "metadata": {},
     "output_type": "execute_result"
    }
   ],
   "source": [
    "features = tfidf_vect.get_feature_names()\n",
    "features"
   ]
  },
  {
   "cell_type": "markdown",
   "metadata": {},
   "source": [
    "## ML Models"
   ]
  },
  {
   "cell_type": "code",
   "execution_count": 26,
   "metadata": {},
   "outputs": [],
   "source": [
    "cv = KFold(n_splits=10, random_state=1, shuffle=True)"
   ]
  },
  {
   "cell_type": "markdown",
   "metadata": {},
   "source": [
    "### Random Forest Classifier"
   ]
  },
  {
   "cell_type": "code",
   "execution_count": 28,
   "metadata": {},
   "outputs": [],
   "source": [
    "rf_model = RandomForestClassifier(n_estimators = 10, criterion = 'entropy', random_state = 42)"
   ]
  },
  {
   "cell_type": "code",
   "execution_count": 16,
   "metadata": {},
   "outputs": [],
   "source": [
    "scores = cross_val_score(rf_model, train_tfidf, train['discourse_type'], scoring='accuracy', cv=cv)"
   ]
  },
  {
   "cell_type": "code",
   "execution_count": 19,
   "metadata": {},
   "outputs": [
    {
     "name": "stdout",
     "output_type": "stream",
     "text": [
      "Accuracy: 0.624 (0.004)\n"
     ]
    }
   ],
   "source": [
    "print('Accuracy: %.3f (%.3f)' % (np.mean(scores), np.std(scores)))"
   ]
  },
  {
   "cell_type": "code",
   "execution_count": 29,
   "metadata": {},
   "outputs": [
    {
     "name": "stdout",
     "output_type": "stream",
     "text": [
      "CPU times: user 58.5 s, sys: 135 ms, total: 58.7 s\n",
      "Wall time: 58.7 s\n"
     ]
    },
    {
     "data": {
      "text/plain": [
       "RandomForestClassifier(bootstrap=True, ccp_alpha=0.0, class_weight=None,\n",
       "                       criterion='entropy', max_depth=None, max_features='auto',\n",
       "                       max_leaf_nodes=None, max_samples=None,\n",
       "                       min_impurity_decrease=0.0, min_impurity_split=None,\n",
       "                       min_samples_leaf=1, min_samples_split=2,\n",
       "                       min_weight_fraction_leaf=0.0, n_estimators=10,\n",
       "                       n_jobs=None, oob_score=False, random_state=42, verbose=0,\n",
       "                       warm_start=False)"
      ]
     },
     "execution_count": 29,
     "metadata": {},
     "output_type": "execute_result"
    }
   ],
   "source": [
    "%%time\n",
    "rf_model.fit(train_tfidf, train['discourse_type'])"
   ]
  },
  {
   "cell_type": "code",
   "execution_count": 33,
   "metadata": {},
   "outputs": [
    {
     "data": {
      "text/plain": [
       "(55, 650)"
      ]
     },
     "execution_count": 33,
     "metadata": {},
     "output_type": "execute_result"
    }
   ],
   "source": [
    "test_tfidf.shape"
   ]
  },
  {
   "cell_type": "code",
   "execution_count": 35,
   "metadata": {},
   "outputs": [],
   "source": [
    "rf_pred = rf_model.predict(test_tfidf) "
   ]
  },
  {
   "cell_type": "code",
   "execution_count": 37,
   "metadata": {},
   "outputs": [
    {
     "data": {
      "text/plain": [
       "(55,)"
      ]
     },
     "execution_count": 37,
     "metadata": {},
     "output_type": "execute_result"
    }
   ],
   "source": [
    "rf_pred.shape"
   ]
  },
  {
   "cell_type": "markdown",
   "metadata": {},
   "source": [
    "## Submission"
   ]
  },
  {
   "cell_type": "code",
   "execution_count": 41,
   "metadata": {},
   "outputs": [],
   "source": [
    "submission_df = pd.DataFrame()\n",
    "submission_df['id'] = test['discourse_id']\n",
    "submission_df['class'] = rf_pred# label of y_predict\n",
    "submission_df['predictionstring'] = test['predictionstring']\n"
   ]
  },
  {
   "cell_type": "code",
   "execution_count": 42,
   "metadata": {},
   "outputs": [
    {
     "data": {
      "text/html": [
       "<div>\n",
       "<style scoped>\n",
       "    .dataframe tbody tr th:only-of-type {\n",
       "        vertical-align: middle;\n",
       "    }\n",
       "\n",
       "    .dataframe tbody tr th {\n",
       "        vertical-align: top;\n",
       "    }\n",
       "\n",
       "    .dataframe thead th {\n",
       "        text-align: right;\n",
       "    }\n",
       "</style>\n",
       "<table border=\"1\" class=\"dataframe\">\n",
       "  <thead>\n",
       "    <tr style=\"text-align: right;\">\n",
       "      <th></th>\n",
       "      <th>id</th>\n",
       "      <th>class</th>\n",
       "      <th>predictionstring</th>\n",
       "    </tr>\n",
       "  </thead>\n",
       "  <tbody>\n",
       "    <tr>\n",
       "      <th>0</th>\n",
       "      <td>DF920E0A7337</td>\n",
       "      <td>Lead</td>\n",
       "      <td>1 2 3 4 5 6 7 8 9 10 11 12 13 14 15 16 17 18 1...</td>\n",
       "    </tr>\n",
       "    <tr>\n",
       "      <th>1</th>\n",
       "      <td>DF920E0A7337</td>\n",
       "      <td>Lead</td>\n",
       "      <td>43 44 45 46 47 48 49 50 51 52 53 54 55 56 57 5...</td>\n",
       "    </tr>\n",
       "    <tr>\n",
       "      <th>2</th>\n",
       "      <td>DF920E0A7337</td>\n",
       "      <td>Evidence</td>\n",
       "      <td>109 110 111 112 113 114 115 116 117 118 119 12...</td>\n",
       "    </tr>\n",
       "    <tr>\n",
       "      <th>3</th>\n",
       "      <td>DF920E0A7337</td>\n",
       "      <td>Evidence</td>\n",
       "      <td>220 221 222 223 224 225 226 227 228 229 230 23...</td>\n",
       "    </tr>\n",
       "    <tr>\n",
       "      <th>4</th>\n",
       "      <td>DF920E0A7337</td>\n",
       "      <td>Concluding Statement</td>\n",
       "      <td>302 303 304 305 306 307 308 309 310 311 312 31...</td>\n",
       "    </tr>\n",
       "  </tbody>\n",
       "</table>\n",
       "</div>"
      ],
      "text/plain": [
       "             id                 class  \\\n",
       "0  DF920E0A7337                  Lead   \n",
       "1  DF920E0A7337                  Lead   \n",
       "2  DF920E0A7337              Evidence   \n",
       "3  DF920E0A7337              Evidence   \n",
       "4  DF920E0A7337  Concluding Statement   \n",
       "\n",
       "                                    predictionstring  \n",
       "0  1 2 3 4 5 6 7 8 9 10 11 12 13 14 15 16 17 18 1...  \n",
       "1  43 44 45 46 47 48 49 50 51 52 53 54 55 56 57 5...  \n",
       "2  109 110 111 112 113 114 115 116 117 118 119 12...  \n",
       "3  220 221 222 223 224 225 226 227 228 229 230 23...  \n",
       "4  302 303 304 305 306 307 308 309 310 311 312 31...  "
      ]
     },
     "execution_count": 42,
     "metadata": {},
     "output_type": "execute_result"
    }
   ],
   "source": [
    "submission_df.head()"
   ]
  },
  {
   "cell_type": "code",
   "execution_count": 44,
   "metadata": {},
   "outputs": [],
   "source": [
    "submission_df.to_csv('../../kaggle_out_data/feedback_prize_tfidf_rf.csv', index=False)"
   ]
  }
 ],
 "metadata": {
  "kernelspec": {
   "display_name": "Python 3",
   "language": "python",
   "name": "python3"
  },
  "language_info": {
   "codemirror_mode": {
    "name": "ipython",
    "version": 3
   },
   "file_extension": ".py",
   "mimetype": "text/x-python",
   "name": "python",
   "nbconvert_exporter": "python",
   "pygments_lexer": "ipython3",
   "version": "3.7.4"
  }
 },
 "nbformat": 4,
 "nbformat_minor": 4
}
